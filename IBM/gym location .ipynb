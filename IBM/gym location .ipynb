{
 "cells": [
  {
   "cell_type": "markdown",
   "metadata": {},
   "source": [
    "<h1> GYM LOCATION </h1>\n",
    "<h3>first we download population data from Tunisian National Institut of Statistics </h3>\n",
    "<h4> the link : <a href='http://www.ins.nat.tn/'>http://www.ins.nat.tn/ </a></h4>\n",
    "<h3>after that we read the data </h3>   "
   ]
  },
  {
   "cell_type": "code",
   "execution_count": null,
   "metadata": {},
   "outputs": [],
   "source": [
    "import types\n",
    "import pandas as pd\n",
    "from botocore.client import Config\n",
    "import ibm_boto3\n",
    "import requests # library to handle requests\n",
    "import numpy as np # library to handle data in a vectorized manner\n",
    "import random # library for random number generation\n",
    "\n",
    "#!pip install geopy \n",
    "from geopy.geocoders import Nominatim # module to convert an address into latitude and longitude values\n",
    "\n",
    "# libraries for displaying images\n",
    "from IPython.display import Image \n",
    "from IPython.core.display import HTML \n",
    "    \n",
    "# tranforming json file into a pandas dataframe library\n",
    "from pandas.io.json import json_normalize\n",
    "\n",
    "\n",
    "def __iter__(self): return 0\n",
    "\n",
    "# @hidden_cell\n",
    "# The following code accesses a file in your IBM Cloud Object Storage. It includes your credentials.\n",
    "# You might want to remove those credentials before you share the notebook.\n",
    "client_bf3fbce9934b4b5eb2c79a5b6d99b278 = ibm_boto3.client(service_name='s3',\n",
    "    ibm_api_key_id='tOlx8rKUKa_6Cvw02Y946kgSvCm9VEkeiXfwNIjuN1zj',\n",
    "    ibm_auth_endpoint=\"https://iam.eu-gb.bluemix.net/oidc/token\",\n",
    "    config=Config(signature_version='oauth'),\n",
    "    endpoint_url='https://s3.eu-geo.objectstorage.service.networklayer.com')\n",
    "\n",
    "body = client_bf3fbce9934b4b5eb2c79a5b6d99b278.get_object(Bucket='capstoneproject-donotdelete-pr-qukq1xbxwbzoou',Key='population_tunis.xlsx')['Body']\n",
    "body1 = client_bf3fbce9934b4b5eb2c79a5b6d99b278.get_object(Bucket='capstoneproject-donotdelete-pr-qukq1xbxwbzoou',Key='Tunisian_municipality.json')['Body']\n",
    "# add missing __iter__ method, so pandas accepts body as file-like object\n",
    "if not hasattr(body, \"__iter__\"): body.__iter__ = types.MethodType( __iter__, body )\n",
    "if not hasattr(body1, \"__iter__\"): body1.__iter__ = types.MethodType( __iter__, body1 )\n",
    "    \n",
    "    \n",
    "CLIENT_ID = 'HGIAJWFJ1SFIEKZV404RF5PJMAT4OCHUSFJPERF4TG1TNBEU' # your Foursquare ID\n",
    "CLIENT_SECRET = 'HNVFNQTOLDZKALTVB3OUZINTTUII1VFJQCRMZGIUD3TIORDO' # your Foursquare Secret\n",
    "VERSION = '20180604'\n",
    "LIMIT = 30\n",
    "\n",
    "\n",
    "df= pd.read_excel(body)\n",
    "df.head()\n"
   ]
  },
  {
   "cell_type": "code",
   "execution_count": null,
   "metadata": {},
   "outputs": [],
   "source": [
    "import io\n",
    "import ibm_boto3\n",
    "\n",
    "client = ibm_boto3.client(service_name='s3',\n",
    "    ibm_api_key_id='tOlx8rKUKa_6Cvw02Y946kgSvCm9VEkeiXfwNIjuN1zj',\n",
    "    ibm_auth_endpoint=\"https://iam.eu-gb.bluemix.net/oidc/token\",\n",
    "    config=Config(signature_version='oauth'),\n",
    "    endpoint_url='https://s3.eu-geo.objectstorage.service.networklayer.com')\n",
    "\n",
    "bytes_buffer = io.BytesIO()\n",
    "client.download_fileobj(Bucket='capstoneproject-donotdelete-pr-qukq1xbxwbzoou', Key='Tunis.geojson', Fileobj=bytes_buffer)\n",
    "byte_value = bytes_buffer.getvalue()\n",
    "str_value = byte_value.decode()\n",
    "\n",
    "import json\n",
    "\n",
    "d = json.loads(str_value)\n",
    "d"
   ]
  },
  {
   "cell_type": "markdown",
   "metadata": {},
   "source": [
    "<h3>we use this data to find wich neighbourhood have the highest % population with age between 15 to 50 (gym visitor) </h3>\n",
    "<h2>but first , we must clean the data </h2>"
   ]
  },
  {
   "cell_type": "code",
   "execution_count": null,
   "metadata": {},
   "outputs": [],
   "source": [
    "#delete Unnamed row\n",
    "df.iloc[0][0]='Neighborhood'\n",
    "new_header = df.iloc[0]\n",
    "df = df[1:]\n",
    "for x in range (len(new_header)) :\n",
    "    new_header[x]=new_header[x].replace('\\n', \"\")\n",
    "    new_header[x]=new_header[x].replace('ans', \"year\")\n",
    "\n",
    "\n",
    "df.columns =new_header\n",
    "df.head()"
   ]
  },
  {
   "cell_type": "markdown",
   "metadata": {},
   "source": [
    "<h3>Select our target by age</h3>"
   ]
  },
  {
   "cell_type": "code",
   "execution_count": null,
   "metadata": {},
   "outputs": [],
   "source": [
    "df1=df.iloc[: , [0, 4,5,6,7]]\n",
    "df1.head()"
   ]
  },
  {
   "cell_type": "code",
   "execution_count": null,
   "metadata": {},
   "outputs": [],
   "source": [
    "s=[0]\n",
    "for i in range (len(df1)):\n",
    "    s.append(df1.iloc[i,1:5].sum())\n",
    "\n",
    "df1['age_value_sum']=pd.DataFrame(s)\n",
    "df1.head()"
   ]
  },
  {
   "cell_type": "markdown",
   "metadata": {},
   "source": [
    "<h3>now we search the coordinate of neighobrhoods </h3>"
   ]
  },
  {
   "cell_type": "code",
   "execution_count": null,
   "metadata": {},
   "outputs": [],
   "source": [
    "import numpy as np\n",
    "df1['latitude']=pd.Series([0] * 24)\n",
    "df1['longitude']=pd.Series([0] * 24)\n",
    "df1\n"
   ]
  },
  {
   "cell_type": "code",
   "execution_count": null,
   "metadata": {},
   "outputs": [],
   "source": [
    "from geopy.geocoders import Nominatim\n",
    "for i in range (1,len(df1)-1):\n",
    "    \n",
    "    address = df1['Neighborhood'][i]+',Tunis,Tunisia'\n",
    "    geolocator = Nominatim(user_agent=\"foursquare_agent\")\n",
    "    location = geolocator.geocode(address)\n",
    "    \n",
    "    if location:\n",
    "        df1['latitude'][i] = location.latitude\n",
    "        df1['longitude'][i] = location.longitude\n",
    "        \n",
    "    else:\n",
    "        df1['latitude'][i] = 'None'\n",
    "        df1['longitude'][i] = 'None'\n",
    "        print('we cant find the location of :',address)\n",
    "        \n",
    "        \n",
    "        "
   ]
  },
  {
   "cell_type": "code",
   "execution_count": null,
   "metadata": {},
   "outputs": [],
   "source": [
    "df1"
   ]
  },
  {
   "cell_type": "markdown",
   "metadata": {},
   "source": [
    "<h3>we delete neighborhood who hasn't a location in this dataFrame</h3>\n",
    "<h4 color ='red'>NB :if we use an other API or we collect more data may be we find the location of all neighborhood</h4>"
   ]
  },
  {
   "cell_type": "code",
   "execution_count": null,
   "metadata": {},
   "outputs": [],
   "source": [
    "df1 = df1.replace(to_replace='None', value=np.nan).dropna()\n",
    "df1.drop([22,23],inplace=True)"
   ]
  },
  {
   "cell_type": "code",
   "execution_count": null,
   "metadata": {},
   "outputs": [],
   "source": [
    "df1.iloc[0, df1.columns.get_loc('latitude')] = 36.858154708278946\n",
    "df1.iloc[0, df1.columns.get_loc('longitude')]=10.336781933624707\n",
    "df1.iloc[1, df1.columns.get_loc('latitude')]=36.80761234097368\n",
    "df1.iloc[1, df1.columns.get_loc('longitude')]=10.171900016252494\n",
    "df1.iloc[2, df1.columns.get_loc('latitude')]=36.796856828491784\n",
    "df1.iloc[2, df1.columns.get_loc('longitude')]=10.176148635332083\n",
    "df1.iloc[3, df1.columns.get_loc('latitude')]=36.8044465832733\n",
    "df1.iloc[3, df1.columns.get_loc('longitude')]=10.16555100837445\n",
    "df1.iloc[4, df1.columns.get_loc('latitude')]=36.81616301530516\n",
    "df1.iloc[4, df1.columns.get_loc('longitude')]=10.162096323163269\n",
    "df1.head()"
   ]
  },
  {
   "cell_type": "code",
   "execution_count": null,
   "metadata": {},
   "outputs": [],
   "source": [
    "df1=df1.sort_values(by=['age_value_sum'],ascending=False)\n",
    "  \n",
    "\n"
   ]
  },
  {
   "cell_type": "code",
   "execution_count": null,
   "metadata": {},
   "outputs": [],
   "source": [
    "!pip install folium\n",
    "import folium\n",
    "from folium import plugins\n",
    "#state_geo = 'https://www.data4tunisia.org/s/resources/tunisian-map-shapefiles-1/20180421-172936/Tunisian_municipality.geojson'\n",
    "m = folium.Map(location=[36, 10], zoom_start=7)\n",
    "\n",
    "# Add the color for the chloropleth:\n",
    "\"\"\"m.choropleth(\n",
    " geo_data=d,\n",
    " name='choropleth',\n",
    " data=df1,\n",
    " columns=['Neighborhood', 'age_value_sum'],\n",
    " key_on='properties.NAME_EN',\n",
    " fill_color='YlGn',\n",
    " fill_opacity=0.8,\n",
    " line_opacity=0.2,\n",
    " legend_name='population'\n",
    ")\n",
    "folium.LayerControl().add_to(m)\"\"\"\n",
    "\n",
    "\n",
    "incidents = folium.plugins.MarkerCluster().add_to(m)\n",
    "opc=0.8\n",
    "i=0\n",
    "clr='green'\n",
    "for lat, lng, label in zip(df1.latitude, df1.longitude, df1.Neighborhood):\n",
    "    i=i+1\n",
    "    if i>6 :\n",
    "        clr='red'\n",
    "        opc=i*0.1-0.5\n",
    "    else:\n",
    "        opc=opc-0.05\n",
    "    folium.CircleMarker(\n",
    "        [lat, lng],\n",
    "        radius=25,\n",
    "        color=clr,\n",
    "        popup=label,\n",
    "        fill = True,\n",
    "        fill_color=clr,\n",
    "        fill_opacity=opc\n",
    "    ).add_to(m)\n",
    "\n",
    "m\n"
   ]
  },
  {
   "cell_type": "code",
   "execution_count": null,
   "metadata": {},
   "outputs": [],
   "source": [
    "latitude =36.807612\n",
    "longitude =10.171900\n",
    "search_query = 'gym'\n",
    "radius = 10000\n",
    "url = 'https://api.foursquare.com/v2/venues/search?client_id={}&client_secret={}&ll={},{}&v={}&query={}&radius={}&limit={}'.format(CLIENT_ID, CLIENT_SECRET, latitude, longitude, VERSION, search_query, radius, LIMIT)\n",
    "url"
   ]
  },
  {
   "cell_type": "code",
   "execution_count": null,
   "metadata": {},
   "outputs": [],
   "source": [
    "import requests\n",
    "results = requests.get(url).json()\n",
    "results"
   ]
  },
  {
   "cell_type": "code",
   "execution_count": null,
   "metadata": {},
   "outputs": [],
   "source": [
    "# assign relevant part of JSON to venues\n",
    "venues = results['response']['venues']\n",
    "\n",
    "# tranform venues into a dataframe\n",
    "dataframe = json_normalize(venues)\n",
    "dataframe.head()"
   ]
  },
  {
   "cell_type": "code",
   "execution_count": null,
   "metadata": {},
   "outputs": [],
   "source": [
    "# keep only columns that include venue name, and anything that is associated with location\n",
    "filtered_columns = ['name', 'categories'] + [col for col in dataframe.columns if col.startswith('location.')] + ['id']\n",
    "dataframe_filtered = dataframe.loc[:, filtered_columns]\n",
    "\n",
    "# function that extracts the category of the venue\n",
    "def get_category_type(row):\n",
    "    try:\n",
    "        categories_list = row['categories']\n",
    "    except:\n",
    "        categories_list = row['venue.categories']\n",
    "        \n",
    "    if len(categories_list) == 0:\n",
    "        return None\n",
    "    else:\n",
    "        return categories_list[0]['name']\n",
    "\n",
    "# filter the category for each row\n",
    "dataframe_filtered['categories'] = dataframe_filtered.apply(get_category_type, axis=1)\n",
    "\n",
    "# clean column names by keeping only last term\n",
    "dataframe_filtered.columns = [column.split('.')[-1] for column in dataframe_filtered.columns]\n",
    "\n",
    "dataframe_filtered"
   ]
  },
  {
   "cell_type": "code",
   "execution_count": null,
   "metadata": {},
   "outputs": [],
   "source": [
    "latitude =36.847999\n",
    "longitude =10.294356\n",
    "search_query = 'gym'\n",
    "radius = 10000\n",
    "url = 'https://api.foursquare.com/v2/venues/search?client_id={}&client_secret={}&ll={},{}&v={}&query={}&radius={}&limit={}'.format(CLIENT_ID, CLIENT_SECRET, latitude, longitude, VERSION, search_query, radius, LIMIT)\n",
    "results = requests.get(url).json()\n",
    "venues = results['response']['venues']\n",
    "dataframe = json_normalize(venues)\n",
    "filtered_columns = ['name', 'categories'] + [col for col in dataframe.columns if col.startswith('location.')] + ['id']\n",
    "dataframe_filtered1 = dataframe.loc[:, filtered_columns]\n",
    "\n",
    "# function that extracts the category of the venue\n",
    "def get_category_type(row):\n",
    "    try:\n",
    "        categories_list = row['categories']\n",
    "    except:\n",
    "        categories_list = row['venue.categories']\n",
    "        \n",
    "    if len(categories_list) == 0:\n",
    "        return None\n",
    "    else:\n",
    "        return categories_list[0]['name']\n",
    "\n",
    "# filter the category for each row\n",
    "dataframe_filtered1['categories'] = dataframe_filtered1.apply(get_category_type, axis=1)\n",
    "\n",
    "# clean column names by keeping only last term\n",
    "dataframe_filtered1.columns = [column.split('.')[-1] for column in dataframe_filtered1.columns]\n",
    "\n",
    "dataframe_filtered1"
   ]
  },
  {
   "cell_type": "code",
   "execution_count": null,
   "metadata": {},
   "outputs": [],
   "source": []
  },
  {
   "cell_type": "code",
   "execution_count": null,
   "metadata": {},
   "outputs": [],
   "source": []
  },
  {
   "cell_type": "code",
   "execution_count": null,
   "metadata": {},
   "outputs": [],
   "source": []
  },
  {
   "cell_type": "code",
   "execution_count": null,
   "metadata": {},
   "outputs": [],
   "source": [
    "\n",
    "# add the Italian restaurants as blue circle markers\n",
    "for lat, lng, label in zip(dataframe_filtered1.lat, dataframe_filtered1.lng, dataframe_filtered1.categories):\n",
    "    folium.CircleMarker(\n",
    "        [lat, lng],\n",
    "        radius=5,\n",
    "        color='red',\n",
    "        popup=label,\n",
    "        fill = True,\n",
    "        fill_color='red',\n",
    "        fill_opacity=0.6\n",
    "    ).add_to(m)\n",
    "for lat, lng, label in zip(dataframe_filtered1.lat, dataframe_filtered1.lng, dataframe_filtered1.categories):\n",
    "    folium.Marker(\n",
    "        location=[lat, lng],\n",
    "        icon=None,\n",
    "        popup=label,\n",
    "    ).add_to(m)\n",
    "# display map\n",
    "m"
   ]
  },
  {
   "cell_type": "code",
   "execution_count": null,
   "metadata": {},
   "outputs": [],
   "source": [
    "x= folium.Map(location=[36, 10], zoom_start=7)\n",
    "for lat, lng, label in zip(dataframe_filtered1.lat, dataframe_filtered1.lng, dataframe_filtered1.categories):\n",
    "    folium.Marker(\n",
    "        location=[lat, lng],\n",
    "        icon=None,\n",
    "        popup=label,\n",
    "    ).add_to(x)\n",
    "# display map\n",
    "x"
   ]
  },
  {
   "cell_type": "code",
   "execution_count": null,
   "metadata": {},
   "outputs": [],
   "source": []
  },
  {
   "cell_type": "code",
   "execution_count": null,
   "metadata": {},
   "outputs": [],
   "source": []
  }
 ],
 "metadata": {
  "celltoolbar": "Format de la Cellule Texte Brut",
  "kernelspec": {
   "display_name": "Python 3",
   "language": "python",
   "name": "python3"
  },
  "language_info": {
   "codemirror_mode": {
    "name": "ipython",
    "version": 3
   },
   "file_extension": ".py",
   "mimetype": "text/x-python",
   "name": "python",
   "nbconvert_exporter": "python",
   "pygments_lexer": "ipython3",
   "version": "3.7.6"
  }
 },
 "nbformat": 4,
 "nbformat_minor": 4
}
