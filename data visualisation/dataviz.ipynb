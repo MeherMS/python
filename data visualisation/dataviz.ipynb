{
 "cells": [
  {
   "cell_type": "code",
   "execution_count": null,
   "metadata": {},
   "outputs": [],
   "source": [
    "#!pip install mysql-connector-python"
   ]
  },
  {
   "cell_type": "code",
   "execution_count": 1,
   "metadata": {},
   "outputs": [],
   "source": [
    "import pandas as pd \n",
    "import numpy as np\n",
    "#import matplotlib.pyplot as plt\n",
    "#from sklearn.model_selection import train_test_split\n",
    "from datetime import datetime\n",
    "import random"
   ]
  },
  {
   "cell_type": "code",
   "execution_count": 2,
   "metadata": {},
   "outputs": [
    {
     "name": "stdout",
     "output_type": "stream",
     "text": [
      "MySQL connection is closed\n"
     ]
    }
   ],
   "source": [
    "import mysql.connector\n",
    "from mysql.connector import Error\n",
    "records=[]\n",
    "try:\n",
    "    connection = mysql.connector.connect(host='localhost',\n",
    "                                         database='optimatets', \n",
    "                                         user='root',\n",
    "                                         password='')\n",
    "    sql_select_Query=[]\n",
    "    sql_select_Query.append( \"select * from bookings\")\n",
    "    sql_select_Query.append(\"select * from vehicles\")\n",
    "    for req in sql_select_Query:\n",
    "        cursor = connection.cursor()\n",
    "        cursor.execute(req)\n",
    "        records.append( cursor.fetchall())    \n",
    "\n",
    "except Error as e:\n",
    "    print(\"Error reading data from MySQL table\", e)\n",
    "finally:\n",
    "    if (connection.is_connected()):\n",
    "        connection.close()\n",
    "        cursor.close()\n",
    "        print(\"MySQL connection is closed\")"
   ]
  },
  {
   "cell_type": "code",
   "execution_count": 3,
   "metadata": {},
   "outputs": [],
   "source": [
    "bookings=pd.DataFrame(records[0],columns=['id', 'book_type', 'promo_id' , 'type_id' , 'accept_status', 'total_weight', 'company_id', 'date_time', 'user_id', 'vehicle_id', 'driver_id', 'customer_id', 'pickup', 'dropoff', 'duration', 'pickup_addr', 'dest_addr','note', 'travellers', 'status', 'payment', 'created_at', 'updated_at', 'deleted_at'])\n",
    "vehicles=pd.DataFrame(records[1],columns=['id', 'department_id', 'company_id', 'make', 'model', 'type', 'year', 'group_id', 'lic_exp_date', 'reg_exp_date', 'vehicle_image', 'engine_type', 'horse_power', 'color', 'vin', 'license_plate', 'mileage', 'in_service', 'user_id', 'created_at', 'updated_at', 'deleted_at', 'int_mileage', 'type_id'])"
   ]
  },
  {
   "cell_type": "markdown",
   "metadata": {},
   "source": [
    "<h1> adress data normalisation <h1>"
   ]
  },
  {
   "cell_type": "code",
   "execution_count": 4,
   "metadata": {},
   "outputs": [],
   "source": [
    "region=['Tunis','Manouba','ben arous',\n",
    "        'ariana',' Bizerte','beja', 'jandouba', 'nabeul' , 'zaghouane', 'silana', 'kef' ,\n",
    "        'kasserine' , 'kairouane' , 'Sousse' , 'monastir', 'Mahdia' , 'Sfax' , 'sidi' 'bouzid' , 'gafsa' ,\n",
    "        'touzeur', 'kbeli' , 'gabes' , 'mednine' ,'tataouine']\n",
    "region=[x.upper() for x in region]\n",
    "destination_adress= bookings['dest_addr'] \n",
    "depart_adress = bookings['pickup_addr']\n",
    "\n",
    "def adressNormalisation(col):\n",
    "    i=0\n",
    "    lista=[]\n",
    "    adr=''\n",
    "    for phrase in col:\n",
    "        verif=False\n",
    "        for adrs in region:\n",
    "            if adrs in phrase.upper():\n",
    "                verif=True\n",
    "                adr=adrs\n",
    "        if verif==True :\n",
    "                #lista.append([i,phrase,adr])\n",
    "                lista.append([adr])\n",
    "\n",
    "        else : \n",
    "                #lista.append([i,phrase,random.choice(region)])\n",
    "                lista.append([random.choice(region)])\n",
    "\n",
    "\n",
    "        i=i+1\n",
    "\n",
    "\n",
    "    return pd.DataFrame(lista, columns=['new_'+col.name])\n",
    "\n",
    "bookings['pickup_addr']=adressNormalisation(bookings['pickup_addr'])\n",
    "bookings['dest_addr']=adressNormalisation(bookings['dest_addr'])"
   ]
  },
  {
   "cell_type": "code",
   "execution_count": 5,
   "metadata": {},
   "outputs": [],
   "source": [
    "def  maxDate(df):\n",
    "    lista=[]\n",
    "    for i in range(len(df['date_time'])):\n",
    "        lista.append(datetime.timestamp(df['date_time'][i]))\n",
    "    return max(lista)\n",
    "\n",
    "def addRow(df1,date_time):\n",
    "    row = df1.sample()\n",
    "    row['date_time']=date_time\n",
    "    df1=df1.append(row)\n",
    "    return df1\n",
    "            \n",
    "\n",
    "def fillDatabase(df1):\n",
    "    now = datetime.timestamp(datetime.now())\n",
    "    max_date=maxDate(df1)+ 76522\n",
    "    day = max_date\n",
    "    cpt=0\n",
    "    while now> day :\n",
    "        day=day+86400\n",
    "        max_date=day+random.randint(39600,86339)\n",
    "        df1=addRow(df1,datetime.fromtimestamp(max_date))\n",
    "        cpt=cpt+1\n",
    "        \n",
    "        for i in range(random.randint(0,5)):\n",
    "            max_date=day+random.randint(21600,39600)\n",
    "            #print(datetime.fromtimestamp(max_date))\n",
    "            df1=addRow(df1,datetime.fromtimestamp(max_date))\n",
    "            cpt=cpt+1\n",
    "            \n",
    "            for j in range(random.randint(0,3)):\n",
    "                max_date=day+random.randint(0,21600)\n",
    "                #print(datetime.fromtimestamp(max_date))\n",
    "                df1=addRow(df1,datetime.fromtimestamp(max_date))\n",
    "                cpt=cpt+1\n",
    "                \n",
    "    print(cpt ,\"rows added !\")        \n",
    "   \n",
    "                    \n",
    "                \n",
    "       \n",
    "    return df1\n",
    "   \n",
    "def getVihicleByAdress(df2, adress):\n",
    "    df2=df2.dropna(subset=[\"vehicle_id\"])\n",
    "    df2=df2.groupby('pickup_addr')['vehicle_id'].apply(list)\n",
    "    x=list(set(df2[adress]))\n",
    "    return random.choice(x)\n",
    " \n",
    "for i in range(len(bookings['vehicle_id'])):\n",
    "    if np.isnan(bookings['vehicle_id'].values[i]):\n",
    "        bookings['vehicle_id'].values[i]=getVihicleByAdress(bookings,bookings['pickup_addr'].iloc[i])    \n",
    "  "
   ]
  },
  {
   "cell_type": "code",
   "execution_count": 6,
   "metadata": {},
   "outputs": [
    {
     "name": "stdout",
     "output_type": "stream",
     "text": [
      "1865 rows added !\n"
     ]
    },
    {
     "data": {
      "text/plain": [
       "(2062, 24)"
      ]
     },
     "execution_count": 6,
     "metadata": {},
     "output_type": "execute_result"
    }
   ],
   "source": [
    "bookings=fillDatabase(bookings)  \n",
    "bookings.shape"
   ]
  },
  {
   "cell_type": "code",
   "execution_count": 7,
   "metadata": {},
   "outputs": [],
   "source": [
    "df = pd.DataFrame()\n",
    "df['Datetime'] = bookings['date_time']\n",
    "for i in range(len(bookings)):\n",
    "    \n",
    "    bookings['Year'] = df.Datetime.dt.year\n",
    "    bookings['Month'] = df.Datetime.dt.month\n",
    "    bookings['Day'] = df.Datetime.dt.day"
   ]
  },
  {
   "cell_type": "code",
   "execution_count": 8,
   "metadata": {},
   "outputs": [
    {
     "data": {
      "text/html": [
       "<div>\n",
       "<style scoped>\n",
       "    .dataframe tbody tr th:only-of-type {\n",
       "        vertical-align: middle;\n",
       "    }\n",
       "\n",
       "    .dataframe tbody tr th {\n",
       "        vertical-align: top;\n",
       "    }\n",
       "\n",
       "    .dataframe thead th {\n",
       "        text-align: right;\n",
       "    }\n",
       "</style>\n",
       "<table border=\"1\" class=\"dataframe\">\n",
       "  <thead>\n",
       "    <tr style=\"text-align: right;\">\n",
       "      <th></th>\n",
       "      <th>Month</th>\n",
       "    </tr>\n",
       "  </thead>\n",
       "  <tbody>\n",
       "    <tr>\n",
       "      <th>0</th>\n",
       "      <td>7</td>\n",
       "    </tr>\n",
       "    <tr>\n",
       "      <th>1</th>\n",
       "      <td>7</td>\n",
       "    </tr>\n",
       "    <tr>\n",
       "      <th>2</th>\n",
       "      <td>7</td>\n",
       "    </tr>\n",
       "    <tr>\n",
       "      <th>3</th>\n",
       "      <td>7</td>\n",
       "    </tr>\n",
       "    <tr>\n",
       "      <th>4</th>\n",
       "      <td>7</td>\n",
       "    </tr>\n",
       "    <tr>\n",
       "      <th>...</th>\n",
       "      <td>...</td>\n",
       "    </tr>\n",
       "    <tr>\n",
       "      <th>186</th>\n",
       "      <td>10</td>\n",
       "    </tr>\n",
       "    <tr>\n",
       "      <th>111</th>\n",
       "      <td>10</td>\n",
       "    </tr>\n",
       "    <tr>\n",
       "      <th>88</th>\n",
       "      <td>10</td>\n",
       "    </tr>\n",
       "    <tr>\n",
       "      <th>60</th>\n",
       "      <td>10</td>\n",
       "    </tr>\n",
       "    <tr>\n",
       "      <th>150</th>\n",
       "      <td>10</td>\n",
       "    </tr>\n",
       "  </tbody>\n",
       "</table>\n",
       "<p>2062 rows × 1 columns</p>\n",
       "</div>"
      ],
      "text/plain": [
       "     Month\n",
       "0        7\n",
       "1        7\n",
       "2        7\n",
       "3        7\n",
       "4        7\n",
       "..     ...\n",
       "186     10\n",
       "111     10\n",
       "88      10\n",
       "60      10\n",
       "150     10\n",
       "\n",
       "[2062 rows x 1 columns]"
      ]
     },
     "execution_count": 8,
     "metadata": {},
     "output_type": "execute_result"
    }
   ],
   "source": [
    "bookings[[\"Month\"]]"
   ]
  },
  {
   "cell_type": "code",
   "execution_count": 9,
   "metadata": {},
   "outputs": [],
   "source": [
    "def filter_by_date(dataframe,date):\n",
    "    filtred_df =pd.DataFrame()\n",
    "    date1=date.split(\"-\")\n",
    "    if len(date1) == 3 :\n",
    "        filtred_df=dataframe.loc[(dataframe[\"Year\"] == int(date1[0])) & (dataframe[\"Month\"] == int(date1[1])) & (dataframe[\"Day\"] == int(date1[2]))]\n",
    "    if len(date1) == 2 :\n",
    "        filtred_df=dataframe.loc[(dataframe[\"Year\"] == int(date1[0])) & (dataframe[\"Month\"] == int(date1[1]))]\n",
    "    if len(date1) == 1 :\n",
    "        filtred_df=dataframe.loc[(dataframe[\"Year\"] == int(date1[0]))]\n",
    "   \n",
    "    return filtred_df    \n",
    "    "
   ]
  },
  {
   "cell_type": "code",
   "execution_count": 10,
   "metadata": {},
   "outputs": [
    {
     "name": "stdout",
     "output_type": "stream",
     "text": [
      "MySQL connection is closed\n"
     ]
    },
    {
     "data": {
      "text/plain": [
       "[{'message': 'PEUGEOT departement 8 company 13', 'numberTransaction': 507},\n",
       " {'message': 'Peugeot departement None company 17', 'numberTransaction': 187},\n",
       " {'message': 'IVECO departement None company 56', 'numberTransaction': 186},\n",
       " {'message': 'Scania departement None company 13', 'numberTransaction': 133},\n",
       " {'message': 'PEUGEOT departement None company 13', 'numberTransaction': 113},\n",
       " {'message': 'Mercedes departement 7 company 13', 'numberTransaction': 90}]"
      ]
     },
     "execution_count": 10,
     "metadata": {},
     "output_type": "execute_result"
    }
   ],
   "source": [
    "\n",
    "import mysql.connector\n",
    "from mysql.connector import Error\n",
    "\n",
    "def get_best_vehicles(dataframe):\n",
    "    best_vehicle=dataframe.groupby(['vehicle_id']).count().reset_index()[['vehicle_id','id']].sort_values(by=['id'],ascending=False).reset_index()\n",
    "    return best_vehicle\n",
    "\n",
    "def get_vehicle(id):\n",
    "    try:\n",
    "        connection = mysql.connector.connect(host='localhost',\n",
    "                                         database='optimatets',\n",
    "                                         user='root',\n",
    "                                         password='')\n",
    "        records=[]  \n",
    "        sql_select_Query=[]\n",
    "        vihicle=[]     \n",
    "        reqet = \"SELECT department_id,company_id,make,model,type_id FROM vehicles WHERE id='\" + str(id) + \"';\"\n",
    "        sql_select_Query.append(reqet)\n",
    "        for req in sql_select_Query:\n",
    "            cursor = connection.cursor()\n",
    "            cursor.execute(req)\n",
    "            ex=cursor.fetchall()[0]\n",
    "            msg=\"this vihicle of the company : \"+str(ex[1])+\" , departement : \"+str(ex[0]) +\" with the make : \"+ ex[2]+\" and a model : \"+ex[3]\n",
    "            records.append(ex)    \n",
    "            vihicle.append({'message':msg,'type_id':ex[4]})\n",
    "    except Error as e:\n",
    "        print(\"Error reading data from MySQL table\", e)\n",
    "    finally:\n",
    "        if (connection.is_connected()):\n",
    "            connection.close()\n",
    "            cursor.close()\n",
    "            print(\"MySQL connection is closed\")\n",
    "    return(vihicle)\n",
    "\n",
    "\n",
    "def get_vehicles(ids,vtn):\n",
    "    try:\n",
    "        connection = mysql.connector.connect(host='localhost',\n",
    "                                         database='optimatets',\n",
    "                                         user='root',\n",
    "                                         password='')\n",
    "        records=[]  \n",
    "        sql_select_Query=[]\n",
    "        vihicle=[]\n",
    "        for i in ids:        \n",
    "            reqet = \"SELECT department_id,company_id,make,model,type_id FROM vehicles WHERE id='\" + str(i) + \"';\"\n",
    "            sql_select_Query.append(reqet)\n",
    "        c=0\n",
    "        for req in sql_select_Query:\n",
    "            cursor = connection.cursor()\n",
    "            cursor.execute(req)\n",
    "            ex=cursor.fetchall()[0]\n",
    "            msg= ex[2]+\" departement \"+str(ex[0]) +\" company \"+str(ex[1])\n",
    "            records.append(ex)    \n",
    "            vihicle.append({'message':msg,'numberTransaction':int(vtn[c])})\n",
    "            c=c+1\n",
    "    except Error as e:\n",
    "        print(\"Error reading data from MySQL table\", e)\n",
    "    finally:\n",
    "        if (connection.is_connected()):\n",
    "            connection.close()\n",
    "            cursor.close()\n",
    "            print(\"MySQL connection is closed\")\n",
    "    \n",
    "    return(vihicle)\n",
    "\n",
    "\n",
    "def getBestVehicles(dataframe,date):\n",
    "    ids=[]\n",
    "    date1=date.split(\"-\") \n",
    "    vehicles_transaction_number=[]\n",
    "    df=filter_by_date(dataframe,date)    \n",
    "    best_vehicle=get_best_vehicles(df)\n",
    "    i=0\n",
    "    while (i<6) and (i<len(best_vehicle)): \n",
    "        ids.append(best_vehicle['vehicle_id'][i])\n",
    "        vehicles_transaction_number.append(best_vehicle['id'][i])\n",
    "        i=i+1\n",
    "    if len(best_vehicle)> 0:\n",
    "        return get_vehicles(ids, vehicles_transaction_number)\n",
    "    else: \n",
    "        return [{}]\n",
    "\n",
    "\n",
    "\n",
    "\n",
    "\n",
    "getBestVehicles(bookings,\"2020\") "
   ]
  },
  {
   "cell_type": "code",
   "execution_count": 11,
   "metadata": {},
   "outputs": [
    {
     "data": {
      "text/plain": [
       "[{'day': 3, 'booking': 1, 'transaction': 0},\n",
       " {'day': 6, 'booking': 1, 'transaction': 0},\n",
       " {'day': 8, 'booking': 1, 'transaction': 0},\n",
       " {'day': 11, 'booking': 1, 'transaction': 1},\n",
       " {'day': 12, 'booking': 6, 'transaction': 1},\n",
       " {'day': 13, 'booking': 1, 'transaction': 0},\n",
       " {'day': 14, 'booking': 1, 'transaction': 0},\n",
       " {'day': 15, 'booking': 1, 'transaction': 1},\n",
       " {'day': 16, 'booking': 6, 'transaction': 0},\n",
       " {'day': 17, 'booking': 1, 'transaction': 0},\n",
       " {'day': 19, 'booking': 3, 'transaction': 0},\n",
       " {'day': 21, 'booking': 1, 'transaction': 0},\n",
       " {'day': 22, 'booking': 2, 'transaction': 2},\n",
       " {'day': 23, 'booking': 2, 'transaction': 0},\n",
       " {'day': 24, 'booking': 12, 'transaction': 0},\n",
       " {'day': 25, 'booking': 2, 'transaction': 0},\n",
       " {'day': 29, 'booking': 3, 'transaction': 0},\n",
       " {'day': 30, 'booking': 1, 'transaction': 0},\n",
       " {'day': 31, 'booking': 7, 'transaction': 1}]"
      ]
     },
     "execution_count": 11,
     "metadata": {},
     "output_type": "execute_result"
    }
   ],
   "source": [
    "def getBookingsTransaction(dataframe,date):\n",
    "    result=[]\n",
    "    date1=date.split(\"-\")\n",
    "    booking=pd.DataFrame()\n",
    "    \n",
    "    if len(date1) == 3 :\n",
    "        df=filter_by_date(dataframe,date1[0]+\"-\"+date1[1])\n",
    "        booking=df['Day'].value_counts()\n",
    "        transaction=df[(df.status == 3)]\n",
    "        trans=transaction['Day'].value_counts()\n",
    "        trans1= pd.Series(trans, index =booking.index).replace(np.nan,0)\n",
    "        if trans1.empty:\n",
    "            trans1 = pd.Series(0, index =booking.index)\n",
    "        for i in range(len(booking)) :\n",
    "            result.append({\"day\":int(booking.index[i]),\"booking\":int(booking.values[i]),\"transaction\":int(trans1.values[i])})\n",
    "        result = sorted(result, key=lambda k: k['day'])\n",
    "    \n",
    "    \n",
    "    if len(date1) == 2 :\n",
    "        df=filter_by_date(dataframe,date)\n",
    "        booking=df['Day'].value_counts()\n",
    "        transaction=df[(df.status == 3)]\n",
    "        trans=transaction['Day'].value_counts()\n",
    "        trans1= pd.Series(trans, index =booking.index).replace(np.nan,0)\n",
    "        if trans1.empty:\n",
    "            trans1 = pd.Series(0, index =booking.index)\n",
    "        for i in range(len(booking)) :\n",
    "            result.append({\"day\":int(booking.index[i]),\"booking\":int(booking.values[i]),\"transaction\":int(trans1.values[i])})\n",
    "        result = sorted(result, key=lambda k: k['day']) \n",
    "    \n",
    "        \n",
    "    if len(date1) == 1 :\n",
    "        booking=dataframe['Year'].value_counts()\n",
    "        transaction=dataframe[(dataframe.status == 3)]\n",
    "        trans=transaction['Year'].value_counts()\n",
    "        for i in range(len(booking)) :\n",
    "            result.append({\"year\":int(booking.index[i]),\"booking\":int(booking.values[i]),\"transaction\":int(trans.values[i])})\n",
    "        result = sorted(result, key=lambda k: k['year'])    \n",
    "            \n",
    "    \n",
    "    \n",
    "    return result\n",
    "\n",
    "getBookingsTransaction(bookings,'2019-7')\n",
    "    "
   ]
  },
  {
   "cell_type": "code",
   "execution_count": 12,
   "metadata": {},
   "outputs": [
    {
     "data": {
      "text/plain": [
       "[{'Year': '2019',\n",
       "  'region': ' BIZERTE',\n",
       "  'destination_number': 3,\n",
       "  'pickup_number': 0},\n",
       " {'Year': '2019',\n",
       "  'region': 'ARIANA',\n",
       "  'destination_number': 2,\n",
       "  'pickup_number': 2},\n",
       " {'Year': '2019',\n",
       "  'region': 'BEJA',\n",
       "  'destination_number': 0,\n",
       "  'pickup_number': 2},\n",
       " {'Year': '2019',\n",
       "  'region': 'BEN AROUS',\n",
       "  'destination_number': 4,\n",
       "  'pickup_number': 0},\n",
       " {'Year': '2019',\n",
       "  'region': 'GABES',\n",
       "  'destination_number': 3,\n",
       "  'pickup_number': 6},\n",
       " {'Year': '2019',\n",
       "  'region': 'GAFSA',\n",
       "  'destination_number': 1,\n",
       "  'pickup_number': 0},\n",
       " {'Year': '2019',\n",
       "  'region': 'KASSERINE',\n",
       "  'destination_number': 2,\n",
       "  'pickup_number': 0},\n",
       " {'Year': '2019',\n",
       "  'region': 'MAHDIA',\n",
       "  'destination_number': 1,\n",
       "  'pickup_number': 0},\n",
       " {'Year': '2019',\n",
       "  'region': 'MANOUBA',\n",
       "  'destination_number': 0,\n",
       "  'pickup_number': 1},\n",
       " {'Year': '2019',\n",
       "  'region': 'MEDNINE',\n",
       "  'destination_number': 2,\n",
       "  'pickup_number': 0},\n",
       " {'Year': '2019',\n",
       "  'region': 'MONASTIR',\n",
       "  'destination_number': 1,\n",
       "  'pickup_number': 0},\n",
       " {'Year': '2019',\n",
       "  'region': 'NABEUL',\n",
       "  'destination_number': 2,\n",
       "  'pickup_number': 0},\n",
       " {'Year': '2019',\n",
       "  'region': 'SFAX',\n",
       "  'destination_number': 62,\n",
       "  'pickup_number': 50},\n",
       " {'Year': '2019',\n",
       "  'region': 'SOUSSE',\n",
       "  'destination_number': 7,\n",
       "  'pickup_number': 38},\n",
       " {'Year': '2019',\n",
       "  'region': 'TATAOUINE',\n",
       "  'destination_number': 1,\n",
       "  'pickup_number': 0},\n",
       " {'Year': '2019',\n",
       "  'region': 'TUNIS',\n",
       "  'destination_number': 80,\n",
       "  'pickup_number': 72}]"
      ]
     },
     "execution_count": 12,
     "metadata": {},
     "output_type": "execute_result"
    }
   ],
   "source": [
    "def getReg(dataframe,date,l):\n",
    "    result=[]\n",
    "    switcher={1:'Year',2:'Month',3:'Day',}\n",
    "    df=filter_by_date(dataframe,date)\n",
    "    dest_number=df['dest_addr'].value_counts()\n",
    "    pick_number=df['pickup_addr'].value_counts()\n",
    "    frame = {'des': dest_number, 'pick': pick_number } \n",
    "    region_frame=pd.DataFrame(frame).fillna(0)\n",
    "    for i in range(len(region_frame)):\n",
    "        result.append({switcher[l]:date,\"region\":region_frame.index[i],\"destination_number\":int(region_frame.des[i]),\"pickup_number\":int(region_frame.pick[i])})\n",
    "    return result\n",
    "    \n",
    "def getRegion(dataframe,date):\n",
    "    result=[]\n",
    "    date1=date.split(\"-\")\n",
    "    region_frame=pd.DataFrame()\n",
    "    \n",
    "    if len(date1) == 3 :\n",
    "        result=getReg(dataframe,date,len(date1))\n",
    "        \n",
    "    if len(date1) == 2 :\n",
    "        result=getReg(dataframe,date,len(date1))\n",
    "        \n",
    "    if len(date1) == 1 :\n",
    "        result=getReg(dataframe,date,len(date1))\n",
    "        \n",
    "    return result\n",
    "            \n",
    "getRegion(bookings,\"2019\")     "
   ]
  },
  {
   "cell_type": "code",
   "execution_count": 13,
   "metadata": {},
   "outputs": [
    {
     "data": {
      "text/plain": [
       "[{'month': 1, 'total_weight': 39},\n",
       " {'month': 2, 'total_weight': 2367},\n",
       " {'month': 3, 'total_weight': 2595},\n",
       " {'month': 4, 'total_weight': 3351},\n",
       " {'month': 5, 'total_weight': 4412},\n",
       " {'month': 6, 'total_weight': 3754},\n",
       " {'month': 7, 'total_weight': 5012},\n",
       " {'month': 8, 'total_weight': 5294},\n",
       " {'month': 9, 'total_weight': 2906},\n",
       " {'month': 10, 'total_weight': 5136}]"
      ]
     },
     "execution_count": 13,
     "metadata": {},
     "output_type": "execute_result"
    }
   ],
   "source": [
    "def getGoodWeight(dataframe,date):\n",
    "    result=[]\n",
    "    date1=date.split(\"-\")\n",
    "    df=filter_by_date(dataframe,date)\n",
    "    total=df['total_weight'].sum()\n",
    "    \n",
    "    if len(date1) == 3 :\n",
    "        result.append({\"day\":date,\"total_weight\":total})\n",
    "        \n",
    "    if len(date1) == 2 :\n",
    "        goo=df[['Day','total_weight']].groupby(['Day']).sum()\n",
    "        for i in range(len(goo)) :\n",
    "            result.append({\"day\":int(goo.index[i]),\"total_weight\":int(goo.values[i])})\n",
    "        result = sorted(result, key=lambda k: k['day'])  \n",
    "        \n",
    "    if len(date1) == 1 :\n",
    "        goo=df[['Month','total_weight']].groupby(['Month']).sum()\n",
    "        for i in range(len(goo)) :\n",
    "            result.append({\"month\":int(goo.index[i]),\"total_weight\":int(goo.values[i])})\n",
    "        result = sorted(result, key=lambda k: k['month']) \n",
    "        \n",
    "    return result\n",
    "getGoodWeight(bookings,\"2020\")    "
   ]
  },
  {
   "cell_type": "code",
   "execution_count": 14,
   "metadata": {},
   "outputs": [
    {
     "name": "stdout",
     "output_type": "stream",
     "text": [
      " * Serving Flask app \"__main__\" (lazy loading)\n",
      " * Environment: production\n",
      "   WARNING: This is a development server. Do not use it in a production deployment.\n",
      "   Use a production WSGI server instead.\n",
      " * Debug mode: off\n"
     ]
    },
    {
     "name": "stderr",
     "output_type": "stream",
     "text": [
      " * Running on http://127.0.0.1:5000/ (Press CTRL+C to quit)\n"
     ]
    },
    {
     "name": "stdout",
     "output_type": "stream",
     "text": [
      "verif type of chart \n",
      "{'date': '2019', 'typy': 'transaction'}\n"
     ]
    },
    {
     "name": "stderr",
     "output_type": "stream",
     "text": [
      "{'date': '2019', 'typy': 'transaction'}\n",
      "127.0.0.1 - - [30/Oct/2020 10:19:46] \"\u001b[37mPOST / HTTP/1.1\u001b[0m\" 200 -\n"
     ]
    },
    {
     "name": "stdout",
     "output_type": "stream",
     "text": [
      "[{'year': 2019, 'booking': 171, 'transaction': 10}, {'year': 2020, 'booking': 1891, 'transaction': 89}]\n",
      "verif type of chart \n",
      "{'date': '2020-04', 'typy': 'transaction'}\n"
     ]
    },
    {
     "name": "stderr",
     "output_type": "stream",
     "text": [
      "{'date': '2020-04', 'typy': 'transaction'}\n",
      "127.0.0.1 - - [30/Oct/2020 10:20:24] \"\u001b[37mPOST / HTTP/1.1\u001b[0m\" 200 -\n"
     ]
    },
    {
     "name": "stdout",
     "output_type": "stream",
     "text": [
      "[{'day': 1, 'booking': 12, 'transaction': 2}, {'day': 2, 'booking': 12, 'transaction': 0}, {'day': 3, 'booking': 2, 'transaction': 0}, {'day': 4, 'booking': 5, 'transaction': 1}, {'day': 5, 'booking': 1, 'transaction': 0}, {'day': 6, 'booking': 5, 'transaction': 0}, {'day': 7, 'booking': 9, 'transaction': 0}, {'day': 8, 'booking': 4, 'transaction': 1}, {'day': 10, 'booking': 1, 'transaction': 0}, {'day': 11, 'booking': 10, 'transaction': 1}, {'day': 12, 'booking': 14, 'transaction': 0}, {'day': 13, 'booking': 8, 'transaction': 1}, {'day': 14, 'booking': 4, 'transaction': 0}, {'day': 15, 'booking': 3, 'transaction': 1}, {'day': 16, 'booking': 14, 'transaction': 0}, {'day': 17, 'booking': 8, 'transaction': 1}, {'day': 18, 'booking': 11, 'transaction': 0}, {'day': 19, 'booking': 10, 'transaction': 0}, {'day': 21, 'booking': 6, 'transaction': 0}, {'day': 22, 'booking': 2, 'transaction': 0}, {'day': 23, 'booking': 14, 'transaction': 0}, {'day': 24, 'booking': 9, 'transaction': 0}, {'day': 25, 'booking': 11, 'transaction': 0}, {'day': 26, 'booking': 8, 'transaction': 1}, {'day': 27, 'booking': 14, 'transaction': 0}, {'day': 28, 'booking': 2, 'transaction': 0}, {'day': 29, 'booking': 10, 'transaction': 0}, {'day': 30, 'booking': 7, 'transaction': 0}]\n",
      "verif type of chart \n",
      "{'date': '2018-04', 'typy': 'transaction'}\n"
     ]
    },
    {
     "name": "stderr",
     "output_type": "stream",
     "text": [
      "{'date': '2018-04', 'typy': 'transaction'}\n",
      "127.0.0.1 - - [30/Oct/2020 10:20:49] \"\u001b[37mPOST / HTTP/1.1\u001b[0m\" 200 -\n"
     ]
    },
    {
     "name": "stdout",
     "output_type": "stream",
     "text": [
      "[]\n"
     ]
    }
   ],
   "source": [
    "from flask import Flask, request, make_response\n",
    "import json\n",
    "import sys\n",
    "app = Flask(__name__)\n",
    "@app.route('/', methods=['POST'])\n",
    "def index():\n",
    "    \n",
    "    res=[]\n",
    "    d = request.form.to_dict() # data recived from form\n",
    "    d1=d\n",
    "    if (d1['typy'] =='transaction'):\n",
    "        res=getBookingsTransaction(bookings,d1['date'])\n",
    "    if (d1['typy'] =='region'):\n",
    "        res=getRegion(bookings,d1['date'])\n",
    "    if (d1['typy'] =='goods'):\n",
    "        res=getGoodWeight(bookings,d1['date'])\n",
    "    if (d1['typy'] =='vehicle'):\n",
    "        res=getBestVehicles(bookings,d1['date'])\n",
    "    \n",
    "    else:\n",
    "        print(\"verif type of chart \")\n",
    "    data=make_response(json.dumps(res))\n",
    " \n",
    "    resp=data\n",
    "    resp.status_code = 200\n",
    "    resp.headers['Access-Control-Allow-Origin'] = '*' # configiration \n",
    "    \n",
    "    print(d,file=sys.stderr)\n",
    "    print(d,flush=True)\n",
    "    print(res)\n",
    "    return resp\n",
    "\n",
    "\n",
    "    \n",
    "    \n",
    "    \n",
    "if __name__ == \"__main__\":\n",
    "    app.run()\n",
    " "
   ]
  },
  {
   "cell_type": "code",
   "execution_count": null,
   "metadata": {},
   "outputs": [],
   "source": []
  }
 ],
 "metadata": {
  "kernelspec": {
   "display_name": "Python 3",
   "language": "python",
   "name": "python3"
  },
  "language_info": {
   "codemirror_mode": {
    "name": "ipython",
    "version": 3
   },
   "file_extension": ".py",
   "mimetype": "text/x-python",
   "name": "python",
   "nbconvert_exporter": "python",
   "pygments_lexer": "ipython3",
   "version": "3.7.6"
  }
 },
 "nbformat": 4,
 "nbformat_minor": 4
}
