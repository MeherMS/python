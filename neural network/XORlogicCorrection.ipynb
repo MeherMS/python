{
 "cells": [
  {
   "cell_type": "code",
   "execution_count": 4,
   "metadata": {},
   "outputs": [
    {
     "name": "stdout",
     "output_type": "stream",
     "text": [
      "after training the output for input [0 0 1]  is  0.0  and the error is 0.0\n",
      " \n",
      "after training the output for input [0 1 1]  is  1.0  and the error is 0.0\n",
      " \n",
      "after training the output for input [1 0 1]  is  0.0  and the error is 1.0\n",
      " \n",
      "after training the output for input [1 1 1]  is  0.0  and the error is 0.0\n",
      " \n",
      "weigts OUt [ 0.05079972 -0.40219843  0.30310319]\n",
      "weigts Hidden1 [-0.3613172   0.25001328  0.11082668]\n",
      "weigts Hidden2 [ 3.14955064 -0.40046098  0.39998798]\n"
     ]
    }
   ],
   "source": [
    "import numpy as np\n",
    "inputs=np.array([[0,0,1],[0,1,1],[1,0,1],[1,1,1]])      #inputs\n",
    "yd=[0,1,1,0]                                           # outputs disired\n",
    "lr=0.05                                                 #learning rate\n",
    "\n",
    "def activation(x):                                     #activation function\n",
    "    return np.heaviside(x,1)\n",
    "class Neuron :\n",
    "    def __init__(self,type,inp):\n",
    "        self.weights=np.array([np.random.random()*2,np.random.random()*2,np.random.random()*2])\n",
    "        self.inp=inp\n",
    "        self.delta=0\n",
    "        \n",
    "    def forward(self):                                       #forward function\n",
    "        return activation(np.dot(self.inp,self.weights))\n",
    "    \n",
    "    def correctionHidden(self,n,previousN,pos):\n",
    "        sum=0\n",
    "        for j in range(n): \n",
    "                sum+=previousN[j].weights[pos]*previousN[j].delta[pos]\n",
    "        DeltaW = self.inp*lr*sum\n",
    "        self.delta=DeltaW\n",
    "        \n",
    "    def correctionOutput(self,error):\n",
    "        DeltaOutW = np.dot(self.inp,error)*lr\n",
    "        self.delta=DeltaOutW\n",
    "\n",
    "hLayer=[Neuron(\"H\",inputs[0]),Neuron(\"H\",inputs[0])]                  #hidden Layer with two Neuron\n",
    "oLayer=[Neuron(\"O\",[hLayer[0].forward(),hLayer[1].forward(),1])]      #output Layer  with one Neuron\n",
    "\n",
    "for c in range(5000):                                                #iteration\n",
    "    for k in range (4):                                               #train by all inputs\n",
    "        hLayer[0].inp=inputs[k]\n",
    "        hLayer[1].inp=inputs[k]\n",
    "        oLayer[0].inp=[hLayer[0].forward(),hLayer[1].forward(),1]\n",
    "        error1=yd[k]-oLayer[0].forward()  \n",
    "        \n",
    "        if (error1 != 0):\n",
    "            oLayer[0].correctionOutput(error1)\n",
    "            hLayer[0].correctionHidden(len(oLayer),oLayer,0)\n",
    "            hLayer[1].correctionHidden(len(oLayer),oLayer,1)\n",
    "            oLayer[0].weights +=  oLayer[0].delta\n",
    "            hLayer[0].weights +=  hLayer[0].delta\n",
    "            hLayer[1].weights +=  hLayer[1].delta\n",
    "   \n",
    "for k in range (4):\n",
    "        hLayer[0].inp=inputs[k]\n",
    "        hLayer[1].inp=inputs[k]\n",
    "        oLayer[0].inp=[hLayer[0].forward(),hLayer[1].forward(),1]\n",
    "        error1=yd[k]-oLayer[0].forward()  \n",
    "        print(\"after training the output for input\",inputs[k],\" is \",oLayer[0].forward(),\" and the error is\",error1)\n",
    "        print(' ')\n",
    "print (\"weigts OUt\",oLayer[0].weights)\n",
    "print (\"weigts Hidden1\",hLayer[0].weights)\n",
    "print (\"weigts Hidden2\",hLayer[1].weights)\n",
    "            "
   ]
  },
  {
   "cell_type": "code",
   "execution_count": null,
   "metadata": {},
   "outputs": [],
   "source": []
  },
  {
   "cell_type": "code",
   "execution_count": null,
   "metadata": {},
   "outputs": [],
   "source": []
  },
  {
   "cell_type": "code",
   "execution_count": null,
   "metadata": {},
   "outputs": [],
   "source": []
  }
 ],
 "metadata": {
  "kernelspec": {
   "display_name": "Python 3",
   "language": "python",
   "name": "python3"
  },
  "language_info": {
   "codemirror_mode": {
    "name": "ipython",
    "version": 3
   },
   "file_extension": ".py",
   "mimetype": "text/x-python",
   "name": "python",
   "nbconvert_exporter": "python",
   "pygments_lexer": "ipython3",
   "version": "3.7.1"
  }
 },
 "nbformat": 4,
 "nbformat_minor": 2
}
