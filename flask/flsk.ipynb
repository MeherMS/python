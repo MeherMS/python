{
 "cells": [
  {
   "cell_type": "code",
   "execution_count": 1,
   "metadata": {},
   "outputs": [
    {
     "name": "stdout",
     "output_type": "stream",
     "text": [
      " * Serving Flask app \"__main__\" (lazy loading)\n",
      " * Environment: production\n",
      "   WARNING: Do not use the development server in a production environment.\n",
      "   Use a production WSGI server instead.\n",
      " * Debug mode: on\n"
     ]
    },
    {
     "name": "stderr",
     "output_type": "stream",
     "text": [
      " * Restarting with stat\n"
     ]
    },
    {
     "ename": "SystemExit",
     "evalue": "1",
     "output_type": "error",
     "traceback": [
      "An exception has occurred, use %tb to see the full traceback.\n",
      "\u001b[1;31mSystemExit\u001b[0m\u001b[1;31m:\u001b[0m 1\n"
     ]
    },
    {
     "name": "stderr",
     "output_type": "stream",
     "text": [
      "D:\\Anaconda3\\lib\\site-packages\\IPython\\core\\interactiveshell.py:3275: UserWarning: To exit: use 'exit', 'quit', or Ctrl-D.\n",
      "  warn(\"To exit: use 'exit', 'quit', or Ctrl-D.\", stacklevel=1)\n"
     ]
    }
   ],
   "source": [
    "import pandas as pd\n",
    "from flask import Flask, jsonify, request\n",
    "import pickle\n",
    "\n",
    "# load model\n",
    "model = pickle.load(open('model.pkl','rb'))\n",
    "\n",
    "# app\n",
    "app = Flask(__name__)\n",
    "\n",
    "# routes\n",
    "@app.route('/', methods=['POST'])\n",
    "\n",
    "def predict():\n",
    "    # get data\n",
    "    data = request.get_json(force=True)\n",
    "\n",
    "    # convert data into dataframe\n",
    "    data.update((x, [y]) for x, y in data.items())\n",
    "    data_df = pd.DataFrame.from_dict(data)\n",
    "\n",
    "    # predictions\n",
    "    result = model.predict(data_df)\n",
    "\n",
    "    # send back to browser\n",
    "    output = {'results': int(result[0])}\n",
    "\n",
    "    # return data\n",
    "    return jsonify(results=output)\n",
    "\n",
    "if __name__ == '__main__':\n",
    "    app.run(port = 5000, debug=True)"
   ]
  },
  {
   "cell_type": "code",
   "execution_count": null,
   "metadata": {},
   "outputs": [],
   "source": []
  },
  {
   "cell_type": "code",
   "execution_count": null,
   "metadata": {},
   "outputs": [],
   "source": []
  },
  {
   "cell_type": "code",
   "execution_count": null,
   "metadata": {},
   "outputs": [],
   "source": []
  }
 ],
 "metadata": {
  "kernelspec": {
   "display_name": "Python 3",
   "language": "python",
   "name": "python3"
  },
  "language_info": {
   "codemirror_mode": {
    "name": "ipython",
    "version": 3
   },
   "file_extension": ".py",
   "mimetype": "text/x-python",
   "name": "python",
   "nbconvert_exporter": "python",
   "pygments_lexer": "ipython3",
   "version": "3.7.1"
  }
 },
 "nbformat": 4,
 "nbformat_minor": 2
}
