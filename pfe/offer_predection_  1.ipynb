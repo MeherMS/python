{
 "cells": [
  {
   "cell_type": "code",
   "execution_count": 1,
   "metadata": {},
   "outputs": [],
   "source": [
    "import pandas as pd \n",
    "import numpy as np\n",
    "import matplotlib.pyplot as plt\n",
    "from sklearn.model_selection import train_test_split\n",
    "from datetime import datetime\n",
    "import random"
   ]
  },
  {
   "cell_type": "code",
   "execution_count": 5,
   "metadata": {},
   "outputs": [
    {
     "name": "stdout",
     "output_type": "stream",
     "text": [
      "Collecting mysql-connector-python\n",
      "  Downloading mysql_connector_python-8.0.20-cp37-cp37m-win_amd64.whl (4.3 MB)\n",
      "Requirement already satisfied: protobuf>=3.0.0 in d:\\nouveau dossier\\lib\\site-packages (from mysql-connector-python) (3.11.4)\n",
      "Requirement already satisfied: six>=1.9 in d:\\nouveau dossier\\lib\\site-packages (from protobuf>=3.0.0->mysql-connector-python) (1.14.0)\n",
      "Requirement already satisfied: setuptools in d:\\nouveau dossier\\lib\\site-packages (from protobuf>=3.0.0->mysql-connector-python) (45.2.0.post20200210)\n",
      "Installing collected packages: mysql-connector-python\n",
      "Successfully installed mysql-connector-python-8.0.20\n"
     ]
    }
   ],
   "source": [
    "!pip install mysql-connector-python"
   ]
  },
  {
   "cell_type": "markdown",
   "metadata": {},
   "source": [
    "<h1> get data from database</h1>"
   ]
  },
  {
   "cell_type": "code",
   "execution_count": 2,
   "metadata": {},
   "outputs": [
    {
     "name": "stdout",
     "output_type": "stream",
     "text": [
      "MySQL connection is closed\n"
     ]
    }
   ],
   "source": [
    "import mysql.connector\n",
    "from mysql.connector import Error\n",
    "records=[]\n",
    "try:\n",
    "    connection = mysql.connector.connect(host='localhost',\n",
    "                                         database='optimatets',\n",
    "                                         user='root',\n",
    "                                         password='')\n",
    "    sql_select_Query=[]\n",
    "    sql_select_Query.append( \"select * from bookings\")\n",
    "    sql_select_Query.append(\"select * from driver_vehicle\")\n",
    "    sql_select_Query.append(\"select * from tracking\")\n",
    "    sql_select_Query.append(\"select * from vehicles\")\n",
    "    sql_select_Query.append(\"select * from vehicle_types\")\n",
    "    for req in sql_select_Query:\n",
    "        cursor = connection.cursor()\n",
    "        cursor.execute(req)\n",
    "        records.append( cursor.fetchall())    \n",
    "\n",
    "except Error as e:\n",
    "    print(\"Error reading data from MySQL table\", e)\n",
    "finally:\n",
    "    if (connection.is_connected()):\n",
    "        connection.close()\n",
    "        cursor.close()\n",
    "        print(\"MySQL connection is closed\")"
   ]
  },
  {
   "cell_type": "code",
   "execution_count": 3,
   "metadata": {},
   "outputs": [
    {
     "data": {
      "text/html": [
       "<div>\n",
       "<style scoped>\n",
       "    .dataframe tbody tr th:only-of-type {\n",
       "        vertical-align: middle;\n",
       "    }\n",
       "\n",
       "    .dataframe tbody tr th {\n",
       "        vertical-align: top;\n",
       "    }\n",
       "\n",
       "    .dataframe thead th {\n",
       "        text-align: right;\n",
       "    }\n",
       "</style>\n",
       "<table border=\"1\" class=\"dataframe\">\n",
       "  <thead>\n",
       "    <tr style=\"text-align: right;\">\n",
       "      <th></th>\n",
       "      <th>id</th>\n",
       "      <th>book_type</th>\n",
       "      <th>promo_id</th>\n",
       "      <th>type_id</th>\n",
       "      <th>accept_status</th>\n",
       "      <th>total_weight</th>\n",
       "      <th>company_id</th>\n",
       "      <th>date_time</th>\n",
       "      <th>user_id</th>\n",
       "      <th>vehicle_id</th>\n",
       "      <th>...</th>\n",
       "      <th>duration</th>\n",
       "      <th>pickup_addr</th>\n",
       "      <th>dest_addr</th>\n",
       "      <th>note</th>\n",
       "      <th>travellers</th>\n",
       "      <th>status</th>\n",
       "      <th>payment</th>\n",
       "      <th>created_at</th>\n",
       "      <th>updated_at</th>\n",
       "      <th>deleted_at</th>\n",
       "    </tr>\n",
       "  </thead>\n",
       "  <tbody>\n",
       "    <tr>\n",
       "      <th>0</th>\n",
       "      <td>4</td>\n",
       "      <td>s</td>\n",
       "      <td>NaN</td>\n",
       "      <td>17</td>\n",
       "      <td>53</td>\n",
       "      <td>30.0</td>\n",
       "      <td>11.0</td>\n",
       "      <td>2019-07-03 12:01:13</td>\n",
       "      <td>53</td>\n",
       "      <td>NaN</td>\n",
       "      <td>...</td>\n",
       "      <td>None</td>\n",
       "      <td>Tunis, Tunisia</td>\n",
       "      <td>Sousse, Tunisia</td>\n",
       "      <td>None</td>\n",
       "      <td>1</td>\n",
       "      <td>0</td>\n",
       "      <td>0</td>\n",
       "      <td>2019-07-01 11:02:24</td>\n",
       "      <td>2019-07-29 12:20:08</td>\n",
       "      <td>2019-07-29 12:20:08</td>\n",
       "    </tr>\n",
       "    <tr>\n",
       "      <th>1</th>\n",
       "      <td>8</td>\n",
       "      <td>s</td>\n",
       "      <td>NaN</td>\n",
       "      <td>17</td>\n",
       "      <td>53</td>\n",
       "      <td>20.0</td>\n",
       "      <td>11.0</td>\n",
       "      <td>2019-07-06 07:09:11</td>\n",
       "      <td>53</td>\n",
       "      <td>NaN</td>\n",
       "      <td>...</td>\n",
       "      <td>None</td>\n",
       "      <td>Cafe Karawen, Route Gremda, Sfax, Tunisia</td>\n",
       "      <td>Avenue De Carthage, Tunisia</td>\n",
       "      <td>None</td>\n",
       "      <td>1</td>\n",
       "      <td>0</td>\n",
       "      <td>0</td>\n",
       "      <td>2019-07-04 14:13:04</td>\n",
       "      <td>2019-07-29 12:20:16</td>\n",
       "      <td>2019-07-29 12:20:16</td>\n",
       "    </tr>\n",
       "    <tr>\n",
       "      <th>2</th>\n",
       "      <td>9</td>\n",
       "      <td>s</td>\n",
       "      <td>NaN</td>\n",
       "      <td>6</td>\n",
       "      <td>60</td>\n",
       "      <td>10.0</td>\n",
       "      <td>11.0</td>\n",
       "      <td>2019-07-08 08:21:49</td>\n",
       "      <td>60</td>\n",
       "      <td>7.0</td>\n",
       "      <td>...</td>\n",
       "      <td>None</td>\n",
       "      <td>tunis, Tunisie</td>\n",
       "      <td>Bizerte Centre, Rue Mohamed Ali, Bizerte, Tunisia</td>\n",
       "      <td>None</td>\n",
       "      <td>1</td>\n",
       "      <td>0</td>\n",
       "      <td>0</td>\n",
       "      <td>2019-07-04 14:23:12</td>\n",
       "      <td>2019-07-29 12:20:25</td>\n",
       "      <td>2019-07-29 12:20:25</td>\n",
       "    </tr>\n",
       "    <tr>\n",
       "      <th>3</th>\n",
       "      <td>14</td>\n",
       "      <td>s</td>\n",
       "      <td>NaN</td>\n",
       "      <td>3</td>\n",
       "      <td>51</td>\n",
       "      <td>5.0</td>\n",
       "      <td>10.0</td>\n",
       "      <td>2019-07-11 09:06:34</td>\n",
       "      <td>51</td>\n",
       "      <td>3.0</td>\n",
       "      <td>...</td>\n",
       "      <td>None</td>\n",
       "      <td>Avenue De Carthage, Tunisie</td>\n",
       "      <td>Sahloul, Sousse, Tunisie</td>\n",
       "      <td>Bien reçu. Je note çà appele moi sur 22222222</td>\n",
       "      <td>1</td>\n",
       "      <td>3</td>\n",
       "      <td>1</td>\n",
       "      <td>2019-07-09 11:08:28</td>\n",
       "      <td>2019-07-29 12:21:40</td>\n",
       "      <td>2019-07-29 12:21:40</td>\n",
       "    </tr>\n",
       "    <tr>\n",
       "      <th>4</th>\n",
       "      <td>15</td>\n",
       "      <td>s</td>\n",
       "      <td>NaN</td>\n",
       "      <td>17</td>\n",
       "      <td>60</td>\n",
       "      <td>25.0</td>\n",
       "      <td>11.0</td>\n",
       "      <td>2019-07-14 12:24:05</td>\n",
       "      <td>60</td>\n",
       "      <td>7.0</td>\n",
       "      <td>...</td>\n",
       "      <td>None</td>\n",
       "      <td>Bizerte, Tunisie</td>\n",
       "      <td>Mahdia, Tunisie</td>\n",
       "      <td>None</td>\n",
       "      <td>1</td>\n",
       "      <td>1</td>\n",
       "      <td>0</td>\n",
       "      <td>2019-07-09 11:24:51</td>\n",
       "      <td>2019-07-29 12:21:47</td>\n",
       "      <td>2019-07-29 12:21:47</td>\n",
       "    </tr>\n",
       "  </tbody>\n",
       "</table>\n",
       "<p>5 rows × 24 columns</p>\n",
       "</div>"
      ],
      "text/plain": [
       "   id book_type  promo_id  type_id  accept_status  total_weight  company_id  \\\n",
       "0   4         s       NaN       17             53          30.0        11.0   \n",
       "1   8         s       NaN       17             53          20.0        11.0   \n",
       "2   9         s       NaN        6             60          10.0        11.0   \n",
       "3  14         s       NaN        3             51           5.0        10.0   \n",
       "4  15         s       NaN       17             60          25.0        11.0   \n",
       "\n",
       "            date_time  user_id  vehicle_id  ...  duration  \\\n",
       "0 2019-07-03 12:01:13       53         NaN  ...      None   \n",
       "1 2019-07-06 07:09:11       53         NaN  ...      None   \n",
       "2 2019-07-08 08:21:49       60         7.0  ...      None   \n",
       "3 2019-07-11 09:06:34       51         3.0  ...      None   \n",
       "4 2019-07-14 12:24:05       60         7.0  ...      None   \n",
       "\n",
       "                                 pickup_addr  \\\n",
       "0                             Tunis, Tunisia   \n",
       "1  Cafe Karawen, Route Gremda, Sfax, Tunisia   \n",
       "2                             tunis, Tunisie   \n",
       "3                Avenue De Carthage, Tunisie   \n",
       "4                           Bizerte, Tunisie   \n",
       "\n",
       "                                           dest_addr  \\\n",
       "0                                    Sousse, Tunisia   \n",
       "1                        Avenue De Carthage, Tunisia   \n",
       "2  Bizerte Centre, Rue Mohamed Ali, Bizerte, Tunisia   \n",
       "3                           Sahloul, Sousse, Tunisie   \n",
       "4                                    Mahdia, Tunisie   \n",
       "\n",
       "                                            note travellers status payment  \\\n",
       "0                                           None          1      0       0   \n",
       "1                                           None          1      0       0   \n",
       "2                                           None          1      0       0   \n",
       "3  Bien reçu. Je note çà appele moi sur 22222222          1      3       1   \n",
       "4                                           None          1      1       0   \n",
       "\n",
       "           created_at          updated_at          deleted_at  \n",
       "0 2019-07-01 11:02:24 2019-07-29 12:20:08 2019-07-29 12:20:08  \n",
       "1 2019-07-04 14:13:04 2019-07-29 12:20:16 2019-07-29 12:20:16  \n",
       "2 2019-07-04 14:23:12 2019-07-29 12:20:25 2019-07-29 12:20:25  \n",
       "3 2019-07-09 11:08:28 2019-07-29 12:21:40 2019-07-29 12:21:40  \n",
       "4 2019-07-09 11:24:51 2019-07-29 12:21:47 2019-07-29 12:21:47  \n",
       "\n",
       "[5 rows x 24 columns]"
      ]
     },
     "execution_count": 3,
     "metadata": {},
     "output_type": "execute_result"
    }
   ],
   "source": [
    "bookings=pd.DataFrame(records[0],columns=['id', 'book_type', 'promo_id' , 'type_id' , 'accept_status', 'total_weight', 'company_id', 'date_time', 'user_id', 'vehicle_id', 'driver_id', 'customer_id', 'pickup', 'dropoff', 'duration', 'pickup_addr', 'dest_addr','note', 'travellers', 'status', 'payment', 'created_at', 'updated_at', 'deleted_at'])\n",
    "bookings.head()"
   ]
  },
  {
   "cell_type": "code",
   "execution_count": 4,
   "metadata": {},
   "outputs": [
    {
     "data": {
      "text/plain": [
       "(197, 24)"
      ]
     },
     "execution_count": 4,
     "metadata": {},
     "output_type": "execute_result"
    }
   ],
   "source": [
    "df1=bookings\n",
    "df1.shape"
   ]
  },
  {
   "cell_type": "markdown",
   "metadata": {},
   "source": [
    "<h1>add some data to data base </h1>\n",
    "<h4>to improve the model we added some random rows . so , we picked a random row and we changeed the date  </h4>"
   ]
  },
  {
   "cell_type": "code",
   "execution_count": 5,
   "metadata": {},
   "outputs": [],
   "source": [
    "def  maxDate(df):\n",
    "    lista=[]\n",
    "    for i in range(len(df['date_time'])):\n",
    "        lista.append(datetime.timestamp(df['date_time'][i]))\n",
    "    return max(lista)\n",
    "\n",
    "def addRow(df1,date_time):\n",
    "    row = df1.sample()\n",
    "    row['date_time']=date_time\n",
    "    df1=df1.append(row)\n",
    "    return df1\n",
    "            \n",
    "\n",
    "def fillDatabase(df1):\n",
    "    now = datetime.timestamp(datetime.now())\n",
    "    max_date=maxDate(df1)+ 76522\n",
    "    day = max_date\n",
    "    cpt=0\n",
    "    while now> day :\n",
    "        day=day+86400\n",
    "        max_date=day+random.randint(39600,86339)\n",
    "        df1=addRow(df1,datetime.fromtimestamp(max_date))\n",
    "        cpt=cpt+1\n",
    "        \n",
    "        for i in range(random.randint(0,5)):\n",
    "            max_date=day+random.randint(21600,39600)\n",
    "            #print(datetime.fromtimestamp(max_date))\n",
    "            df1=addRow(df1,datetime.fromtimestamp(max_date))\n",
    "            cpt=cpt+1\n",
    "            \n",
    "            for j in range(random.randint(0,3)):\n",
    "                max_date=day+random.randint(0,21600)\n",
    "                #print(datetime.fromtimestamp(max_date))\n",
    "                df1=addRow(df1,datetime.fromtimestamp(max_date))\n",
    "                cpt=cpt+1\n",
    "                \n",
    "    print(cpt ,\"rows added !\")        \n",
    "   \n",
    "                    \n",
    "                \n",
    "       \n",
    "    return df1\n",
    "   \n",
    "   \n",
    "  "
   ]
  },
  {
   "cell_type": "code",
   "execution_count": 6,
   "metadata": {},
   "outputs": [
    {
     "name": "stdout",
     "output_type": "stream",
     "text": [
      "1851 rows added !\n"
     ]
    },
    {
     "data": {
      "text/plain": [
       "(2048, 24)"
      ]
     },
     "execution_count": 6,
     "metadata": {},
     "output_type": "execute_result"
    }
   ],
   "source": [
    "df1=fillDatabase(df1)  \n",
    "df1.shape"
   ]
  },
  {
   "cell_type": "markdown",
   "metadata": {},
   "source": [
    "<h1> adress data normalisation <h1>"
   ]
  },
  {
   "cell_type": "code",
   "execution_count": 7,
   "metadata": {},
   "outputs": [],
   "source": [
    "\n",
    "region=['Tunis','Manouba','ben arous',\n",
    "        'ariana',' Bizerte','beja', 'jandouba', 'nabeul' , 'zaghouane', 'silana', 'kef' ,\n",
    "        'kasserine' , 'kairouane' , 'Sousse' , 'monastir', 'Mahdia' , 'Sfax' , 'sidi' 'bouzid' , 'gafsa' ,\n",
    "        'touzeur', 'kbeli' , 'gabes' , 'mednine' ,'tataouine']\n",
    "region=[x.upper() for x in region]\n",
    "destination_adress= df1['dest_addr'] \n",
    "depart_adress = df1['pickup_addr']"
   ]
  },
  {
   "cell_type": "code",
   "execution_count": 8,
   "metadata": {},
   "outputs": [],
   "source": [
    "\n",
    "def adressNormalisation(col):\n",
    "    i=0\n",
    "    lista=[]\n",
    "    adr=''\n",
    "    for phrase in col:\n",
    "        verif=False\n",
    "        for adrs in region:\n",
    "            if adrs in phrase.upper():\n",
    "                verif=True\n",
    "                adr=adrs\n",
    "        if verif==True :\n",
    "                #lista.append([i,phrase,adr])\n",
    "                lista.append([adr])\n",
    "\n",
    "        else : \n",
    "                #lista.append([i,phrase,random.choice(region)])\n",
    "                lista.append([random.choice(region)])\n",
    "\n",
    "\n",
    "        i=i+1\n",
    "\n",
    "\n",
    "    return pd.DataFrame(lista, columns=['new_'+col.name])\n",
    "\n"
   ]
  },
  {
   "cell_type": "code",
   "execution_count": 9,
   "metadata": {},
   "outputs": [],
   "source": [
    "\n",
    "def adressToNan(col):\n",
    "    i=0\n",
    "    lista=[]\n",
    "    adr=''\n",
    "    for phrase in col:\n",
    "        verif=False\n",
    "        for adrs in region:\n",
    "            if adrs in phrase.upper():\n",
    "                verif=True\n",
    "                adr=adrs\n",
    "        if verif==True :\n",
    "                #lista.append([i,phrase,adr])\n",
    "                lista.append([adr])\n",
    "\n",
    "        else : \n",
    "                #lista.append([i,phrase,random.choice(region)])\n",
    "                lista.append([np.nan])\n",
    "\n",
    "\n",
    "        i=i+1\n",
    "\n",
    "\n",
    "    return pd.DataFrame(lista, columns=['new_'+col.name])\n",
    "\n"
   ]
  },
  {
   "cell_type": "code",
   "execution_count": 10,
   "metadata": {},
   "outputs": [],
   "source": [
    "df1['pickup_addr']=adressNormalisation(df1['pickup_addr'])\n",
    "df1['dest_addr']=adressNormalisation(df1['dest_addr'])"
   ]
  },
  {
   "cell_type": "code",
   "execution_count": null,
   "metadata": {},
   "outputs": [],
   "source": []
  },
  {
   "cell_type": "markdown",
   "metadata": {},
   "source": [
    "<h1> fill the nan vehicle_id </h1>\n",
    "<h4>this method return a random vihicle_id by adress </h4>"
   ]
  },
  {
   "cell_type": "code",
   "execution_count": 11,
   "metadata": {},
   "outputs": [
    {
     "data": {
      "text/plain": [
       "21.0"
      ]
     },
     "execution_count": 11,
     "metadata": {},
     "output_type": "execute_result"
    }
   ],
   "source": [
    "df2=df1\n",
    "def getVihicleByAdress(df2, adress):\n",
    "    df2=df2.dropna(subset=[\"vehicle_id\"])\n",
    "    df2=df2.groupby('pickup_addr')['vehicle_id'].apply(list)\n",
    "    x=list(set(df2[adress]))\n",
    "    return random.choice(x)\n",
    " \n",
    "getVihicleByAdress(df2,'SFAX')\n",
    "\n"
   ]
  },
  {
   "cell_type": "code",
   "execution_count": 12,
   "metadata": {},
   "outputs": [
    {
     "data": {
      "text/plain": [
       "pickup_addr\n",
       "ARIANA     [8.0, 8.0, nan, 8.0, 8.0, 8.0, 8.0, nan, 8.0, ...\n",
       "BEJA       [23.0, 23.0, 23.0, 23.0, 23.0, 23.0, 23.0, 23....\n",
       "GABES      [nan, nan, nan, nan, 21.0, nan, nan, nan, nan,...\n",
       "MANOUBA                            [5.0, 5.0, 5.0, 5.0, 5.0]\n",
       "SFAX       [nan, 9.0, nan, nan, nan, 10.0, nan, 10.0, 9.0...\n",
       "SOUSSE     [nan, nan, nan, 25.0, 21.0, nan, 21.0, 22.0, n...\n",
       "TUNIS      [nan, 7.0, 3.0, 7.0, nan, nan, nan, 13.0, nan,...\n",
       "Name: vehicle_id, dtype: object"
      ]
     },
     "execution_count": 12,
     "metadata": {},
     "output_type": "execute_result"
    }
   ],
   "source": [
    "df2.groupby('pickup_addr')['vehicle_id'].apply(list)"
   ]
  },
  {
   "cell_type": "code",
   "execution_count": 13,
   "metadata": {},
   "outputs": [
    {
     "name": "stderr",
     "output_type": "stream",
     "text": [
      "C:\\Users\\meher\\anaconda3\\lib\\site-packages\\pandas\\core\\indexing.py:670: SettingWithCopyWarning: \n",
      "A value is trying to be set on a copy of a slice from a DataFrame\n",
      "\n",
      "See the caveats in the documentation: https://pandas.pydata.org/pandas-docs/stable/user_guide/indexing.html#returning-a-view-versus-a-copy\n",
      "  self._setitem_with_indexer(indexer, value)\n"
     ]
    }
   ],
   "source": [
    "for i in range(len(df1['vehicle_id'])):\n",
    "    if np.isnan(df1['vehicle_id'].iloc[i]):\n",
    "        df1['vehicle_id'].iloc[i]=getVihicleByAdress(df1,df1['pickup_addr'].iloc[i])"
   ]
  },
  {
   "cell_type": "markdown",
   "metadata": {},
   "source": [
    "<h1> prepare train and test data </h1>"
   ]
  },
  {
   "cell_type": "code",
   "execution_count": 14,
   "metadata": {},
   "outputs": [
    {
     "data": {
      "text/plain": [
       "array([20., 19.,  7.,  3.,  9., 51., 21., 10., 23., 52., 13., 46., 16.,\n",
       "       18., 11.,  5., 17., 22., 25.,  8.])"
      ]
     },
     "execution_count": 14,
     "metadata": {},
     "output_type": "execute_result"
    }
   ],
   "source": [
    "vihicule_id=df1['vehicle_id'].unique()\n",
    "vihicule_id"
   ]
  },
  {
   "cell_type": "code",
   "execution_count": 15,
   "metadata": {},
   "outputs": [],
   "source": [
    "df = pd.DataFrame()\n",
    "df['Datetime'] = df1['date_time']\n",
    "for i in range(len(df1)):\n",
    "    \n",
    "    df['Year'] = df.Datetime.dt.year\n",
    "    df['Month'] = df.Datetime.dt.month\n",
    "    df['Day'] = df.Datetime.dt.day\n",
    "    df['Hour'] = df.Datetime.dt.hour\n",
    "    #df['Minute'] = df.Datetime.dt.minute\n"
   ]
  },
  {
   "cell_type": "code",
   "execution_count": 16,
   "metadata": {},
   "outputs": [
    {
     "data": {
      "text/plain": [
       "(2048, 24)"
      ]
     },
     "execution_count": 16,
     "metadata": {},
     "output_type": "execute_result"
    }
   ],
   "source": [
    "df1.shape"
   ]
  },
  {
   "cell_type": "code",
   "execution_count": 17,
   "metadata": {},
   "outputs": [],
   "source": [
    "y=df1[['dest_addr','pickup_addr']]"
   ]
  },
  {
   "cell_type": "code",
   "execution_count": 18,
   "metadata": {},
   "outputs": [
    {
     "data": {
      "text/html": [
       "<div>\n",
       "<style scoped>\n",
       "    .dataframe tbody tr th:only-of-type {\n",
       "        vertical-align: middle;\n",
       "    }\n",
       "\n",
       "    .dataframe tbody tr th {\n",
       "        vertical-align: top;\n",
       "    }\n",
       "\n",
       "    .dataframe thead th {\n",
       "        text-align: right;\n",
       "    }\n",
       "</style>\n",
       "<table border=\"1\" class=\"dataframe\">\n",
       "  <thead>\n",
       "    <tr style=\"text-align: right;\">\n",
       "      <th></th>\n",
       "      <th>pickup_addr</th>\n",
       "      <th>dest_addr</th>\n",
       "    </tr>\n",
       "  </thead>\n",
       "  <tbody>\n",
       "    <tr>\n",
       "      <th>154</th>\n",
       "      <td>SOUSSE</td>\n",
       "      <td>SFAX</td>\n",
       "    </tr>\n",
       "    <tr>\n",
       "      <th>92</th>\n",
       "      <td>SFAX</td>\n",
       "      <td>TUNIS</td>\n",
       "    </tr>\n",
       "    <tr>\n",
       "      <th>115</th>\n",
       "      <td>SOUSSE</td>\n",
       "      <td>TUNIS</td>\n",
       "    </tr>\n",
       "    <tr>\n",
       "      <th>121</th>\n",
       "      <td>SOUSSE</td>\n",
       "      <td>SFAX</td>\n",
       "    </tr>\n",
       "    <tr>\n",
       "      <th>83</th>\n",
       "      <td>TUNIS</td>\n",
       "      <td>SFAX</td>\n",
       "    </tr>\n",
       "  </tbody>\n",
       "</table>\n",
       "</div>"
      ],
      "text/plain": [
       "    pickup_addr dest_addr\n",
       "154      SOUSSE      SFAX\n",
       "92         SFAX     TUNIS\n",
       "115      SOUSSE     TUNIS\n",
       "121      SOUSSE      SFAX\n",
       "83        TUNIS      SFAX"
      ]
     },
     "execution_count": 18,
     "metadata": {},
     "output_type": "execute_result"
    }
   ],
   "source": [
    "df1[['pickup_addr','dest_addr']].tail()"
   ]
  },
  {
   "cell_type": "code",
   "execution_count": 19,
   "metadata": {},
   "outputs": [],
   "source": [
    "x=pd.concat([df[['Year','Day','Month','Hour']],df1['vehicle_id']],sort=False,axis=1)\n"
   ]
  },
  {
   "cell_type": "code",
   "execution_count": 20,
   "metadata": {},
   "outputs": [
    {
     "data": {
      "text/plain": [
       "(2048, 5)"
      ]
     },
     "execution_count": 20,
     "metadata": {},
     "output_type": "execute_result"
    }
   ],
   "source": [
    "x.shape"
   ]
  },
  {
   "cell_type": "code",
   "execution_count": 21,
   "metadata": {},
   "outputs": [
    {
     "data": {
      "text/html": [
       "<div>\n",
       "<style scoped>\n",
       "    .dataframe tbody tr th:only-of-type {\n",
       "        vertical-align: middle;\n",
       "    }\n",
       "\n",
       "    .dataframe tbody tr th {\n",
       "        vertical-align: top;\n",
       "    }\n",
       "\n",
       "    .dataframe thead th {\n",
       "        text-align: right;\n",
       "    }\n",
       "</style>\n",
       "<table border=\"1\" class=\"dataframe\">\n",
       "  <thead>\n",
       "    <tr style=\"text-align: right;\">\n",
       "      <th></th>\n",
       "      <th>Year</th>\n",
       "      <th>Day</th>\n",
       "      <th>Month</th>\n",
       "      <th>Hour</th>\n",
       "      <th>vehicle_id</th>\n",
       "    </tr>\n",
       "  </thead>\n",
       "  <tbody>\n",
       "    <tr>\n",
       "      <th>0</th>\n",
       "      <td>2019</td>\n",
       "      <td>3</td>\n",
       "      <td>7</td>\n",
       "      <td>12</td>\n",
       "      <td>20.0</td>\n",
       "    </tr>\n",
       "    <tr>\n",
       "      <th>1</th>\n",
       "      <td>2019</td>\n",
       "      <td>6</td>\n",
       "      <td>7</td>\n",
       "      <td>7</td>\n",
       "      <td>19.0</td>\n",
       "    </tr>\n",
       "    <tr>\n",
       "      <th>2</th>\n",
       "      <td>2019</td>\n",
       "      <td>8</td>\n",
       "      <td>7</td>\n",
       "      <td>8</td>\n",
       "      <td>7.0</td>\n",
       "    </tr>\n",
       "    <tr>\n",
       "      <th>3</th>\n",
       "      <td>2019</td>\n",
       "      <td>11</td>\n",
       "      <td>7</td>\n",
       "      <td>9</td>\n",
       "      <td>3.0</td>\n",
       "    </tr>\n",
       "    <tr>\n",
       "      <th>4</th>\n",
       "      <td>2019</td>\n",
       "      <td>14</td>\n",
       "      <td>7</td>\n",
       "      <td>12</td>\n",
       "      <td>7.0</td>\n",
       "    </tr>\n",
       "    <tr>\n",
       "      <th>...</th>\n",
       "      <td>...</td>\n",
       "      <td>...</td>\n",
       "      <td>...</td>\n",
       "      <td>...</td>\n",
       "      <td>...</td>\n",
       "    </tr>\n",
       "    <tr>\n",
       "      <th>154</th>\n",
       "      <td>2020</td>\n",
       "      <td>31</td>\n",
       "      <td>10</td>\n",
       "      <td>16</td>\n",
       "      <td>22.0</td>\n",
       "    </tr>\n",
       "    <tr>\n",
       "      <th>92</th>\n",
       "      <td>2020</td>\n",
       "      <td>31</td>\n",
       "      <td>10</td>\n",
       "      <td>13</td>\n",
       "      <td>21.0</td>\n",
       "    </tr>\n",
       "    <tr>\n",
       "      <th>115</th>\n",
       "      <td>2020</td>\n",
       "      <td>31</td>\n",
       "      <td>10</td>\n",
       "      <td>7</td>\n",
       "      <td>22.0</td>\n",
       "    </tr>\n",
       "    <tr>\n",
       "      <th>121</th>\n",
       "      <td>2020</td>\n",
       "      <td>31</td>\n",
       "      <td>10</td>\n",
       "      <td>7</td>\n",
       "      <td>21.0</td>\n",
       "    </tr>\n",
       "    <tr>\n",
       "      <th>83</th>\n",
       "      <td>2020</td>\n",
       "      <td>31</td>\n",
       "      <td>10</td>\n",
       "      <td>9</td>\n",
       "      <td>3.0</td>\n",
       "    </tr>\n",
       "  </tbody>\n",
       "</table>\n",
       "<p>2048 rows × 5 columns</p>\n",
       "</div>"
      ],
      "text/plain": [
       "     Year  Day  Month  Hour  vehicle_id\n",
       "0    2019    3      7    12        20.0\n",
       "1    2019    6      7     7        19.0\n",
       "2    2019    8      7     8         7.0\n",
       "3    2019   11      7     9         3.0\n",
       "4    2019   14      7    12         7.0\n",
       "..    ...  ...    ...   ...         ...\n",
       "154  2020   31     10    16        22.0\n",
       "92   2020   31     10    13        21.0\n",
       "115  2020   31     10     7        22.0\n",
       "121  2020   31     10     7        21.0\n",
       "83   2020   31     10     9         3.0\n",
       "\n",
       "[2048 rows x 5 columns]"
      ]
     },
     "execution_count": 21,
     "metadata": {},
     "output_type": "execute_result"
    }
   ],
   "source": [
    "x"
   ]
  },
  {
   "cell_type": "code",
   "execution_count": 22,
   "metadata": {},
   "outputs": [],
   "source": [
    "x_train, x_test, y_train, y_test = train_test_split(x, y, test_size=0.15, random_state=1)\n"
   ]
  },
  {
   "cell_type": "markdown",
   "metadata": {},
   "source": [
    "<h1>train model</h1>"
   ]
  },
  {
   "cell_type": "code",
   "execution_count": 23,
   "metadata": {},
   "outputs": [
    {
     "name": "stderr",
     "output_type": "stream",
     "text": [
      "C:\\Users\\meher\\anaconda3\\lib\\site-packages\\sklearn\\linear_model\\_logistic.py:940: ConvergenceWarning: lbfgs failed to converge (status=1):\n",
      "STOP: TOTAL NO. of ITERATIONS REACHED LIMIT.\n",
      "\n",
      "Increase the number of iterations (max_iter) or scale the data as shown in:\n",
      "    https://scikit-learn.org/stable/modules/preprocessing.html\n",
      "Please also refer to the documentation for alternative solver options:\n",
      "    https://scikit-learn.org/stable/modules/linear_model.html#logistic-regression\n",
      "  extra_warning_msg=_LOGISTIC_SOLVER_CONVERGENCE_MSG)\n",
      "C:\\Users\\meher\\anaconda3\\lib\\site-packages\\sklearn\\linear_model\\_logistic.py:940: ConvergenceWarning: lbfgs failed to converge (status=1):\n",
      "STOP: TOTAL NO. of ITERATIONS REACHED LIMIT.\n",
      "\n",
      "Increase the number of iterations (max_iter) or scale the data as shown in:\n",
      "    https://scikit-learn.org/stable/modules/preprocessing.html\n",
      "Please also refer to the documentation for alternative solver options:\n",
      "    https://scikit-learn.org/stable/modules/linear_model.html#logistic-regression\n",
      "  extra_warning_msg=_LOGISTIC_SOLVER_CONVERGENCE_MSG)\n"
     ]
    },
    {
     "name": "stdout",
     "output_type": "stream",
     "text": [
      "the score of LR  is : 0.11363636363636363 \n",
      "the score of LDA  is : 0.11363636363636363 \n",
      "the score of KNN  is : 0.3474025974025974 \n",
      "the score of CART  is : 0.38636363636363635 \n",
      "the score of NB  is : 0.17532467532467533 \n",
      "the score of SVM  is : 0.06818181818181818 \n"
     ]
    }
   ],
   "source": [
    "\n",
    "# Compare Algorithms\n",
    "\n",
    "import matplotlib.pyplot as plt\n",
    "from sklearn import model_selection\n",
    "from sklearn.linear_model import LogisticRegression\n",
    "from sklearn.tree import DecisionTreeClassifier\n",
    "from sklearn.neighbors import KNeighborsClassifier\n",
    "from sklearn.discriminant_analysis import LinearDiscriminantAnalysis\n",
    "from sklearn.naive_bayes import GaussianNB\n",
    "from sklearn.svm import SVC\n",
    "from sklearn.multioutput import MultiOutputClassifier\n",
    "# load dataset\n",
    "\n",
    "# prepare configuration for cross validation test harness\n",
    "seed = 7\n",
    "# prepare models\n",
    "models = []\n",
    "models.append(('LR', LogisticRegression()))\n",
    "models.append(('LDA', LinearDiscriminantAnalysis()))\n",
    "models.append(('KNN', KNeighborsClassifier()))\n",
    "models.append(('CART', DecisionTreeClassifier()))\n",
    "models.append(('NB', GaussianNB()))\n",
    "models.append(('SVM', SVC()))\n",
    "# evaluate each model in turn\n",
    "results = []\n",
    "names = []\n",
    "scores = []\n",
    "scoring = 'accuracy'\n",
    "\n",
    "for name, model in models:\n",
    "  \n",
    "    cv_results = MultiOutputClassifier(model).fit(x_train,y_train)\n",
    "   \n",
    "    results.append(cv_results)\n",
    "    names.append(name)\n",
    "    msg = \"the score of %s  is : %s \" % (name, cv_results.score(x_test,y_test))\n",
    "    scores.append(cv_results.score(x_test,y_test))\n",
    "    print(msg)\n",
    "# boxplot algorithm comparison\n",
    "\n"
   ]
  },
  {
   "cell_type": "code",
   "execution_count": 24,
   "metadata": {},
   "outputs": [],
   "source": [
    "import pickle\n"
   ]
  },
  {
   "cell_type": "code",
   "execution_count": 25,
   "metadata": {},
   "outputs": [],
   "source": [
    "import pickle\n",
    "\n",
    "with open(\"models.dat\", \"rb\") as f:\n",
    "    results=pickle.load(f)\n",
    "   "
   ]
  },
  {
   "cell_type": "code",
   "execution_count": 26,
   "metadata": {},
   "outputs": [],
   "source": [
    "def get_model(model):\n",
    "    models = {\n",
    "        'LR': 0,\n",
    "        'LDA': 1,\n",
    "        'KNN': 2,\n",
    "        \"DT\": 3,\n",
    "        'GNB': 4,\n",
    "        'SVM': 5,\n",
    "    }\n",
    "    return (models.get(model, \"Invalid model\")) "
   ]
  },
  {
   "cell_type": "code",
   "execution_count": 27,
   "metadata": {},
   "outputs": [
    {
     "name": "stdout",
     "output_type": "stream",
     "text": [
      "MySQL connection is closed\n"
     ]
    },
    {
     "data": {
      "text/plain": [
       "[{'message': 'this vihicle of the company : 10 , departement : 3 with the make : Scania and a model : Y6',\n",
       "  'type_id': 17,\n",
       "  'score': 0.38636363636363635}]"
      ]
     },
     "execution_count": 27,
     "metadata": {},
     "output_type": "execute_result"
    }
   ],
   "source": [
    "\n",
    "import mysql.connector\n",
    "from mysql.connector import Error\n",
    "\n",
    "def get_vehicle(ids,model_name):\n",
    "\n",
    "    try:\n",
    "        connection = mysql.connector.connect(host='localhost',\n",
    "                                         database='optimatets',\n",
    "                                         user='root',\n",
    "                                         password='')\n",
    "        records=[]  \n",
    "        sql_select_Query=[]\n",
    "        vihicle=[]\n",
    "        for i in ids:        \n",
    "            reqet = \"SELECT department_id,company_id,make,model,type_id FROM vehicles WHERE id='\" + str(i) + \"';\"\n",
    "            sql_select_Query.append(reqet)\n",
    "       \n",
    "        for req in sql_select_Query:\n",
    "            cursor = connection.cursor()\n",
    "            cursor.execute(req)\n",
    "            ex=cursor.fetchall()[0]\n",
    "            msg=\"this vihicle of the company : \"+str(ex[1])+\" , departement : \"+str(ex[0]) +\" with the make : \"+ ex[2]+\" and a model : \"+ex[3]\n",
    "            records.append(ex)    \n",
    "            vihicle.append({'message':msg,'type_id':ex[4],\"score\":scores[get_model(model_name)]})\n",
    "    except Error as e:\n",
    "        print(\"Error reading data from MySQL table\", e)\n",
    "    finally:\n",
    "        if (connection.is_connected()):\n",
    "            connection.close()\n",
    "            cursor.close()\n",
    "            print(\"MySQL connection is closed\")\n",
    "    \n",
    "    return(vihicle)\n",
    "get_vehicle([4],'DT')       "
   ]
  },
  {
   "cell_type": "code",
   "execution_count": 28,
   "metadata": {},
   "outputs": [
    {
     "name": "stdout",
     "output_type": "stream",
     "text": [
      " * Serving Flask app \"__main__\" (lazy loading)\n",
      " * Environment: production\n",
      "   WARNING: This is a development server. Do not use it in a production deployment.\n",
      "   Use a production WSGI server instead.\n",
      " * Debug mode: off\n"
     ]
    },
    {
     "name": "stderr",
     "output_type": "stream",
     "text": [
      " * Running on http://127.0.0.1:5000/ (Press CTRL+C to quit)\n",
      "127.0.0.1 - - [30/Oct/2020 09:45:51] \"\u001b[37mPOST / HTTP/1.1\u001b[0m\" 200 -\n"
     ]
    },
    {
     "name": "stdout",
     "output_type": "stream",
     "text": [
      "{'date': '2020-12-20T10:10', 'retour': 'sfax', 'destination': 'Sousse', 'model': 'SVM'}\n",
      "   destination pickup  Year Day Month  Hour    id\n",
      "0        TUNIS  TUNIS  2020  20    12    10  20.0\n",
      "1        TUNIS  TUNIS  2020  20    12    10  19.0\n",
      "2        TUNIS  TUNIS  2020  20    12    10   7.0\n",
      "3        TUNIS  TUNIS  2020  20    12    10   3.0\n",
      "4        TUNIS  TUNIS  2020  20    12    10   9.0\n",
      "5        TUNIS  TUNIS  2020  20    12    10  51.0\n",
      "6        TUNIS  TUNIS  2020  20    12    10  21.0\n",
      "7        TUNIS  TUNIS  2020  20    12    10  10.0\n",
      "8        TUNIS  TUNIS  2020  20    12    10  23.0\n",
      "9        TUNIS  TUNIS  2020  20    12    10  52.0\n",
      "10       TUNIS  TUNIS  2020  20    12    10  13.0\n",
      "11       TUNIS  TUNIS  2020  20    12    10  46.0\n",
      "12       TUNIS  TUNIS  2020  20    12    10  16.0\n",
      "13       TUNIS  TUNIS  2020  20    12    10  18.0\n",
      "14       TUNIS  TUNIS  2020  20    12    10  11.0\n",
      "15       TUNIS  TUNIS  2020  20    12    10   5.0\n",
      "16       TUNIS  TUNIS  2020  20    12    10  17.0\n",
      "17       TUNIS  TUNIS  2020  20    12    10  22.0\n",
      "18       TUNIS  TUNIS  2020  20    12    10  25.0\n",
      "19       TUNIS  TUNIS  2020  20    12    10   8.0\n",
      "Empty DataFrame\n",
      "Columns: [destination, pickup, Year, Day, Month, Hour, id]\n",
      "Index: []\n",
      "[{'message': 'there is no vehicles , please change the time or pickup/destination', 'type_id': -1, 'score': 0.06818181818181818}]\n"
     ]
    },
    {
     "name": "stderr",
     "output_type": "stream",
     "text": [
      "127.0.0.1 - - [30/Oct/2020 09:46:29] \"\u001b[37mPOST / HTTP/1.1\u001b[0m\" 200 -\n"
     ]
    },
    {
     "name": "stdout",
     "output_type": "stream",
     "text": [
      "{'date': '2020-12-20T10:10', 'retour': 'sfax', 'destination': 'Sousse', 'model': 'DT'}\n",
      "   destination  pickup  Year Day Month  Hour    id\n",
      "0         SFAX   TUNIS  2020  20    12    10  20.0\n",
      "1       NABEUL    SFAX  2020  20    12    10  19.0\n",
      "2         SFAX   TUNIS  2020  20    12    10   7.0\n",
      "3         SFAX   TUNIS  2020  20    12    10   3.0\n",
      "4        TUNIS    SFAX  2020  20    12    10   9.0\n",
      "5         SFAX   TUNIS  2020  20    12    10  51.0\n",
      "6         SFAX   GABES  2020  20    12    10  21.0\n",
      "7        TUNIS    SFAX  2020  20    12    10  10.0\n",
      "8         SFAX    BEJA  2020  20    12    10  23.0\n",
      "9        TUNIS   TUNIS  2020  20    12    10  52.0\n",
      "10       GABES   TUNIS  2020  20    12    10  13.0\n",
      "11        SFAX   TUNIS  2020  20    12    10  46.0\n",
      "12       GABES   TUNIS  2020  20    12    10  16.0\n",
      "13       GABES   TUNIS  2020  20    12    10  18.0\n",
      "14       GABES   TUNIS  2020  20    12    10  11.0\n",
      "15        SFAX   TUNIS  2020  20    12    10   5.0\n",
      "16       GABES   TUNIS  2020  20    12    10  17.0\n",
      "17        SFAX  SOUSSE  2020  20    12    10  22.0\n",
      "18       TUNIS  SOUSSE  2020  20    12    10  25.0\n",
      "19        SFAX  ARIANA  2020  20    12    10   8.0\n",
      "Empty DataFrame\n",
      "Columns: [destination, pickup, Year, Day, Month, Hour, id]\n",
      "Index: []\n",
      "[{'message': 'there is no vehicles , please change the time or pickup/destination', 'type_id': -1, 'score': 0.38636363636363635}]\n"
     ]
    },
    {
     "name": "stderr",
     "output_type": "stream",
     "text": [
      "127.0.0.1 - - [30/Oct/2020 09:48:40] \"\u001b[37mPOST / HTTP/1.1\u001b[0m\" 200 -\n"
     ]
    },
    {
     "name": "stdout",
     "output_type": "stream",
     "text": [
      "{'date': '2020-12-20T10:10', 'retour': 'sfax', 'destination': 'Sousse', 'model': 'DT'}\n",
      "   destination  pickup  Year Day Month  Hour    id\n",
      "0         SFAX   TUNIS  2020  20    12    10  20.0\n",
      "1       NABEUL    SFAX  2020  20    12    10  19.0\n",
      "2         SFAX   TUNIS  2020  20    12    10   7.0\n",
      "3         SFAX   TUNIS  2020  20    12    10   3.0\n",
      "4        TUNIS    SFAX  2020  20    12    10   9.0\n",
      "5         SFAX   TUNIS  2020  20    12    10  51.0\n",
      "6         SFAX   GABES  2020  20    12    10  21.0\n",
      "7        TUNIS    SFAX  2020  20    12    10  10.0\n",
      "8         SFAX    BEJA  2020  20    12    10  23.0\n",
      "9        TUNIS   TUNIS  2020  20    12    10  52.0\n",
      "10       GABES   TUNIS  2020  20    12    10  13.0\n",
      "11        SFAX   TUNIS  2020  20    12    10  46.0\n",
      "12       GABES   TUNIS  2020  20    12    10  16.0\n",
      "13       GABES   TUNIS  2020  20    12    10  18.0\n",
      "14       GABES   TUNIS  2020  20    12    10  11.0\n",
      "15        SFAX   TUNIS  2020  20    12    10   5.0\n",
      "16       GABES   TUNIS  2020  20    12    10  17.0\n",
      "17        SFAX  SOUSSE  2020  20    12    10  22.0\n",
      "18       TUNIS  SOUSSE  2020  20    12    10  25.0\n",
      "19        SFAX  ARIANA  2020  20    12    10   8.0\n",
      "Empty DataFrame\n",
      "Columns: [destination, pickup, Year, Day, Month, Hour, id]\n",
      "Index: []\n",
      "[{'message': 'there is no vehicles , please change the time or pickup/destination', 'type_id': -1, 'score': 0.38636363636363635}]\n"
     ]
    },
    {
     "name": "stderr",
     "output_type": "stream",
     "text": [
      "127.0.0.1 - - [30/Oct/2020 10:00:20] \"\u001b[37mPOST / HTTP/1.1\u001b[0m\" 200 -\n"
     ]
    },
    {
     "name": "stdout",
     "output_type": "stream",
     "text": [
      "{'date': '2020-12-20T10:10', 'retour': 'sfax', 'destination': 'Sousse', 'model': 'DT'}\n",
      "   destination  pickup  Year Day Month  Hour    id\n",
      "0         SFAX   TUNIS  2020  20    12    10  20.0\n",
      "1       NABEUL    SFAX  2020  20    12    10  19.0\n",
      "2         SFAX   TUNIS  2020  20    12    10   7.0\n",
      "3         SFAX   TUNIS  2020  20    12    10   3.0\n",
      "4        TUNIS    SFAX  2020  20    12    10   9.0\n",
      "5         SFAX   TUNIS  2020  20    12    10  51.0\n",
      "6         SFAX   GABES  2020  20    12    10  21.0\n",
      "7        TUNIS    SFAX  2020  20    12    10  10.0\n",
      "8         SFAX    BEJA  2020  20    12    10  23.0\n",
      "9        TUNIS   TUNIS  2020  20    12    10  52.0\n",
      "10       GABES   TUNIS  2020  20    12    10  13.0\n",
      "11        SFAX   TUNIS  2020  20    12    10  46.0\n",
      "12       GABES   TUNIS  2020  20    12    10  16.0\n",
      "13       GABES   TUNIS  2020  20    12    10  18.0\n",
      "14       GABES   TUNIS  2020  20    12    10  11.0\n",
      "15        SFAX   TUNIS  2020  20    12    10   5.0\n",
      "16       GABES   TUNIS  2020  20    12    10  17.0\n",
      "17        SFAX  SOUSSE  2020  20    12    10  22.0\n",
      "18       TUNIS  SOUSSE  2020  20    12    10  25.0\n",
      "19        SFAX  ARIANA  2020  20    12    10   8.0\n",
      "Empty DataFrame\n",
      "Columns: [destination, pickup, Year, Day, Month, Hour, id]\n",
      "Index: []\n",
      "[{'message': 'there is no vehicles , please change the time or pickup/destination', 'type_id': -1, 'score': 0.38636363636363635}]\n"
     ]
    },
    {
     "name": "stderr",
     "output_type": "stream",
     "text": [
      "127.0.0.1 - - [30/Oct/2020 10:01:02] \"\u001b[37mPOST / HTTP/1.1\u001b[0m\" 200 -\n"
     ]
    },
    {
     "name": "stdout",
     "output_type": "stream",
     "text": [
      "{'date': '2020-12-20T10:10', 'retour': 'sfax', 'destination': 'Sousse', 'model': 'LR'}\n",
      "   destination  pickup  Year Day Month  Hour    id\n",
      "0        TUNIS   TUNIS  2020  20    12    10  20.0\n",
      "1        TUNIS   TUNIS  2020  20    12    10  19.0\n",
      "2        TUNIS   TUNIS  2020  20    12    10   7.0\n",
      "3        TUNIS  ARIANA  2020  20    12    10   3.0\n",
      "4        TUNIS   TUNIS  2020  20    12    10   9.0\n",
      "5        TUNIS   TUNIS  2020  20    12    10  51.0\n",
      "6        TUNIS   TUNIS  2020  20    12    10  21.0\n",
      "7        TUNIS   TUNIS  2020  20    12    10  10.0\n",
      "8        TUNIS   TUNIS  2020  20    12    10  23.0\n",
      "9        TUNIS   TUNIS  2020  20    12    10  52.0\n",
      "10       TUNIS   TUNIS  2020  20    12    10  13.0\n",
      "11       TUNIS   TUNIS  2020  20    12    10  46.0\n",
      "12       TUNIS   TUNIS  2020  20    12    10  16.0\n",
      "13       TUNIS   TUNIS  2020  20    12    10  18.0\n",
      "14       TUNIS   TUNIS  2020  20    12    10  11.0\n",
      "15       TUNIS   TUNIS  2020  20    12    10   5.0\n",
      "16       TUNIS   TUNIS  2020  20    12    10  17.0\n",
      "17       TUNIS   TUNIS  2020  20    12    10  22.0\n",
      "18       TUNIS   TUNIS  2020  20    12    10  25.0\n",
      "19       TUNIS   TUNIS  2020  20    12    10   8.0\n",
      "Empty DataFrame\n",
      "Columns: [destination, pickup, Year, Day, Month, Hour, id]\n",
      "Index: []\n",
      "[{'message': 'there is no vehicles , please change the time or pickup/destination', 'type_id': -1, 'score': 0.11363636363636363}]\n"
     ]
    },
    {
     "name": "stderr",
     "output_type": "stream",
     "text": [
      "127.0.0.1 - - [30/Oct/2020 10:01:40] \"\u001b[37mPOST / HTTP/1.1\u001b[0m\" 200 -\n"
     ]
    },
    {
     "name": "stdout",
     "output_type": "stream",
     "text": [
      "MySQL connection is closed\n",
      "{'date': '2020-12-20T10:10', 'retour': 'tunis', 'destination': 'sfax', 'model': 'DT'}\n",
      "   destination  pickup  Year Day Month  Hour    id\n",
      "0         SFAX   TUNIS  2020  20    12    10  20.0\n",
      "1       NABEUL    SFAX  2020  20    12    10  19.0\n",
      "2         SFAX   TUNIS  2020  20    12    10   7.0\n",
      "3         SFAX   TUNIS  2020  20    12    10   3.0\n",
      "4        TUNIS    SFAX  2020  20    12    10   9.0\n",
      "5         SFAX   TUNIS  2020  20    12    10  51.0\n",
      "6         SFAX   GABES  2020  20    12    10  21.0\n",
      "7        TUNIS    SFAX  2020  20    12    10  10.0\n",
      "8         SFAX    BEJA  2020  20    12    10  23.0\n",
      "9        TUNIS   TUNIS  2020  20    12    10  52.0\n",
      "10       GABES   TUNIS  2020  20    12    10  13.0\n",
      "11        SFAX   TUNIS  2020  20    12    10  46.0\n",
      "12       GABES   TUNIS  2020  20    12    10  16.0\n",
      "13       GABES   TUNIS  2020  20    12    10  18.0\n",
      "14       GABES   TUNIS  2020  20    12    10  11.0\n",
      "15        SFAX   TUNIS  2020  20    12    10   5.0\n",
      "16       GABES   TUNIS  2020  20    12    10  17.0\n",
      "17        SFAX  SOUSSE  2020  20    12    10  22.0\n",
      "18       TUNIS  SOUSSE  2020  20    12    10  25.0\n",
      "19        SFAX  ARIANA  2020  20    12    10   8.0\n",
      "   destination pickup  Year Day Month  Hour    id\n",
      "0         SFAX  TUNIS  2020  20    12    10  20.0\n",
      "2         SFAX  TUNIS  2020  20    12    10   7.0\n",
      "3         SFAX  TUNIS  2020  20    12    10   3.0\n",
      "5         SFAX  TUNIS  2020  20    12    10  51.0\n",
      "11        SFAX  TUNIS  2020  20    12    10  46.0\n",
      "15        SFAX  TUNIS  2020  20    12    10   5.0\n",
      "[{'message': 'this vihicle of the company : 13 , departement : 8 with the make : peugoet and a model : peugoet', 'type_id': 19, 'score': 0.38636363636363635}, {'message': 'this vihicle of the company : 11 , departement : 4 with the make : Peugeot and a model : 3008', 'type_id': 6, 'score': 0.38636363636363635}, {'message': 'this vihicle of the company : 10 , departement : 3 with the make : Peugeot and a model : Berlingo', 'type_id': 3, 'score': 0.38636363636363635}, {'message': 'this vihicle of the company : 56 , departement : None with the make : IVECO and a model : 35J11', 'type_id': 1, 'score': 0.38636363636363635}, {'message': 'this vihicle of the company : 47 , departement : None with the make : MERCEDES and a model : DAIMLER BENZ', 'type_id': 1, 'score': 0.38636363636363635}, {'message': 'this vihicle of the company : 11 , departement : 4 with the make : Renault and a model : Piagio', 'type_id': 17, 'score': 0.38636363636363635}]\n"
     ]
    },
    {
     "name": "stderr",
     "output_type": "stream",
     "text": [
      "[2020-10-30 10:17:58,294] ERROR in app: Exception on / [POST]\n",
      "Traceback (most recent call last):\n",
      "  File \"C:\\Users\\meher\\anaconda3\\lib\\site-packages\\flask\\app.py\", line 2446, in wsgi_app\n",
      "    response = self.full_dispatch_request()\n",
      "  File \"C:\\Users\\meher\\anaconda3\\lib\\site-packages\\flask\\app.py\", line 1951, in full_dispatch_request\n",
      "    rv = self.handle_user_exception(e)\n",
      "  File \"C:\\Users\\meher\\anaconda3\\lib\\site-packages\\flask\\app.py\", line 1820, in handle_user_exception\n",
      "    reraise(exc_type, exc_value, tb)\n",
      "  File \"C:\\Users\\meher\\anaconda3\\lib\\site-packages\\flask\\_compat.py\", line 39, in reraise\n",
      "    raise value\n",
      "  File \"C:\\Users\\meher\\anaconda3\\lib\\site-packages\\flask\\app.py\", line 1949, in full_dispatch_request\n",
      "    rv = self.dispatch_request()\n",
      "  File \"C:\\Users\\meher\\anaconda3\\lib\\site-packages\\flask\\app.py\", line 1935, in dispatch_request\n",
      "    return self.view_functions[rule.endpoint](**req.view_args)\n",
      "  File \"<ipython-input-28-9bee8f2a70a1>\", line 10, in index\n",
      "    hours=date[1].split(':')\n",
      "IndexError: list index out of range\n",
      "127.0.0.1 - - [30/Oct/2020 10:17:58] \"\u001b[35m\u001b[1mPOST / HTTP/1.1\u001b[0m\" 500 -\n",
      "[2020-10-30 10:17:59,689] ERROR in app: Exception on / [POST]\n",
      "Traceback (most recent call last):\n",
      "  File \"C:\\Users\\meher\\anaconda3\\lib\\site-packages\\flask\\app.py\", line 2446, in wsgi_app\n",
      "    response = self.full_dispatch_request()\n",
      "  File \"C:\\Users\\meher\\anaconda3\\lib\\site-packages\\flask\\app.py\", line 1951, in full_dispatch_request\n",
      "    rv = self.handle_user_exception(e)\n",
      "  File \"C:\\Users\\meher\\anaconda3\\lib\\site-packages\\flask\\app.py\", line 1820, in handle_user_exception\n",
      "    reraise(exc_type, exc_value, tb)\n",
      "  File \"C:\\Users\\meher\\anaconda3\\lib\\site-packages\\flask\\_compat.py\", line 39, in reraise\n",
      "    raise value\n",
      "  File \"C:\\Users\\meher\\anaconda3\\lib\\site-packages\\flask\\app.py\", line 1949, in full_dispatch_request\n",
      "    rv = self.dispatch_request()\n",
      "  File \"C:\\Users\\meher\\anaconda3\\lib\\site-packages\\flask\\app.py\", line 1935, in dispatch_request\n",
      "    return self.view_functions[rule.endpoint](**req.view_args)\n",
      "  File \"<ipython-input-28-9bee8f2a70a1>\", line 10, in index\n",
      "    hours=date[1].split(':')\n",
      "IndexError: list index out of range\n",
      "127.0.0.1 - - [30/Oct/2020 10:17:59] \"\u001b[35m\u001b[1mPOST / HTTP/1.1\u001b[0m\" 500 -\n",
      "[2020-10-30 10:18:00,359] ERROR in app: Exception on / [POST]\n",
      "Traceback (most recent call last):\n",
      "  File \"C:\\Users\\meher\\anaconda3\\lib\\site-packages\\flask\\app.py\", line 2446, in wsgi_app\n",
      "    response = self.full_dispatch_request()\n",
      "  File \"C:\\Users\\meher\\anaconda3\\lib\\site-packages\\flask\\app.py\", line 1951, in full_dispatch_request\n",
      "    rv = self.handle_user_exception(e)\n",
      "  File \"C:\\Users\\meher\\anaconda3\\lib\\site-packages\\flask\\app.py\", line 1820, in handle_user_exception\n",
      "    reraise(exc_type, exc_value, tb)\n",
      "  File \"C:\\Users\\meher\\anaconda3\\lib\\site-packages\\flask\\_compat.py\", line 39, in reraise\n",
      "    raise value\n",
      "  File \"C:\\Users\\meher\\anaconda3\\lib\\site-packages\\flask\\app.py\", line 1949, in full_dispatch_request\n",
      "    rv = self.dispatch_request()\n",
      "  File \"C:\\Users\\meher\\anaconda3\\lib\\site-packages\\flask\\app.py\", line 1935, in dispatch_request\n",
      "    return self.view_functions[rule.endpoint](**req.view_args)\n",
      "  File \"<ipython-input-28-9bee8f2a70a1>\", line 10, in index\n",
      "    hours=date[1].split(':')\n",
      "IndexError: list index out of range\n",
      "127.0.0.1 - - [30/Oct/2020 10:18:00] \"\u001b[35m\u001b[1mPOST / HTTP/1.1\u001b[0m\" 500 -\n",
      "[2020-10-30 10:18:00,566] ERROR in app: Exception on / [POST]\n",
      "Traceback (most recent call last):\n",
      "  File \"C:\\Users\\meher\\anaconda3\\lib\\site-packages\\flask\\app.py\", line 2446, in wsgi_app\n",
      "    response = self.full_dispatch_request()\n",
      "  File \"C:\\Users\\meher\\anaconda3\\lib\\site-packages\\flask\\app.py\", line 1951, in full_dispatch_request\n",
      "    rv = self.handle_user_exception(e)\n",
      "  File \"C:\\Users\\meher\\anaconda3\\lib\\site-packages\\flask\\app.py\", line 1820, in handle_user_exception\n",
      "    reraise(exc_type, exc_value, tb)\n",
      "  File \"C:\\Users\\meher\\anaconda3\\lib\\site-packages\\flask\\_compat.py\", line 39, in reraise\n",
      "    raise value\n",
      "  File \"C:\\Users\\meher\\anaconda3\\lib\\site-packages\\flask\\app.py\", line 1949, in full_dispatch_request\n",
      "    rv = self.dispatch_request()\n",
      "  File \"C:\\Users\\meher\\anaconda3\\lib\\site-packages\\flask\\app.py\", line 1935, in dispatch_request\n",
      "    return self.view_functions[rule.endpoint](**req.view_args)\n",
      "  File \"<ipython-input-28-9bee8f2a70a1>\", line 10, in index\n",
      "    hours=date[1].split(':')\n",
      "IndexError: list index out of range\n",
      "127.0.0.1 - - [30/Oct/2020 10:18:00] \"\u001b[35m\u001b[1mPOST / HTTP/1.1\u001b[0m\" 500 -\n",
      "[2020-10-30 10:18:00,788] ERROR in app: Exception on / [POST]\n",
      "Traceback (most recent call last):\n",
      "  File \"C:\\Users\\meher\\anaconda3\\lib\\site-packages\\flask\\app.py\", line 2446, in wsgi_app\n",
      "    response = self.full_dispatch_request()\n",
      "  File \"C:\\Users\\meher\\anaconda3\\lib\\site-packages\\flask\\app.py\", line 1951, in full_dispatch_request\n",
      "    rv = self.handle_user_exception(e)\n",
      "  File \"C:\\Users\\meher\\anaconda3\\lib\\site-packages\\flask\\app.py\", line 1820, in handle_user_exception\n",
      "    reraise(exc_type, exc_value, tb)\n",
      "  File \"C:\\Users\\meher\\anaconda3\\lib\\site-packages\\flask\\_compat.py\", line 39, in reraise\n",
      "    raise value\n",
      "  File \"C:\\Users\\meher\\anaconda3\\lib\\site-packages\\flask\\app.py\", line 1949, in full_dispatch_request\n",
      "    rv = self.dispatch_request()\n",
      "  File \"C:\\Users\\meher\\anaconda3\\lib\\site-packages\\flask\\app.py\", line 1935, in dispatch_request\n",
      "    return self.view_functions[rule.endpoint](**req.view_args)\n",
      "  File \"<ipython-input-28-9bee8f2a70a1>\", line 10, in index\n",
      "    hours=date[1].split(':')\n",
      "IndexError: list index out of range\n",
      "127.0.0.1 - - [30/Oct/2020 10:18:00] \"\u001b[35m\u001b[1mPOST / HTTP/1.1\u001b[0m\" 500 -\n"
     ]
    }
   ],
   "source": [
    "from flask import Flask, request, make_response\n",
    "import json\n",
    "app = Flask(__name__)\n",
    "@app.route('/', methods=['POST'])\n",
    "def index():\n",
    "    \n",
    "    d = request.form.to_dict() # data recived from form\n",
    "    date=d['date'].split(\"T\")\n",
    "    date1=date[0].split(\"-\")\n",
    "    hours=date[1].split(':')\n",
    "    date2=list(map(int, date1)) \n",
    "    hours2= list(map(int, hours)) \n",
    "   \n",
    "    \n",
    "    df=pd.DataFrame(columns=['Datatime'],data=np.array(range(len(vihicule_id))))\n",
    "   \n",
    "    for i in range(len(vihicule_id)):  \n",
    "    \n",
    "        df['Year'] =date1[0]\n",
    "        df['Month'] =date1[1]\n",
    "        df['Day'] = date1[2]\n",
    "        df['Hour'] =int(hours[0])\n",
    "        \n",
    "        \n",
    "    \n",
    "\n",
    "    xx=pd.concat([df[['Year','Day','Month','Hour']],pd.Series(vihicule_id).rename(\"id\")],sort=False,axis=1) #input data\n",
    "    result=pd.concat([pd.DataFrame(results[get_model(d['model'])].predict(np.array(xx))),xx],sort=False,axis=1)                 #result of prediction\n",
    "    result=result.rename(columns={0: 'destination',1:'pickup'})\n",
    "    ms=result[(result.destination == str( d['destination']).upper()) & (result.pickup == str(d['retour']).upper())] # return only the result of our destination and pickup\n",
    "        \n",
    "    if ms.empty:\n",
    "        vehicles=[{'message': 'there is no vehicles , please change the time or pickup/destination','type_id': -1,'score':scores[get_model(d['model'])]}]\n",
    "    else:\n",
    "        \n",
    "        vehicles= get_vehicle(ms['id'].tolist(),d['model'])       # return the data of vehicles predicted                                                \n",
    "    \n",
    "    \n",
    "   \n",
    "    \n",
    "   \n",
    "    \n",
    "    print(d)        # data recived from form\n",
    "    print(result)    # result of the prediction of all vehicles\n",
    "    print(ms)        # result of the prediction of  vehicle who strat of our pickup and go to destination\n",
    "    print(vehicles) # the data of vehicle predicted\n",
    "    \n",
    "    \n",
    "    data=make_response(json.dumps(vehicles)) # transform final result to json\n",
    "    resp=data\n",
    "    resp.status_code = 200\n",
    "    resp.headers['Access-Control-Allow-Origin'] = '*' # configiration \n",
    "    return resp\n",
    "\n",
    "\n",
    "    \n",
    "    \n",
    "    \n",
    "if __name__ == \"__main__\":\n",
    "    app.run()\n",
    "    "
   ]
  },
  {
   "cell_type": "code",
   "execution_count": null,
   "metadata": {},
   "outputs": [],
   "source": []
  },
  {
   "cell_type": "code",
   "execution_count": null,
   "metadata": {},
   "outputs": [],
   "source": []
  },
  {
   "cell_type": "code",
   "execution_count": 38,
   "metadata": {},
   "outputs": [],
   "source": []
  },
  {
   "cell_type": "code",
   "execution_count": 40,
   "metadata": {},
   "outputs": [
    {
     "name": "stdout",
     "output_type": "stream",
     "text": [
      "5\n"
     ]
    }
   ],
   "source": [
    "get_model('SVM')"
   ]
  },
  {
   "cell_type": "code",
   "execution_count": null,
   "metadata": {},
   "outputs": [],
   "source": []
  }
 ],
 "metadata": {
  "kernelspec": {
   "display_name": "Python 3",
   "language": "python",
   "name": "python3"
  },
  "language_info": {
   "codemirror_mode": {
    "name": "ipython",
    "version": 3
   },
   "file_extension": ".py",
   "mimetype": "text/x-python",
   "name": "python",
   "nbconvert_exporter": "python",
   "pygments_lexer": "ipython3",
   "version": "3.7.6"
  }
 },
 "nbformat": 4,
 "nbformat_minor": 4
}
