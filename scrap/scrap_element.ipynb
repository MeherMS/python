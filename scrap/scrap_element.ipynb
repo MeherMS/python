{
 "cells": [
  {
   "cell_type": "code",
   "execution_count": 1,
   "metadata": {},
   "outputs": [],
   "source": [
    "import selenium\n",
    "from selenium import webdriver as wb\n",
    "import pandas as pd\n",
    "import time\n",
    "from tqdm import tqdm"
   ]
  },
  {
   "cell_type": "code",
   "execution_count": 2,
   "metadata": {},
   "outputs": [],
   "source": [
    "df=pd.read_csv('listOflinks_tayara_voiture.csv')\n",
    "listOflinks=df[\"listOflinks\"].tolist()"
   ]
  },
  {
   "cell_type": "code",
   "execution_count": 3,
   "metadata": {},
   "outputs": [
    {
     "data": {
      "text/plain": [
       "1044"
      ]
     },
     "execution_count": 3,
     "metadata": {},
     "output_type": "execute_result"
    }
   ],
   "source": [
    "len(listOflinks)"
   ]
  },
  {
   "cell_type": "code",
   "execution_count": 4,
   "metadata": {},
   "outputs": [],
   "source": [
    "def check_data(xpath):\n",
    "    try:\n",
    "        return wbD.find_element_by_xpath(xpath).text\n",
    "    except:\n",
    "        return ''\n",
    "        "
   ]
  },
  {
   "cell_type": "code",
   "execution_count": 5,
   "metadata": {},
   "outputs": [],
   "source": [
    "wbD=wb.Chrome('chromedriver.exe')\n",
    "alldetails=[]\n",
    "brand=\"\"\n",
    "model=\"\"\n",
    "def func(x):\n",
    "    temp={}\n",
    "    try:\n",
    "        \n",
    "        wbD.get(x)\n",
    "        name = check_data('//*[@id=\"app\"]/div[3]/div/span/div/div[3]/div/div[3]/div[1]/div[2]/div/h1')\n",
    "        #print(\"--------------->\",name)\n",
    "    \n",
    "        price= check_data('//*[@id=\"app\"]/div[3]/div/span/div/div[3]/div/div[3]/div[1]/div[2]/div/h2[1]/span')\n",
    "        #print(\"--------------->\",price)\n",
    "    \n",
    "        mile_age= check_data('//*[@id=\"app\"]/div[3]/div/span/div/div[3]/div/div[4]/div/div[2]/div/div/div/div[1]/div[2]/div/p')\n",
    "        #print(\"--------------->\",mile_age)\n",
    "    \n",
    "        make= check_data('//*[@id=\"app\"]/div[3]/div/span/div/div[3]/div/div[4]/div/div[2]/div/div/div/div[3]/div[2]/div/p')\n",
    "        #print(\"--------------->\",make)\n",
    "    \n",
    "        model= check_data('//*[@id=\"app\"]/div[3]/div/span/div/div[3]/div/div[4]/div/div[2]/div/div/div/div[4]/div[2]/div/p')\n",
    "        #print(\"--------------->\",model)\n",
    "        \n",
    "        year= check_data('//*[@id=\"app\"]/div[3]/div/span/div/div[3]/div/div[4]/div/div[2]/div/div/div/div[2]/div[2]/div/p')\n",
    "        #print(\"--------------->\",year)\n",
    "        \n",
    "        fuel= check_data('//*[@id=\"app\"]/div[3]/div/span/div/div[3]/div/div[4]/div/div[2]/div/div/div/div[5]/div[2]/div/p')\n",
    "        #print(\"--------------->\",fuel)\n",
    "    \n",
    "        power= check_data('//*[@id=\"app\"]/div[3]/div/span/div/div[3]/div/div[4]/div/div[2]/div/div/div/div[6]/div[2]/div/p')\n",
    "        #print(\"--------------->\",power)\n",
    "    \n",
    "        transmission= check_data('//*[@id=\"app\"]/div[3]/div/span/div/div[3]/div/div[4]/div/div[2]/div/div/div/div[7]/div[2]/div/p')\n",
    "        #print(\"--------------->\",transmission)\n",
    "        \n",
    "        engine_size= check_data('//*[@id=\"app\"]/div[3]/div/span/div/div[3]/div/div[4]/div/div[2]/div/div/div/div[8]/div[2]/div/p')\n",
    "        #print(\"--------------->\",engine_size)\n",
    "    \n",
    "        description= check_data('/html/body/div[1]/div/span/div/div/div/div[3]/div/span/div/div[3]/div/div[4]/div/div[3]/div/div/p')\n",
    "        #print(\"--------------->\",description)\n",
    "        print(name,\"--\",price,\"--\",mile_age,\"--\",make,\"--\",model,\"--\",power)\n",
    "        print(\"*************************************\")\n",
    "        temp ={\n",
    "            'name':name,\n",
    "            'price':price,\n",
    "            'mile_age':mile_age,\n",
    "            'make':make,\n",
    "            'model':model,\n",
    "            'year':year,\n",
    "            'fuel':fuel,\n",
    "            'power':power,\n",
    "            'transmission':transmission,\n",
    "            'engine_size':engine_size,\n",
    "            'description':description,\n",
    "            'linkofproduct':i}\n",
    "        \n",
    "    except:\n",
    "        print(\"eror while scraping this page !\" ,x)\n",
    "    \n",
    "   \n",
    "    \n",
    "    alldetails.append(temp)\n",
    "    \n",
    "    return alldetails"
   ]
  },
  {
   "cell_type": "code",
   "execution_count": null,
   "metadata": {},
   "outputs": [],
   "source": [
    "res=[]\n",
    "for i in listOflinks:\n",
    "    res.append(func(i))\n"
   ]
  },
  {
   "cell_type": "code",
   "execution_count": 10,
   "metadata": {},
   "outputs": [],
   "source": [
    "df1 = pd.DataFrame(res[0])"
   ]
  },
  {
   "cell_type": "code",
   "execution_count": null,
   "metadata": {},
   "outputs": [],
   "source": [
    "df1.to_csv('used_car_tayara.csv')"
   ]
  },
  {
   "cell_type": "code",
   "execution_count": 9,
   "metadata": {},
   "outputs": [
    {
     "data": {
      "text/plain": [
       "1044"
      ]
     },
     "execution_count": 9,
     "metadata": {},
     "output_type": "execute_result"
    }
   ],
   "source": [
    "len(res[0])"
   ]
  },
  {
   "cell_type": "code",
   "execution_count": 11,
   "metadata": {},
   "outputs": [
    {
     "data": {
      "text/html": [
       "<div>\n",
       "<style scoped>\n",
       "    .dataframe tbody tr th:only-of-type {\n",
       "        vertical-align: middle;\n",
       "    }\n",
       "\n",
       "    .dataframe tbody tr th {\n",
       "        vertical-align: top;\n",
       "    }\n",
       "\n",
       "    .dataframe thead th {\n",
       "        text-align: right;\n",
       "    }\n",
       "</style>\n",
       "<table border=\"1\" class=\"dataframe\">\n",
       "  <thead>\n",
       "    <tr style=\"text-align: right;\">\n",
       "      <th></th>\n",
       "      <th>name</th>\n",
       "      <th>price</th>\n",
       "      <th>mile_age</th>\n",
       "      <th>make</th>\n",
       "      <th>model</th>\n",
       "      <th>fuel</th>\n",
       "      <th>power</th>\n",
       "      <th>transmission</th>\n",
       "      <th>engine_size</th>\n",
       "      <th>description</th>\n",
       "      <th>linkofproduct</th>\n",
       "    </tr>\n",
       "  </thead>\n",
       "  <tbody>\n",
       "    <tr>\n",
       "      <th>0</th>\n",
       "      <td>voiture</td>\n",
       "      <td>0 DT</td>\n",
       "      <td>0</td>\n",
       "      <td>AC</td>\n",
       "      <td>Seven</td>\n",
       "      <td>Essence</td>\n",
       "      <td>23</td>\n",
       "      <td>Autre</td>\n",
       "      <td>Autres</td>\n",
       "      <td>🚘🚖🚛🚍🚜تحب تشري كرهبة مع 3S LEASING SERVICE 🚘🚗🚕🚖...</td>\n",
       "      <td>https://www.tayara.tn/listings/voitures-9/fcee...</td>\n",
       "    </tr>\n",
       "    <tr>\n",
       "      <th>1</th>\n",
       "      <td>hyundai i10 sedan</td>\n",
       "      <td>0 DT</td>\n",
       "      <td>170000</td>\n",
       "      <td>Hyundai</td>\n",
       "      <td>Grand i10</td>\n",
       "      <td>Essence</td>\n",
       "      <td>5</td>\n",
       "      <td>Gris</td>\n",
       "      <td>Berline</td>\n",
       "      <td>Tel 20329598</td>\n",
       "      <td>https://www.tayara.tn/listings/voitures-9/9d48...</td>\n",
       "    </tr>\n",
       "    <tr>\n",
       "      <th>2</th>\n",
       "      <td>Volvo c30</td>\n",
       "      <td>0 DT</td>\n",
       "      <td>117</td>\n",
       "      <td>Volvo</td>\n",
       "      <td>C30</td>\n",
       "      <td>Essence</td>\n",
       "      <td>6</td>\n",
       "      <td>Blanc</td>\n",
       "      <td>Compacte</td>\n",
       "      <td>Volvo c30 très propre</td>\n",
       "      <td>https://www.tayara.tn/listings/voitures-9/49a0...</td>\n",
       "    </tr>\n",
       "    <tr>\n",
       "      <th>3</th>\n",
       "      <td>Mercedes</td>\n",
       "      <td>0 DT</td>\n",
       "      <td>340000</td>\n",
       "      <td>Mercedes-Benz</td>\n",
       "      <td>Classe ML</td>\n",
       "      <td>Diesel</td>\n",
       "      <td>11</td>\n",
       "      <td>4 x 4</td>\n",
       "      <td>Automatique</td>\n",
       "      <td>Tout option</td>\n",
       "      <td>https://www.tayara.tn/listings/voitures-9/fd38...</td>\n",
       "    </tr>\n",
       "    <tr>\n",
       "      <th>4</th>\n",
       "      <td>Citroën DS4</td>\n",
       "      <td>41 000 DT</td>\n",
       "      <td>131000</td>\n",
       "      <td>Citroen</td>\n",
       "      <td>DS4</td>\n",
       "      <td>Essence</td>\n",
       "      <td>7</td>\n",
       "      <td>Noir</td>\n",
       "      <td>Autres</td>\n",
       "      <td>À ventre une très belle Ds4,très propre ,moteu...</td>\n",
       "      <td>https://www.tayara.tn/listings/voitures-9/77bf...</td>\n",
       "    </tr>\n",
       "    <tr>\n",
       "      <th>...</th>\n",
       "      <td>...</td>\n",
       "      <td>...</td>\n",
       "      <td>...</td>\n",
       "      <td>...</td>\n",
       "      <td>...</td>\n",
       "      <td>...</td>\n",
       "      <td>...</td>\n",
       "      <td>...</td>\n",
       "      <td>...</td>\n",
       "      <td>...</td>\n",
       "      <td>...</td>\n",
       "    </tr>\n",
       "    <tr>\n",
       "      <th>1039</th>\n",
       "      <td>MERCEDES-BENZ CLASSE C</td>\n",
       "      <td>65 000 DT</td>\n",
       "      <td>174750</td>\n",
       "      <td>Mercedes-Benz</td>\n",
       "      <td>Classe C</td>\n",
       "      <td>Essence</td>\n",
       "      <td>9</td>\n",
       "      <td>Blanc</td>\n",
       "      <td>Automatique</td>\n",
       "      <td>Mise en circulation 02-2010</td>\n",
       "      <td>https://www.tayara.tn/listings/voitures-9/fa69...</td>\n",
       "    </tr>\n",
       "    <tr>\n",
       "      <th>1040</th>\n",
       "      <td>VW PASSAT TREND</td>\n",
       "      <td>68 000 DT</td>\n",
       "      <td>71000</td>\n",
       "      <td>Volkswagen</td>\n",
       "      <td>Passat</td>\n",
       "      <td>Essence</td>\n",
       "      <td>7</td>\n",
       "      <td>Beige</td>\n",
       "      <td>Manuelle</td>\n",
       "      <td>Mise en circulation 03-2016</td>\n",
       "      <td>https://www.tayara.tn/listings/voitures-9/1ba6...</td>\n",
       "    </tr>\n",
       "    <tr>\n",
       "      <th>1041</th>\n",
       "      <td>B9 tu 218 3place</td>\n",
       "      <td>38 500 DT</td>\n",
       "      <td>171000</td>\n",
       "      <td>Citroen</td>\n",
       "      <td>Berlingo</td>\n",
       "      <td>Diesel</td>\n",
       "      <td>5</td>\n",
       "      <td>Blanc</td>\n",
       "      <td>Autres</td>\n",
       "      <td>🚘Citroën Berlingo 3place</td>\n",
       "      <td>https://www.tayara.tn/listings/voitures-9/775d...</td>\n",
       "    </tr>\n",
       "    <tr>\n",
       "      <th>1042</th>\n",
       "      <td>AUDI A5 SPORTBACK</td>\n",
       "      <td>128 000 DT</td>\n",
       "      <td>105000</td>\n",
       "      <td>Audi</td>\n",
       "      <td>A5</td>\n",
       "      <td>Essence</td>\n",
       "      <td>8</td>\n",
       "      <td>Noir</td>\n",
       "      <td>Automatique</td>\n",
       "      <td>Mise en circulation 12-2017</td>\n",
       "      <td>https://www.tayara.tn/listings/voitures-9/9860...</td>\n",
       "    </tr>\n",
       "    <tr>\n",
       "      <th>1043</th>\n",
       "      <td>MAZDA 6</td>\n",
       "      <td>61 000 DT</td>\n",
       "      <td>133000</td>\n",
       "      <td>Mazda</td>\n",
       "      <td>6</td>\n",
       "      <td>Essence</td>\n",
       "      <td>9</td>\n",
       "      <td>Gris</td>\n",
       "      <td>Automatique</td>\n",
       "      <td>Mise en circulation 11-2015</td>\n",
       "      <td>https://www.tayara.tn/listings/voitures-9/90fc...</td>\n",
       "    </tr>\n",
       "  </tbody>\n",
       "</table>\n",
       "<p>1044 rows × 11 columns</p>\n",
       "</div>"
      ],
      "text/plain": [
       "                        name       price mile_age           make      model  \\\n",
       "0                    voiture        0 DT        0             AC      Seven   \n",
       "1          hyundai i10 sedan        0 DT   170000        Hyundai  Grand i10   \n",
       "2                  Volvo c30        0 DT      117          Volvo        C30   \n",
       "3                   Mercedes        0 DT   340000  Mercedes-Benz  Classe ML   \n",
       "4                Citroën DS4   41 000 DT   131000        Citroen        DS4   \n",
       "...                      ...         ...      ...            ...        ...   \n",
       "1039  MERCEDES-BENZ CLASSE C   65 000 DT   174750  Mercedes-Benz   Classe C   \n",
       "1040         VW PASSAT TREND   68 000 DT    71000     Volkswagen     Passat   \n",
       "1041        B9 tu 218 3place   38 500 DT   171000        Citroen   Berlingo   \n",
       "1042       AUDI A5 SPORTBACK  128 000 DT   105000           Audi         A5   \n",
       "1043                 MAZDA 6   61 000 DT   133000          Mazda          6   \n",
       "\n",
       "         fuel power transmission  engine_size  \\\n",
       "0     Essence    23        Autre       Autres   \n",
       "1     Essence     5         Gris      Berline   \n",
       "2     Essence     6        Blanc     Compacte   \n",
       "3      Diesel    11        4 x 4  Automatique   \n",
       "4     Essence     7         Noir       Autres   \n",
       "...       ...   ...          ...          ...   \n",
       "1039  Essence     9        Blanc  Automatique   \n",
       "1040  Essence     7        Beige     Manuelle   \n",
       "1041   Diesel     5        Blanc       Autres   \n",
       "1042  Essence     8         Noir  Automatique   \n",
       "1043  Essence     9         Gris  Automatique   \n",
       "\n",
       "                                            description  \\\n",
       "0     🚘🚖🚛🚍🚜تحب تشري كرهبة مع 3S LEASING SERVICE 🚘🚗🚕🚖...   \n",
       "1                                          Tel 20329598   \n",
       "2                                 Volvo c30 très propre   \n",
       "3                                           Tout option   \n",
       "4     À ventre une très belle Ds4,très propre ,moteu...   \n",
       "...                                                 ...   \n",
       "1039                        Mise en circulation 02-2010   \n",
       "1040                        Mise en circulation 03-2016   \n",
       "1041                           🚘Citroën Berlingo 3place   \n",
       "1042                        Mise en circulation 12-2017   \n",
       "1043                        Mise en circulation 11-2015   \n",
       "\n",
       "                                          linkofproduct  \n",
       "0     https://www.tayara.tn/listings/voitures-9/fcee...  \n",
       "1     https://www.tayara.tn/listings/voitures-9/9d48...  \n",
       "2     https://www.tayara.tn/listings/voitures-9/49a0...  \n",
       "3     https://www.tayara.tn/listings/voitures-9/fd38...  \n",
       "4     https://www.tayara.tn/listings/voitures-9/77bf...  \n",
       "...                                                 ...  \n",
       "1039  https://www.tayara.tn/listings/voitures-9/fa69...  \n",
       "1040  https://www.tayara.tn/listings/voitures-9/1ba6...  \n",
       "1041  https://www.tayara.tn/listings/voitures-9/775d...  \n",
       "1042  https://www.tayara.tn/listings/voitures-9/9860...  \n",
       "1043  https://www.tayara.tn/listings/voitures-9/90fc...  \n",
       "\n",
       "[1044 rows x 11 columns]"
      ]
     },
     "execution_count": 11,
     "metadata": {},
     "output_type": "execute_result"
    }
   ],
   "source": [
    "df1"
   ]
  },
  {
   "cell_type": "code",
   "execution_count": 13,
   "metadata": {},
   "outputs": [],
   "source": [
    "def func_year(x):\n",
    "    try:\n",
    "        wbD.get(x)\n",
    "        year = check_data('//*[@id=\"app\"]/div[3]/div/span/div/div[3]/div/div[4]/div/div[2]/div/div/div/div[2]/div[2]/div/p')\n",
    "    except:\n",
    "        print(\"eror while scraping this page !\" ,x)\n",
    "    return year"
   ]
  },
  {
   "cell_type": "code",
   "execution_count": null,
   "metadata": {},
   "outputs": [],
   "source": [
    "res_year=[]\n",
    "x=0\n",
    "for i in listOflinks:\n",
    "    res_year.append(func_year(i))\n",
    "    print(func_year(i),'*****',x)\n",
    "    x=x+1\n"
   ]
  },
  {
   "cell_type": "code",
   "execution_count": 17,
   "metadata": {},
   "outputs": [
    {
     "data": {
      "text/plain": [
       "'2003'"
      ]
     },
     "execution_count": 17,
     "metadata": {},
     "output_type": "execute_result"
    }
   ],
   "source": [
    "res_year[5]"
   ]
  },
  {
   "cell_type": "code",
   "execution_count": 18,
   "metadata": {},
   "outputs": [],
   "source": [
    "df1['year']=res_year"
   ]
  },
  {
   "cell_type": "code",
   "execution_count": 20,
   "metadata": {},
   "outputs": [],
   "source": [
    "df1.to_csv('used_car_tayara.csv')"
   ]
  },
  {
   "cell_type": "code",
   "execution_count": 31,
   "metadata": {},
   "outputs": [
    {
     "data": {
      "text/plain": [
       "2017      86\n",
       "2016      85\n",
       "2015      72\n",
       "2010      71\n",
       "2011      52\n",
       "          ..\n",
       "555555     1\n",
       "11         1\n",
       "34500      1\n",
       "1335       1\n",
       "1984       1\n",
       "Name: year, Length: 73, dtype: int64"
      ]
     },
     "execution_count": 31,
     "metadata": {},
     "output_type": "execute_result"
    }
   ],
   "source": [
    "df1['year'].value_counts()"
   ]
  },
  {
   "cell_type": "code",
   "execution_count": null,
   "metadata": {},
   "outputs": [],
   "source": []
  }
 ],
 "metadata": {
  "kernelspec": {
   "display_name": "Python 3",
   "language": "python",
   "name": "python3"
  },
  "language_info": {
   "codemirror_mode": {
    "name": "ipython",
    "version": 3
   },
   "file_extension": ".py",
   "mimetype": "text/x-python",
   "name": "python",
   "nbconvert_exporter": "python",
   "pygments_lexer": "ipython3",
   "version": "3.7.6"
  }
 },
 "nbformat": 4,
 "nbformat_minor": 4
}
