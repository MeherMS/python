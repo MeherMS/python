{
 "cells": [
  {
   "cell_type": "code",
   "execution_count": null,
   "metadata": {},
   "outputs": [],
   "source": [
    "#!pip install selenium"
   ]
  },
  {
   "cell_type": "code",
   "execution_count": null,
   "metadata": {},
   "outputs": [],
   "source": [
    "import selenium\n",
    "from selenium import webdriver as wb\n",
    "import pandas as pd\n",
    "import time"
   ]
  },
  {
   "cell_type": "code",
   "execution_count": null,
   "metadata": {},
   "outputs": [],
   "source": [
    "wbD = wb.Chrome('chromedriver.exe')\n",
    "wbD.get('https://www.tayara.tn/sc/v%C3%A9hicules/voitures')"
   ]
  },
  {
   "cell_type": "code",
   "execution_count": null,
   "metadata": {},
   "outputs": [],
   "source": [
    "productInfoList = wbD.find_elements_by_class_name('card')\n",
    "len(productInfoList)"
   ]
  },
  {
   "cell_type": "code",
   "execution_count": null,
   "metadata": {},
   "outputs": [],
   "source": [
    "pp2=productInfoList[0].find_element_by_tag_name('a').text"
   ]
  },
  {
   "cell_type": "code",
   "execution_count": null,
   "metadata": {},
   "outputs": [],
   "source": [
    "pp2"
   ]
  },
  {
   "cell_type": "code",
   "execution_count": null,
   "metadata": {},
   "outputs": [],
   "source": [
    "productInfoList[2].find_elements_by_tag_name('a')"
   ]
  },
  {
   "cell_type": "code",
   "execution_count": null,
   "metadata": {},
   "outputs": [],
   "source": [
    "pp2=productInfoList[2].find_element_by_tag_name('a')\n",
    "pp2.get_property('href')"
   ]
  },
  {
   "cell_type": "code",
   "execution_count": null,
   "metadata": {},
   "outputs": [],
   "source": [
    "wbD.find_element_by_class_name('a-last').click()"
   ]
  },
  {
   "cell_type": "code",
   "execution_count": null,
   "metadata": {},
   "outputs": [],
   "source": [
    "listOflinks =[]\n",
    "condition =True\n",
    "while condition:\n",
    "    time.sleep(5)\n",
    "    productInfoList=wbD.find_elements_by_class_name('a-size-mini')\n",
    "    for el in productInfoList:\n",
    "        if(el.text !=\"\" and el.text !=\"Sponsored\"):\n",
    "            pp2=el.find_element_by_tag_name('a')\n",
    "            listOflinks.append(pp2.get_property('href'))\n",
    "    try:\n",
    "        wbD.find_element_by_class_name('a-last').find_element_by_tag_name('a').get_property('href')\n",
    "        wbD.find_element_by_class_name('a-last').click()\n",
    "    except:\n",
    "        condition=False"
   ]
  },
  {
   "cell_type": "code",
   "execution_count": null,
   "metadata": {},
   "outputs": [],
   "source": [
    "len(listOflinks)"
   ]
  },
  {
   "cell_type": "code",
   "execution_count": null,
   "metadata": {},
   "outputs": [],
   "source": [
    "#importing libraries\n",
    "import selenium\n",
    "from selenium import webdriver as wb\n",
    "from selenium.webdriver.support.ui import Select\n",
    "import pandas as pd\n",
    "import time\n",
    "\n",
    "# time of scraping\n",
    "timeout = time.time() + 60*5 \n",
    "\n",
    "#Opening Chrome browser\n",
    "wbD=wb.Chrome('chromedriver.exe')\n",
    "\n",
    "#Opening webpage\n",
    "wbD.get('https://www.tayara.tn/sc/v%C3%A9hicules/voitures')\n",
    "\n",
    "#number of page\n",
    "max_number=5\n",
    "for i in range(max_number):\n",
    "    try:\n",
    "        wbD.find_element_by_id('load-more-btn').click()\n",
    "    except:\n",
    "        print(\"something wrong in click \",i)\n",
    "        \n",
    "#Running loop to store the product links in a list\n",
    "listOflinks =[]\n",
    "condition =True \n",
    "while condition:\n",
    "    time.sleep(3)\n",
    "    productInfoList=wbD.find_elements_by_class_name('card')\n",
    "    for el in productInfoList:\n",
    "        try:\n",
    "            pp2=el.find_element_by_tag_name('a')\n",
    "            listOflinks.append(pp2.get_property('href'))\n",
    "        except:\n",
    "            print(\"eror in a href ! please check it !\")\n",
    "    if time.time() > timeout:\n",
    "        break\n",
    "        \n",
    "len(listOflinks)"
   ]
  },
  {
   "cell_type": "code",
   "execution_count": null,
   "metadata": {},
   "outputs": [],
   "source": [
    "df = pd.DataFrame (listOflinks,columns=['listOflinks'])"
   ]
  },
  {
   "cell_type": "code",
   "execution_count": null,
   "metadata": {},
   "outputs": [],
   "source": [
    "df.to_csv('listOflinks_tayara_voiture.csv')"
   ]
  },
  {
   "cell_type": "code",
   "execution_count": null,
   "metadata": {},
   "outputs": [],
   "source": [
    "check_data('//*[@id=\"productTitle\"]').text"
   ]
  },
  {
   "cell_type": "code",
   "execution_count": null,
   "metadata": {},
   "outputs": [],
   "source": [
    "check_data('//*[@id=\"wayfinding-breadcrumbs_feature_div\"]/ul/li[7]/span/a').text"
   ]
  },
  {
   "cell_type": "code",
   "execution_count": null,
   "metadata": {},
   "outputs": [],
   "source": [
    "wbD.find_element_by_class_name('pdTab')"
   ]
  },
  {
   "cell_type": "markdown",
   "metadata": {},
   "source": [
    "<h1>******************</h1>"
   ]
  },
  {
   "cell_type": "code",
   "execution_count": null,
   "metadata": {},
   "outputs": [],
   "source": [
    "import selenium\n",
    "from selenium import webdriver as wb\n",
    "import pandas as pd\n",
    "import time\n",
    "df=pd.read_csv('listOflinks_tayara_voiture.csv')\n",
    "listOflinks=df[\"listOflinks\"].tolist()"
   ]
  },
  {
   "cell_type": "code",
   "execution_count": null,
   "metadata": {},
   "outputs": [],
   "source": [
    "test=listOflinks[20:25]"
   ]
  },
  {
   "cell_type": "code",
   "execution_count": null,
   "metadata": {},
   "outputs": [],
   "source": [
    "test"
   ]
  },
  {
   "cell_type": "code",
   "execution_count": null,
   "metadata": {},
   "outputs": [],
   "source": [
    "def check_data(xpath):\n",
    "    try:\n",
    "        return wbD.find_element_by_xpath(xpath).text\n",
    "    except:\n",
    "        return ''\n",
    "        "
   ]
  },
  {
   "cell_type": "code",
   "execution_count": null,
   "metadata": {},
   "outputs": [],
   "source": [
    "from tqdm import tqdm\n",
    "\n",
    "wbD=wb.Chrome('chromedriver.exe')\n",
    "alldetails=[]\n",
    "brand=\"\"\n",
    "model=\"\"\n",
    "def func(x):\n",
    "    temp={}\n",
    "    try:\n",
    "        \n",
    "        wbD.get(x)\n",
    "        name = check_data('//*[@id=\"app\"]/div[3]/div/span/div/div[3]/div/div[3]/div[1]/div[2]/div/h1')\n",
    "        print(\"--------------->\",name)\n",
    "    \n",
    "        price= check_data('//*[@id=\"app\"]/div[3]/div/span/div/div[3]/div/div[3]/div[1]/div[2]/div/h2[1]/span')\n",
    "        print(\"--------------->\",price)\n",
    "    \n",
    "        mile_age= check_data('//*[@id=\"app\"]/div[3]/div/span/div/div[3]/div/div[4]/div/div[2]/div/div/div/div[1]/div[2]/div/p')\n",
    "        print(\"--------------->\",mile_age)\n",
    "    \n",
    "        make= check_data('//*[@id=\"app\"]/div[3]/div/span/div/div[3]/div/div[4]/div/div[2]/div/div/div/div[3]/div[2]/div/p')\n",
    "        print(\"--------------->\",make)\n",
    "    \n",
    "        model= check_data('//*[@id=\"app\"]/div[3]/div/span/div/div[3]/div/div[4]/div/div[2]/div/div/div/div[4]/div[2]/div/p')\n",
    "        print(\"--------------->\",model)\n",
    "    \n",
    "        fuel= check_data('//*[@id=\"app\"]/div[3]/div/span/div/div[3]/div/div[4]/div/div[2]/div/div/div/div[5]/div[2]/div/p')\n",
    "        print(\"--------------->\",fuel)\n",
    "    \n",
    "        power= check_data('//*[@id=\"app\"]/div[3]/div/span/div/div[3]/div/div[4]/div/div[2]/div/div/div/div[6]/div[2]/div/p')\n",
    "        print(\"--------------->\",power)\n",
    "    \n",
    "        transmission= check_data('//*[@id=\"app\"]/div[3]/div/span/div/div[3]/div/div[4]/div/div[2]/div/div/div/div[7]/div[2]/div/p')\n",
    "        print(\"--------------->\",transmission)\n",
    "        \n",
    "        engine_size= check_data('//*[@id=\"app\"]/div[3]/div/span/div/div[3]/div/div[4]/div/div[2]/div/div/div/div[8]/div[2]/div/p')\n",
    "        print(\"--------------->\",engine_size)\n",
    "    \n",
    "        description= check_data('/html/body/div[1]/div/span/div/div/div/div[3]/div/span/div/div[3]/div/div[4]/div/div[3]/div/div/p')\n",
    "        print(\"--------------->\",description)\n",
    "        temp ={\n",
    "            'name':name,\n",
    "            'price':price,\n",
    "            'mile_age':mile_age,\n",
    "            'make':make,\n",
    "            'model':model,\n",
    "            'fuel':fuel,\n",
    "            'power':power,\n",
    "            'transmission':transmission,\n",
    "            'engine_size':engine_size,\n",
    "            'description':description,\n",
    "            'linkofproduct':i}\n",
    "        \n",
    "    except:\n",
    "        print(\"eror while scraping this page !\" ,x)\n",
    "    \n",
    "   \n",
    "    \n",
    "    alldetails.append(temp)\n",
    "    \n",
    "    return alldetails"
   ]
  },
  {
   "cell_type": "code",
   "execution_count": null,
   "metadata": {},
   "outputs": [],
   "source": [
    "res=[]\n",
    "for i in listOflinks:\n",
    "    res.append(func(i))\n",
    "\n"
   ]
  },
  {
   "cell_type": "code",
   "execution_count": null,
   "metadata": {},
   "outputs": [],
   "source": [
    "df1 = pd.DataFrame(res)"
   ]
  },
  {
   "cell_type": "code",
   "execution_count": null,
   "metadata": {},
   "outputs": [],
   "source": [
    "import multiprocessing as mp\n",
    "print(\"Number of processors: \", mp.cpu_count())"
   ]
  },
  {
   "cell_type": "code",
   "execution_count": null,
   "metadata": {},
   "outputs": [],
   "source": [
    "import multiprocessing as mp\n",
    "pool = mp.Pool(mp.cpu_count())\n",
    "\n",
    "results = []\n",
    "\n",
    "# Step 1: Redefine, to accept `i`, the iteration number\n",
    "def howmany_within_range2(i, row, minimum, maximum):\n",
    "    \"\"\"Returns how many numbers lie within `maximum` and `minimum` in a given `row`\"\"\"\n",
    "    count = 0\n",
    "    for n in row:\n",
    "        if minimum <= n <= maximum:\n",
    "            count = count + 1\n",
    "    return (i, count)\n",
    "\n",
    "\n",
    "# Step 2: Define callback function to collect the output in `results`\n",
    "def collect_result(result):\n",
    "    global results\n",
    "    results.append(result)\n",
    "\n",
    "\n",
    "# Step 3: Use loop to parallelize\n",
    "for i, row in enumerate(data):\n",
    "    pool.apply_async(howmany_within_range2, args=(i, row, 4, 8), callback=collect_result)\n",
    "\n",
    "# Step 4: Close Pool and let all the processes complete    \n",
    "pool.close()\n",
    "pool.join()  # postpones the execution of next line of code until all processes in the queue are done.\n",
    "\n",
    "# Step 5: Sort results [OPTIONAL]\n",
    "#results.sort(key=lambda x: x[0])\n",
    "#results_final = [r for i, r in results]\n",
    "\n",
    "print(results[:10])"
   ]
  },
  {
   "cell_type": "code",
   "execution_count": null,
   "metadata": {},
   "outputs": [],
   "source": [
    "from multiprocessing import Pool\n",
    "\n",
    "\n",
    "\n"
   ]
  },
  {
   "cell_type": "code",
   "execution_count": null,
   "metadata": {},
   "outputs": [],
   "source": [
    "alldetails=[]\n",
    "pool = Pool()                      \n",
    "#print(pool.map(func,test))\n",
    "for i in test:\n",
    "    pool.apply_async(func, args=(i), callback=alldetails)\n"
   ]
  },
  {
   "cell_type": "code",
   "execution_count": null,
   "metadata": {},
   "outputs": [],
   "source": [
    "alldetails"
   ]
  },
  {
   "cell_type": "code",
   "execution_count": null,
   "metadata": {},
   "outputs": [],
   "source": []
  },
  {
   "cell_type": "code",
   "execution_count": null,
   "metadata": {},
   "outputs": [],
   "source": []
  },
  {
   "cell_type": "code",
   "execution_count": null,
   "metadata": {},
   "outputs": [],
   "source": [
    "#importing libraries\n",
    "import selenium\n",
    "from selenium import webdriver as wb\n",
    "from selenium.webdriver.support.ui import Select\n",
    "import pandas as pd\n",
    "import time\n",
    "wbD=wb.Chrome('chromedriver.exe')\n",
    "\n",
    "#Opening webpage\n",
    "wbD.get('https://www.autoscout24.fr/')\n",
    "d=wbD.find_element_by_id('makeId').text\n"
   ]
  },
  {
   "cell_type": "code",
   "execution_count": null,
   "metadata": {},
   "outputs": [],
   "source": [
    "dd=d.split('\\n')"
   ]
  },
  {
   "cell_type": "code",
   "execution_count": null,
   "metadata": {},
   "outputs": [],
   "source": []
  },
  {
   "cell_type": "code",
   "execution_count": null,
   "metadata": {},
   "outputs": [],
   "source": [
    "for option1 in el1.find_elements(By.TAG_NAME,'option'):\n",
    "                    try:\n",
    "                        selectModel = Select(driver.find_element_by_id(\"vehicleGroupId\"))\n",
    "                        selectModel.select_by_visible_text(option1.text)\n",
    "                        model=option1.text\n",
    "                    except:\n",
    "                        print('problem in model')\n",
    "                        model=''\n",
    "                    temp ={\n",
    "                            'make':marque,\n",
    "                            'model':model,\n",
    "                            'year':year}\n",
    "    \n",
    "                    allCar.append(temp)"
   ]
  },
  {
   "cell_type": "code",
   "execution_count": null,
   "metadata": {},
   "outputs": [],
   "source": [
    "allCar"
   ]
  },
  {
   "cell_type": "code",
   "execution_count": null,
   "metadata": {},
   "outputs": [],
   "source": [
    "\n",
    "marque = iter(dd)\n",
    "next(marque)"
   ]
  },
  {
   "cell_type": "code",
   "execution_count": null,
   "metadata": {},
   "outputs": [],
   "source": [
    "cars"
   ]
  },
  {
   "cell_type": "code",
   "execution_count": null,
   "metadata": {},
   "outputs": [],
   "source": [
    "from selenium.webdriver.support.select import Select\n",
    "from selenium.webdriver import Chrome\n",
    "from selenium.common.exceptions import NoSuchElementException\n",
    "\n",
    "import itertools\n",
    "from pprint import pformat\n",
    "\n",
    "\n",
    "def apply_values(dropdowns, values):\n",
    "    \"\"\"\n",
    "    :param dropdowns: list of select DropDown\n",
    "    :param values: list of values to set\n",
    "    :return: dict with key=dropdownName, value=dropDownValue\n",
    "    \"\"\"\n",
    "    r = {}\n",
    "    for value in values:\n",
    "        # For each value, get the associated DropDown and set it\n",
    "        for dropdown in dropdowns:\n",
    "            if value in dropdown.values:\n",
    "                try:\n",
    "                    dropdown.select_by_visible_text(value)\n",
    "                    r[dropdown.name] = value\n",
    "                except NoSuchElementException:\n",
    "                    # print(\"Unable to set the following values {}..Skipping\".format(values))\n",
    "                    # This is caused by an option not being available with other selected dropdown values\n",
    "                    # You can also check the attribute disabled for this\n",
    "                    return False\n",
    "                break\n",
    "    return r\n",
    "\n",
    "\n",
    "driver = Chrome()\n",
    "driver.get('https://www.autoscout24.fr/voiture/bmw/')\n",
    "els = driver.find_elements_by_xpath('//*[@id=\"cl-react-seo-catalogue\"]/div/div[1]/div/div/div[1]/div/input')\n",
    "selects = []\n",
    "for el in iter(els):\n",
    "    # Adding the dropdown name to the select object\n",
    "    name = el.get_attribute('name')\n",
    "    select = Select(el)\n",
    "    select.name = name\n",
    "    selects.append(select)\n",
    "\n",
    "print(\"Get all options for each dropdown\")\n",
    "for idx, sel in enumerate(selects):\n",
    "    sel.values = [option.text for option in sel.options][1:]\n",
    "\n",
    "print(\"Get all possible permutations\")\n",
    "permutations = list(itertools.product(*[sel.values for sel in selects]))\n",
    "\n",
    "# Iteration for all possible permutation\n",
    "print(\"Select all possible permutation and get price for each\")\n",
    "results = []\n",
    "for permutation in permutations:\n",
    "    # Resetting all parameter to default\n",
    "    for sel in selects:\n",
    "        sel.select_by_index(0)\n",
    "    # Iteration to set each dropdown\n",
    "    result = apply_values(selects, permutation)\n",
    "    if result:\n",
    "        # Once all dropdown value are set, get the finally price\n",
    "        result['model'] = driver.find_element_by_xpath(\"react-autocomplete__input\").text\n",
    "        results.append(result)\n",
    "\n",
    "\n",
    "print(pformat(results))\n",
    "\n",
    "driver.close()"
   ]
  },
  {
   "cell_type": "code",
   "execution_count": null,
   "metadata": {},
   "outputs": [],
   "source": [
    "for i in range(len(results)):\n",
    "    results[i]['year']=results[i]['year'].split('\\n')"
   ]
  },
  {
   "cell_type": "code",
   "execution_count": null,
   "metadata": {},
   "outputs": [],
   "source": [
    "for i in range(len(results)):\n",
    "    if results[i]['year'][0]=='1ère immatriculation':\n",
    "        results[i]['year'][0]=\"\""
   ]
  },
  {
   "cell_type": "code",
   "execution_count": null,
   "metadata": {},
   "outputs": [],
   "source": [
    "results"
   ]
  },
  {
   "cell_type": "code",
   "execution_count": null,
   "metadata": {},
   "outputs": [],
   "source": [
    "df1 = pd.DataFrame(results)"
   ]
  },
  {
   "cell_type": "code",
   "execution_count": null,
   "metadata": {},
   "outputs": [],
   "source": [
    "df1['year'][1]"
   ]
  },
  {
   "cell_type": "code",
   "execution_count": null,
   "metadata": {},
   "outputs": [],
   "source": []
  },
  {
   "cell_type": "code",
   "execution_count": null,
   "metadata": {},
   "outputs": [],
   "source": [
    "ls = driver.find_element_by_xpath('//*[@id=\"cl-react-seo-catalogue\"]/div/div[1]/div/div/div[2]').text"
   ]
  },
  {
   "cell_type": "code",
   "execution_count": null,
   "metadata": {},
   "outputs": [],
   "source": [
    "make=ls.split('\\n')"
   ]
  },
  {
   "cell_type": "code",
   "execution_count": null,
   "metadata": {},
   "outputs": [],
   "source": [
    "from selenium.webdriver.common.by import By"
   ]
  },
  {
   "cell_type": "code",
   "execution_count": null,
   "metadata": {},
   "outputs": [],
   "source": [
    "\n",
    "bmw_model=driver.find_element_by_xpath('//*[@id=\"cl-react-seo-catalogue\"]/div/div[2]/div/div/div[2]').text.split('\\n')\n",
    "bmw_model"
   ]
  },
  {
   "cell_type": "code",
   "execution_count": null,
   "metadata": {},
   "outputs": [],
   "source": [
    "mercedes_model=driver.find_element_by_xpath('//*[@id=\"cl-react-seo-catalogue\"]/div/div[2]/div/div/div[2]').text.split('\\n')\n",
    "mercedes_model"
   ]
  },
  {
   "cell_type": "code",
   "execution_count": null,
   "metadata": {},
   "outputs": [],
   "source": [
    "Audi_model=driver.find_element_by_xpath('//*[@id=\"cl-react-seo-catalogue\"]/div/div[2]/div/div/div[2]').text.split('\\n')\n",
    "Audi_model"
   ]
  },
  {
   "cell_type": "code",
   "execution_count": null,
   "metadata": {},
   "outputs": [],
   "source": [
    "Volkswagen_model=driver.find_element_by_xpath('//*[@id=\"cl-react-seo-catalogue\"]/div/div[2]/div/div/div[2]').text.split('\\n')\n",
    "Volkswagen_model"
   ]
  },
  {
   "cell_type": "code",
   "execution_count": null,
   "metadata": {},
   "outputs": [],
   "source": [
    "Peugeot_model=driver.find_element_by_xpath('//*[@id=\"cl-react-seo-catalogue\"]/div/div[2]/div/div/div[2]').text.split('\\n')\n",
    "Peugeot_model"
   ]
  },
  {
   "cell_type": "code",
   "execution_count": null,
   "metadata": {},
   "outputs": [],
   "source": [
    "Renault_model=driver.find_element_by_xpath('//*[@id=\"cl-react-seo-catalogue\"]/div/div[2]/div/div/div[2]').text.split('\\n')\n",
    "Renault_model"
   ]
  },
  {
   "cell_type": "code",
   "execution_count": null,
   "metadata": {},
   "outputs": [],
   "source": [
    "Citroen_model=driver.find_element_by_xpath('//*[@id=\"cl-react-seo-catalogue\"]/div/div[2]/div/div/div[2]').text.split('\\n')\n",
    "Citroen_model"
   ]
  },
  {
   "cell_type": "code",
   "execution_count": null,
   "metadata": {},
   "outputs": [],
   "source": [
    "AlphaRomeo_model=driver.find_element_by_xpath('//*[@id=\"cl-react-seo-catalogue\"]/div/div[2]/div/div/div[2]').text.split('\\n')\n",
    "AlphaRomeo_model"
   ]
  },
  {
   "cell_type": "code",
   "execution_count": null,
   "metadata": {},
   "outputs": [],
   "source": [
    "Chevrolet_model=driver.find_element_by_xpath('//*[@id=\"cl-react-seo-catalogue\"]/div/div[2]/div/div/div[2]').text.split('\\n')\n",
    "Chevrolet_model"
   ]
  },
  {
   "cell_type": "code",
   "execution_count": null,
   "metadata": {},
   "outputs": [],
   "source": [
    "fiat_model=driver.find_element_by_xpath('//*[@id=\"cl-react-seo-catalogue\"]/div/div[2]/div/div/div[2]').text.split('\\n')\n",
    "fiat_model"
   ]
  },
  {
   "cell_type": "code",
   "execution_count": null,
   "metadata": {},
   "outputs": [],
   "source": [
    "fiat_model=driver.find_element_by_xpath('//*[@id=\"cl-react-seo-catalogue\"]/div/div[2]/div/div/div[2]').text.split('\\n')\n",
    "fiat_model"
   ]
  },
  {
   "cell_type": "code",
   "execution_count": null,
   "metadata": {},
   "outputs": [],
   "source": [
    "ford_model=driver.find_element_by_xpath('//*[@id=\"cl-react-seo-catalogue\"]/div/div[2]/div/div/div[2]').text.split('\\n')\n",
    "ford_model"
   ]
  },
  {
   "cell_type": "code",
   "execution_count": null,
   "metadata": {},
   "outputs": [],
   "source": [
    "honda_model=driver.find_element_by_xpath('//*[@id=\"cl-react-seo-catalogue\"]/div/div[2]/div/div/div[2]').text.split('\\n')\n",
    "honda_model"
   ]
  },
  {
   "cell_type": "code",
   "execution_count": null,
   "metadata": {},
   "outputs": [],
   "source": [
    "hyundai_model=driver.find_element_by_xpath('//*[@id=\"cl-react-seo-catalogue\"]/div/div[2]/div/div/div[2]').text.split('\\n')\n",
    "hyundai_model"
   ]
  },
  {
   "cell_type": "code",
   "execution_count": null,
   "metadata": {},
   "outputs": [],
   "source": [
    "isuzu_model=driver.find_element_by_xpath('//*[@id=\"cl-react-seo-catalogue\"]/div/div[2]/div/div/div[2]').text.split('\\n')\n",
    "isuzu_model"
   ]
  },
  {
   "cell_type": "code",
   "execution_count": null,
   "metadata": {},
   "outputs": [],
   "source": [
    "iveco_model=driver.find_element_by_xpath('//*[@id=\"cl-react-seo-catalogue\"]/div/div[2]/div/div/div[2]').text.split('\\n')\n",
    "iveco_model"
   ]
  },
  {
   "cell_type": "code",
   "execution_count": null,
   "metadata": {},
   "outputs": [],
   "source": [
    "mahindra_model=driver.find_element_by_xpath('//*[@id=\"cl-react-seo-catalogue\"]/div/div[2]/div/div/div[2]').text.split('\\n')\n",
    "mahindra_model"
   ]
  },
  {
   "cell_type": "code",
   "execution_count": null,
   "metadata": {},
   "outputs": [],
   "source": [
    "mazda_model=driver.find_element_by_xpath('//*[@id=\"cl-react-seo-catalogue\"]/div/div[2]/div/div/div[2]').text.split('\\n')\n",
    "mazda_model"
   ]
  },
  {
   "cell_type": "code",
   "execution_count": null,
   "metadata": {},
   "outputs": [],
   "source": [
    "mini_model=driver.find_element_by_xpath('//*[@id=\"cl-react-seo-catalogue\"]/div/div[2]/div/div/div[2]').text.split('\\n')\n",
    "mini_model"
   ]
  },
  {
   "cell_type": "code",
   "execution_count": null,
   "metadata": {},
   "outputs": [],
   "source": [
    "mitsubishi_model=driver.find_element_by_xpath('//*[@id=\"cl-react-seo-catalogue\"]/div/div[2]/div/div/div[2]').text.split('\\n')\n",
    "mitsubishi_model"
   ]
  },
  {
   "cell_type": "code",
   "execution_count": null,
   "metadata": {},
   "outputs": [],
   "source": [
    "nissan_model=driver.find_element_by_xpath('//*[@id=\"cl-react-seo-catalogue\"]/div/div[2]/div/div/div[2]').text.split('\\n')\n",
    "nissan_model"
   ]
  },
  {
   "cell_type": "code",
   "execution_count": null,
   "metadata": {},
   "outputs": [],
   "source": [
    "opel_model=driver.find_element_by_xpath('//*[@id=\"cl-react-seo-catalogue\"]/div/div[2]/div/div/div[2]').text.split('\\n')\n",
    "opel_model"
   ]
  },
  {
   "cell_type": "code",
   "execution_count": null,
   "metadata": {},
   "outputs": [],
   "source": [
    "rolls_royce_model=driver.find_element_by_xpath('//*[@id=\"cl-react-seo-catalogue\"]/div/div[2]/div/div/div[2]').text.split('\\n')\n",
    "rolls_royce_model"
   ]
  },
  {
   "cell_type": "code",
   "execution_count": null,
   "metadata": {},
   "outputs": [],
   "source": [
    "rover_model=driver.find_element_by_xpath('//*[@id=\"cl-react-seo-catalogue\"]/div/div[2]/div/div/div[2]').text.split('\\n')\n",
    "rover_model"
   ]
  },
  {
   "cell_type": "code",
   "execution_count": null,
   "metadata": {},
   "outputs": [],
   "source": [
    "seat_model=driver.find_element_by_xpath('//*[@id=\"cl-react-seo-catalogue\"]/div/div[2]/div/div/div[2]').text.split('\\n')\n",
    "seat_model"
   ]
  },
  {
   "cell_type": "code",
   "execution_count": null,
   "metadata": {},
   "outputs": [],
   "source": [
    "skoda_model=driver.find_element_by_xpath('//*[@id=\"cl-react-seo-catalogue\"]/div/div[2]/div/div/div[2]').text.split('\\n')\n",
    "skoda_model"
   ]
  },
  {
   "cell_type": "code",
   "execution_count": null,
   "metadata": {},
   "outputs": [],
   "source": [
    "tesla_model=driver.find_element_by_xpath('//*[@id=\"cl-react-seo-catalogue\"]/div/div[2]/div/div/div[2]').text.split('\\n')\n",
    "tesla_model"
   ]
  },
  {
   "cell_type": "code",
   "execution_count": null,
   "metadata": {},
   "outputs": [],
   "source": [
    "toyota_model=driver.find_element_by_xpath('//*[@id=\"cl-react-seo-catalogue\"]/div/div[2]/div/div/div[2]').text.split('\\n')\n",
    "toyota_model"
   ]
  },
  {
   "cell_type": "code",
   "execution_count": null,
   "metadata": {},
   "outputs": [],
   "source": [
    "model=[bmw_model,mercedes_model,Audi_model,Volkswagen_model,Peugeot_model,Renault_model,Citroen_model,AlphaRomeo_model,Chevrolet_model,\n",
    "      fiat_model,ford_model,honda_model,hyundai_model,isuzu_model,iveco_model,mahindra_model,mazda_model,\n",
    "      mini_model,mitsubishi_model,nissan_model,opel_model,rolls_royce_model,rover_model,skoda_model,tesla_model,toyota_model]\n",
    "final=[]\n",
    "for i in range(len(model)):\n",
    "    for j in range(len(model[i])):\n",
    "        temp ={'make':make[i],'model':model[i][j]}\n",
    "        final.append(temp)\n",
    "            "
   ]
  },
  {
   "cell_type": "code",
   "execution_count": null,
   "metadata": {},
   "outputs": [],
   "source": [
    "make_name=[\"bmw\",'mercedes','Audi' ,'Volkswagen' ,'Peugeot' ,'Renault' ,'Citroen' ,'AlphaRomeo' ,'Chevrolet' ,\n",
    "      'fiat' ,'ford' ,'honda' ,'hyundai' ,'isuzu' ,'iveco' ,'mahindra' ,'mazda' ,\n",
    "      'mini' ,'mitsubishi' ,'nissan' ,'opel' ,'rolls_royce' ,'rover' ,'skoda' ,'tesla' ,'toyota' ]\n",
    "\n",
    "\n",
    "for i in range(len(model)):\n",
    "    for j in range(len(model[i])):\n",
    "        temp ={'make':make_name[i],'model':model[i][j]}\n",
    "        final.append(temp)\n",
    "dddd=pd.DataFrame(final)     "
   ]
  },
  {
   "cell_type": "code",
   "execution_count": null,
   "metadata": {},
   "outputs": [],
   "source": [
    "ddd=pd.DataFrame(final)"
   ]
  },
  {
   "cell_type": "code",
   "execution_count": null,
   "metadata": {},
   "outputs": [],
   "source": [
    "ddd.to_csv('make_model.csv')"
   ]
  },
  {
   "cell_type": "code",
   "execution_count": null,
   "metadata": {},
   "outputs": [],
   "source": []
  },
  {
   "cell_type": "code",
   "execution_count": null,
   "metadata": {},
   "outputs": [],
   "source": []
  },
  {
   "cell_type": "code",
   "execution_count": null,
   "metadata": {},
   "outputs": [],
   "source": [
    "url = 'https://www.tayara.tn/sc/v%C3%A9hicules/voitures'\n",
    "driver.get(url)\n",
    "loadingButton = WebDriverWait(driver,30).until(EC.presence_of_element_located((By.XPATH,'//*[@id=\"load-more-btn\"]')))\n",
    "maxTires = 30;\n",
    "while loadingButton:\n",
    "    loadingButton.click()\n",
    "    time.sleep(2)\n",
    "    WebDriverWait(driver,30).until(EC.presence_of_element_located((By.XPATH,\"//div[@id='is_loading'][contains(@style,'none')]\")))\n",
    "    #loadElems = driver.find_elements_by_xpath(\"//div[@id='load_button'][contains(@style,'block')]\")\n",
    "    if len(loadElems)>0:\n",
    "        loadingButton = driver.find_element_by_xpath(\"//div[@id='load_button'][contains(@style,'block')]\")\n",
    "        tiresLoaded = len(driver.find_elements_by_css_selector(\".catResultWrapper.result\"))\n",
    "    else:\n",
    "        print(\"Loaded all the tires\")\n",
    "        break\n",
    "    if tiresLoaded >= maxTires:\n",
    "        print (tiresLoaded + \" are loaded successfully.\")\n",
    "        break"
   ]
  },
  {
   "cell_type": "code",
   "execution_count": null,
   "metadata": {},
   "outputs": [],
   "source": [
    "//*[@id=\"load-more-btn\"]\n",
    "//*[@id=\"load-more-btn\"]"
   ]
  },
  {
   "cell_type": "code",
   "execution_count": null,
   "metadata": {},
   "outputs": [],
   "source": [
    "#importing libraries\n",
    "import selenium\n",
    "from selenium import webdriver as wb\n",
    "from selenium.webdriver.support.ui import Select\n",
    "import pandas as pd\n",
    "import time\n",
    "from selenium.webdriver.common.by import By\n",
    "from selenium.webdriver.support.ui import WebDriverWait\n",
    "from selenium.webdriver.support import expected_conditions as EC\n",
    "# time of scraping\n",
    "timeout = time.time() + 60*5 \n",
    "\n",
    "#Opening Chrome browser\n",
    "wbD=wb.Chrome('chromedriver.exe')\n",
    "\n",
    "#Opening webpage\n",
    "wbD.get('https://www.tayara.tn/sc/v%C3%A9hicules/voitures')\n",
    "\n",
    "#number of page\n",
    "max_number=29\n",
    "for i in range(max_number):\n",
    "    time.sleep(2)\n",
    "   \n",
    "    try:\n",
    "        loadingButton = WebDriverWait(wbD,30).until(EC.presence_of_element_located((By.XPATH,'//*[@id=\"load-more-btn\"]')))\n",
    "        loadingButton.click()\n",
    "    except:\n",
    "        print(\"something wrong in click \",i)\n",
    "        \n",
    "#Running loop to store the product links in a list\n",
    "listOflinks =[]\n",
    "condition =True \n",
    "while condition:\n",
    "    time.sleep(3)\n",
    "    productInfoList=wbD.find_elements_by_class_name('card')\n",
    "    for el in productInfoList:\n",
    "        try:\n",
    "            pp2=el.find_element_by_tag_name('a')\n",
    "            listOflinks.append(pp2.get_property('href'))\n",
    "        except:\n",
    "            print(\"eror in a href ! please check it !\")\n",
    "        i=i+1\n",
    "    if time.time() > timeout or i>=len(productInfoList):\n",
    "        condition =False \n",
    "        break\n",
    "        \n",
    "len(listOflinks)"
   ]
  },
  {
   "cell_type": "code",
   "execution_count": null,
   "metadata": {
    "scrolled": true
   },
   "outputs": [],
   "source": [
    "listOflinks"
   ]
  },
  {
   "cell_type": "code",
   "execution_count": null,
   "metadata": {},
   "outputs": [],
   "source": [
    "newlist=pd.DataFrame({'listOflinks':listOflinks})\n",
    "newlist.to_csv('listOflinks_tayara_voiture2.csv')"
   ]
  },
  {
   "cell_type": "code",
   "execution_count": null,
   "metadata": {},
   "outputs": [],
   "source": []
  }
 ],
 "metadata": {
  "kernelspec": {
   "display_name": "Python 3",
   "language": "python",
   "name": "python3"
  },
  "language_info": {
   "codemirror_mode": {
    "name": "ipython",
    "version": 3
   },
   "file_extension": ".py",
   "mimetype": "text/x-python",
   "name": "python",
   "nbconvert_exporter": "python",
   "pygments_lexer": "ipython3",
   "version": "3.7.6"
  }
 },
 "nbformat": 4,
 "nbformat_minor": 4
}
