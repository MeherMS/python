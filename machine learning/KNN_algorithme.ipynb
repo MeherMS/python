{
 "cells": [
  {
   "cell_type": "code",
   "execution_count": 159,
   "metadata": {},
   "outputs": [
    {
     "name": "stdout",
     "output_type": "stream",
     "text": [
      "[5.91079613418799, 9.876457536816986, 10.572997687479983, 20.116175491926015, 21.617416082730983, 24.123695499939004, 44.039328102571005, 51.43069696811102, 79.58309065913701]\n"
     ]
    }
   ],
   "source": [
    "import pandas , random , math\n",
    "data=pandas.read_csv('dataset/weight-height.csv')\n",
    "gender=data[[\"Gender\"]]\n",
    "height=data[[\"Height\"]]\n",
    "weight=data[[\"Weight\"]]\n",
    "df=splitdata(weight,0.7,trainingset,testset)\n",
    "distances=[]\n",
    "for i in range (len(df[0])):\n",
    "    x=df[0][i]\n",
    "    x1=df[1][0]\n",
    "    distances.append(distance(x[1],x1[1]))\n",
    "   # t=df[1][]\n",
    "    #print(\"by using\",k,\"NN gender prredected is\",g,\" and the right gender is\",t[0])\n",
    "print(sorted(distances))\n",
    "\n",
    "\n",
    "\n",
    "\n",
    "def splitdata(filename,split,trainingset,testset):\n",
    "    trainingset1=[]\n",
    "    trainingset2=[]\n",
    "    testset1=[]\n",
    "    testset2=[]\n",
    "    for row in range(20):\n",
    "        if random.random() < split:\n",
    "                    trainingset1.append(gender.iloc[row])\n",
    "                    trainingset2.append(float(filename.iloc[row]))\n",
    "        else:\n",
    "                    testset1.append(str(gender.iloc[row]))\n",
    "                    testset2.append(float(filename.iloc[row]))\n",
    "    return(list(zip(testset1,testset2)),list(zip(trainingset1,trainingset2)))\n",
    "\n",
    "def distance (x,y):\n",
    "    return math.sqrt((x-y)**2)"
   ]
  },
  {
   "cell_type": "code",
   "execution_count": 153,
   "metadata": {},
   "outputs": [
    {
     "ename": "IndentationError",
     "evalue": "unindent does not match any outer indentation level (<tokenize>, line 7)",
     "output_type": "error",
     "traceback": [
      "\u001b[1;36m  File \u001b[1;32m\"<tokenize>\"\u001b[1;36m, line \u001b[1;32m7\u001b[0m\n\u001b[1;33m    dataset=list(csv.reader(csvfile))\u001b[0m\n\u001b[1;37m    ^\u001b[0m\n\u001b[1;31mIndentationError\u001b[0m\u001b[1;31m:\u001b[0m unindent does not match any outer indentation level\n"
     ]
    }
   ],
   "source": [
    "import csv , random , math\n",
    "def splitdata(filename,split):\n",
    "   \n",
    "    with open (filename,'r') as csvfile:\n",
    "         global trainingset\n",
    "            global testset\n",
    "        dataset=list(csv.reader(csvfile))\n",
    "        for row in range(1,1000):\n",
    "            for col in range(1,3):\n",
    "                if random.random() < split:\n",
    "                    trainingset[row][0]=dataset[row][0]\n",
    "                    trainingset[row][col]=float(dataset[row][col])\n",
    "                else:\n",
    "                    testset[row][0]=dataset[row][0]\n",
    "                    testset[row][col]=float(dataset[row][col])\n",
    "def distance (x,y):\n",
    "    return math.sqrt((x-y)**2) \n",
    "\n",
    "splitdata(\"dataset/weight-height.csv\",0.7)   \n",
    "print(len(testset))\n",
    "print(len(trainingset))\n",
    "print(testset)\n",
    "\n",
    "for j in range (1,len(testset)):\n",
    "    for i in range(1,len(trainingset)):\n",
    "        #distancelist[i][0]=trainingset[i][0]\n",
    "        distancelist[i][1]=distance(testset[j][1],trainingset[i][1])\n",
    "    print(\"*******************************************************\")\n",
    "print(distancelist)    \n",
    "    \n",
    "    "
   ]
  },
  {
   "cell_type": "code",
   "execution_count": null,
   "metadata": {},
   "outputs": [],
   "source": []
  },
  {
   "cell_type": "code",
   "execution_count": null,
   "metadata": {},
   "outputs": [],
   "source": []
  }
 ],
 "metadata": {
  "kernelspec": {
   "display_name": "Python 3",
   "language": "python",
   "name": "python3"
  },
  "language_info": {
   "codemirror_mode": {
    "name": "ipython",
    "version": 3
   },
   "file_extension": ".py",
   "mimetype": "text/x-python",
   "name": "python",
   "nbconvert_exporter": "python",
   "pygments_lexer": "ipython3",
   "version": "3.7.1"
  }
 },
 "nbformat": 4,
 "nbformat_minor": 2
}
