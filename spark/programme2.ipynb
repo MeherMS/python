{
 "cells": [
  {
   "cell_type": "code",
   "execution_count": 6,
   "metadata": {},
   "outputs": [],
   "source": [
    "from pyspark.sql import SparkSession , Row\n",
    "import collections"
   ]
  },
  {
   "cell_type": "code",
   "execution_count": 5,
   "metadata": {},
   "outputs": [],
   "source": [
    "def ConvertRow(ligne):\n",
    "    fields=ligne.split(',')\n",
    "    return Row(ID=int(fields[0]),pays=str(fields[3].encode(\"utf-8\")))"
   ]
  },
  {
   "cell_type": "code",
   "execution_count": 7,
   "metadata": {},
   "outputs": [],
   "source": [
    "spark= SparkSession.builder.config(\"spark.sql.warehouse.dir\",\"file:///C:/tmp\").appName(\"programme2\").getOrCreate()"
   ]
  },
  {
   "cell_type": "code",
   "execution_count": 8,
   "metadata": {},
   "outputs": [],
   "source": [
    "lignes=spark.sparkContext.textFile(\"agents.csv\")"
   ]
  },
  {
   "cell_type": "code",
   "execution_count": 9,
   "metadata": {},
   "outputs": [],
   "source": [
    "First=lignes.map(ConvertRow)"
   ]
  },
  {
   "cell_type": "code",
   "execution_count": 11,
   "metadata": {},
   "outputs": [],
   "source": [
    "SchemaPeople = spark.createDataFrame(First)"
   ]
  },
  {
   "cell_type": "code",
   "execution_count": 12,
   "metadata": {},
   "outputs": [],
   "source": [
    "SchemaPeople.createOrReplaceTempView(\"pays\")"
   ]
  },
  {
   "cell_type": "code",
   "execution_count": 14,
   "metadata": {},
   "outputs": [],
   "source": [
    "query=spark.sql(\"SELECT * FROM pays\")"
   ]
  },
  {
   "cell_type": "code",
   "execution_count": 16,
   "metadata": {},
   "outputs": [
    {
     "name": "stdout",
     "output_type": "stream",
     "text": [
      "+-------------------+-----+\n",
      "|               pays|count|\n",
      "+-------------------+-----+\n",
      "|   b'United States'|  461|\n",
      "|       b'Indonesia'|  336|\n",
      "|         b'Bahrain'|    2|\n",
      "|     b'Switzerland'|   12|\n",
      "|   b'Guinea-Bissau'|    2|\n",
      "|          b'Israel'|    6|\n",
      "|         b'Jamaica'|    3|\n",
      "|b'Papua New Guinea'|   13|\n",
      "|           b'Niger'|   28|\n",
      "|  b'United Kingdom'|  104|\n",
      "|     b'Afghanistan'|   49|\n",
      "|       b'Guatemala'|   20|\n",
      "|       b'Mauritius'|    1|\n",
      "|          b'Jordan'|   16|\n",
      "|           b'Macau'|    1|\n",
      "|           b'Ghana'|   42|\n",
      "|          b'Mexico'|  183|\n",
      "|    b'South Africa'|   69|\n",
      "|        b'Cameroon'|   30|\n",
      "|         b'Belgium'|   11|\n",
      "+-------------------+-----+\n",
      "only showing top 20 rows\n",
      "\n"
     ]
    }
   ],
   "source": [
    "SchemaPeople.groupBy(\"pays\").count().show() "
   ]
  },
  {
   "cell_type": "code",
   "execution_count": null,
   "metadata": {},
   "outputs": [],
   "source": []
  }
 ],
 "metadata": {
  "kernelspec": {
   "display_name": "Python 3",
   "language": "python",
   "name": "python3"
  },
  "language_info": {
   "codemirror_mode": {
    "name": "ipython",
    "version": 3
   },
   "file_extension": ".py",
   "mimetype": "text/x-python",
   "name": "python",
   "nbconvert_exporter": "python",
   "pygments_lexer": "ipython3",
   "version": "3.7.1"
  }
 },
 "nbformat": 4,
 "nbformat_minor": 2
}
