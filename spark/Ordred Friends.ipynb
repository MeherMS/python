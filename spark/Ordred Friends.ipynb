{
 "cells": [
  {
   "cell_type": "markdown",
   "metadata": {},
   "source": [
    "# Ordred Friends"
   ]
  },
  {
   "cell_type": "code",
   "execution_count": 1,
   "metadata": {},
   "outputs": [],
   "source": [
    "import findspark\n",
    "findspark.init('C:\\\\Spark')\n",
    "#findspark.find()\n"
   ]
  },
  {
   "cell_type": "code",
   "execution_count": 2,
   "metadata": {},
   "outputs": [],
   "source": [
    "from pyspark import SparkConf , SparkContext"
   ]
  },
  {
   "cell_type": "code",
   "execution_count": 3,
   "metadata": {},
   "outputs": [],
   "source": [
    "conf = SparkConf().setMaster (\"local\").setAppName(\"Friends\")\n",
    "sc = SparkContext (conf = conf)\n",
    "\n",
    "    \n"
   ]
  },
  {
   "cell_type": "code",
   "execution_count": 4,
   "metadata": {},
   "outputs": [],
   "source": [
    "def parseLine(line) :\n",
    "    fields = line.split (',')\n",
    "    age =int(fields[2])\n",
    "    numFriends =int(fields[3])\n",
    "    return (age , numFriends)"
   ]
  },
  {
   "cell_type": "code",
   "execution_count": 5,
   "metadata": {},
   "outputs": [],
   "source": [
    "lines = sc.textFile(\"C:/Users/meher/Downloads/datasets/fakefriends.csv\")\n",
    "rdd=lines.map(parseLine)\n",
    "maxByAge =rdd.mapValues(lambda x:(x)).reduceByKey(lambda x ,y:(max(x,y))).sortByKey(ascending = False).collect()\n",
    "\n"
   ]
  },
  {
   "cell_type": "code",
   "execution_count": 6,
   "metadata": {},
   "outputs": [
    {
     "name": "stdout",
     "output_type": "stream",
     "text": [
      "(69, 491)\n",
      "(68, 490)\n",
      "(67, 445)\n",
      "(66, 496)\n",
      "(65, 443)\n",
      "(64, 499)\n",
      "(63, 469)\n",
      "(62, 496)\n",
      "(61, 469)\n",
      "(60, 324)\n",
      "(59, 439)\n",
      "(58, 348)\n",
      "(57, 465)\n",
      "(56, 444)\n",
      "(55, 474)\n",
      "(54, 462)\n",
      "(53, 451)\n",
      "(52, 487)\n",
      "(51, 493)\n",
      "(50, 436)\n",
      "(49, 476)\n",
      "(48, 439)\n",
      "(47, 488)\n",
      "(46, 462)\n",
      "(45, 497)\n",
      "(44, 499)\n",
      "(43, 428)\n",
      "(42, 467)\n",
      "(41, 397)\n",
      "(40, 465)\n",
      "(39, 275)\n",
      "(38, 459)\n",
      "(37, 471)\n",
      "(36, 493)\n",
      "(35, 428)\n",
      "(34, 423)\n",
      "(33, 471)\n",
      "(32, 412)\n",
      "(31, 481)\n",
      "(30, 487)\n",
      "(29, 367)\n",
      "(28, 378)\n",
      "(27, 471)\n",
      "(26, 492)\n",
      "(25, 485)\n",
      "(24, 492)\n",
      "(23, 392)\n",
      "(22, 478)\n",
      "(21, 491)\n",
      "(20, 384)\n",
      "(19, 404)\n",
      "(18, 499)\n"
     ]
    }
   ],
   "source": [
    "for result in maxByAge :\n",
    "        print(result)"
   ]
  },
  {
   "cell_type": "code",
   "execution_count": null,
   "metadata": {},
   "outputs": [],
   "source": []
  },
  {
   "cell_type": "code",
   "execution_count": null,
   "metadata": {},
   "outputs": [],
   "source": []
  },
  {
   "cell_type": "code",
   "execution_count": null,
   "metadata": {},
   "outputs": [],
   "source": []
  },
  {
   "cell_type": "code",
   "execution_count": null,
   "metadata": {},
   "outputs": [],
   "source": []
  },
  {
   "cell_type": "code",
   "execution_count": null,
   "metadata": {},
   "outputs": [],
   "source": []
  },
  {
   "cell_type": "code",
   "execution_count": null,
   "metadata": {},
   "outputs": [],
   "source": []
  },
  {
   "cell_type": "code",
   "execution_count": null,
   "metadata": {},
   "outputs": [],
   "source": []
  },
  {
   "cell_type": "code",
   "execution_count": null,
   "metadata": {},
   "outputs": [],
   "source": []
  },
  {
   "cell_type": "code",
   "execution_count": null,
   "metadata": {},
   "outputs": [],
   "source": []
  }
 ],
 "metadata": {
  "kernelspec": {
   "display_name": "Python 3",
   "language": "python",
   "name": "python3"
  },
  "language_info": {
   "codemirror_mode": {
    "name": "ipython",
    "version": 3
   },
   "file_extension": ".py",
   "mimetype": "text/x-python",
   "name": "python",
   "nbconvert_exporter": "python",
   "pygments_lexer": "ipython3",
   "version": "3.7.1"
  }
 },
 "nbformat": 4,
 "nbformat_minor": 2
}
