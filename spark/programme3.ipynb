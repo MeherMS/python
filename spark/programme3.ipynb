{
 "cells": [
  {
   "cell_type": "code",
   "execution_count": 18,
   "metadata": {},
   "outputs": [],
   "source": [
    "from pyspark import SparkConf , SparkContext\n",
    "import sys"
   ]
  },
  {
   "cell_type": "code",
   "execution_count": 3,
   "metadata": {},
   "outputs": [],
   "source": [
    "conf = SparkConf().setMaster (\"local\").setAppName(\"programme3\")\n",
    "sc = SparkContext (conf = conf)"
   ]
  },
  {
   "cell_type": "code",
   "execution_count": 24,
   "metadata": {},
   "outputs": [],
   "source": [
    "def loadData() :\n",
    "    emp ={}  \n",
    "    with open(\"agents.csv\") as f: \n",
    "        for line in f:   \n",
    "            fields=line.split(',')\n",
    "            emp[int(fields[0])]=fields[1],fields[2],fields[3]\n",
    "    return emp   "
   ]
  },
  {
   "cell_type": "code",
   "execution_count": 26,
   "metadata": {},
   "outputs": [],
   "source": [
    "def PairsEmployes(User):\n",
    "    dis=User[1]\n",
    "    (emp1,dist1)=dis[0]\n",
    "    (emp2,dist2)=dis[1]\n",
    "    return ((emp1,emp2),(dist1,dist2))\n",
    "    "
   ]
  },
  {
   "cell_type": "code",
   "execution_count": null,
   "metadata": {},
   "outputs": [],
   "source": [
    "import math\n",
    "def distance(long1,lat1,long2,lat2):\n",
    "    return  math.sqrt((long2 - long1)**2 + (lat2 - lat1)**2)"
   ]
  },
  {
   "cell_type": "code",
   "execution_count": 27,
   "metadata": {},
   "outputs": [],
   "source": [
    "lines = sc.textFile(\"agents.csv\")\n",
    "nameDict=loadData()"
   ]
  },
  {
   "cell_type": "code",
   "execution_count": 29,
   "metadata": {},
   "outputs": [],
   "source": [
    "d =lines.map(lambda x:x.split()).map(lambda y :(int(y[1]),(int(y[2]),y[3])))"
   ]
  },
  {
   "cell_type": "code",
   "execution_count": 33,
   "metadata": {},
   "outputs": [],
   "source": [
    "emp=d.map(PairsEmployes)"
   ]
  },
  {
   "cell_type": "code",
   "execution_count": 36,
   "metadata": {},
   "outputs": [],
   "source": [
    "emp_by_key=emp.groupByKey()"
   ]
  },
  {
   "cell_type": "code",
   "execution_count": 37,
   "metadata": {},
   "outputs": [],
   "source": [
    "distances=emp_by_key.mapValues(distance)"
   ]
  },
  {
   "cell_type": "code",
   "execution_count": 38,
   "metadata": {},
   "outputs": [],
   "source": [
    "resultsFiltred = distances.filter(lambda Sim: (Sim[0][0]==id_emp or Sim[0][1]==id_emp))"
   ]
  },
  {
   "cell_type": "code",
   "execution_count": 40,
   "metadata": {},
   "outputs": [],
   "source": [
    "resultsF=resultsFiltred.map(lambda res:(res[1],res[0])).sortByKey(ascending=False)"
   ]
  },
  {
   "cell_type": "code",
   "execution_count": null,
   "metadata": {},
   "outputs": [],
   "source": []
  }
 ],
 "metadata": {
  "kernelspec": {
   "display_name": "Python 3",
   "language": "python",
   "name": "python3"
  },
  "language_info": {
   "codemirror_mode": {
    "name": "ipython",
    "version": 3
   },
   "file_extension": ".py",
   "mimetype": "text/x-python",
   "name": "python",
   "nbconvert_exporter": "python",
   "pygments_lexer": "ipython3",
   "version": "3.7.1"
  }
 },
 "nbformat": 4,
 "nbformat_minor": 2
}
