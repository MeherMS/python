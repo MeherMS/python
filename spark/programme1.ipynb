{
 "cells": [
  {
   "cell_type": "code",
   "execution_count": 3,
   "metadata": {},
   "outputs": [],
   "source": [
    "from pyspark import SparkConf , SparkContext"
   ]
  },
  {
   "cell_type": "code",
   "execution_count": 2,
   "metadata": {},
   "outputs": [
    {
     "data": {
      "text/plain": [
       "'C:\\\\Spark'"
      ]
     },
     "execution_count": 2,
     "metadata": {},
     "output_type": "execute_result"
    }
   ],
   "source": [
    "import findspark\n",
    "findspark.init('C:\\\\Spark')\n",
    "findspark.find()"
   ]
  },
  {
   "cell_type": "code",
   "execution_count": 4,
   "metadata": {},
   "outputs": [],
   "source": [
    "conf = SparkConf().setMaster (\"local\").setAppName(\"programme1\")\n",
    "sc = SparkContext (conf = conf)"
   ]
  },
  {
   "cell_type": "code",
   "execution_count": 9,
   "metadata": {},
   "outputs": [],
   "source": [
    "def parseLine(line) :\n",
    "    fields = line.split (',')\n",
    "    pays =fields[3]\n",
    "    return (pays,)"
   ]
  },
  {
   "cell_type": "code",
   "execution_count": 10,
   "metadata": {},
   "outputs": [],
   "source": [
    "lines = sc.textFile(\"agents.csv\")\n",
    "rdd=lines.map(parseLine)\n",
    "#number_employe=rdd.mapValues(lambda x:(x)).reduceByKey(lambda x ,y:(max(x,y))).sortByKey(ascending = False).collect()\n",
    "\n"
   ]
  },
  {
   "cell_type": "code",
   "execution_count": 13,
   "metadata": {},
   "outputs": [
    {
     "ename": "AttributeError",
     "evalue": "'collections.defaultdict' object has no attribute 'sort'",
     "output_type": "error",
     "traceback": [
      "\u001b[1;31m---------------------------------------------------------------------------\u001b[0m",
      "\u001b[1;31mAttributeError\u001b[0m                            Traceback (most recent call last)",
      "\u001b[1;32m<ipython-input-13-52255bb3272a>\u001b[0m in \u001b[0;36m<module>\u001b[1;34m\u001b[0m\n\u001b[1;32m----> 1\u001b[1;33m \u001b[0mnumber_employe\u001b[0m \u001b[1;33m=\u001b[0m \u001b[0mrdd\u001b[0m\u001b[1;33m.\u001b[0m\u001b[0mcountByValue\u001b[0m\u001b[1;33m(\u001b[0m\u001b[1;33m)\u001b[0m\u001b[1;33m.\u001b[0m\u001b[0msort\u001b[0m\u001b[1;33m(\u001b[0m\u001b[1;33m)\u001b[0m\u001b[1;33m\u001b[0m\u001b[1;33m\u001b[0m\u001b[0m\n\u001b[0m",
      "\u001b[1;31mAttributeError\u001b[0m: 'collections.defaultdict' object has no attribute 'sort'"
     ]
    }
   ],
   "source": [
    "number_employe = rdd.countByValue().sort()"
   ]
  },
  {
   "cell_type": "code",
   "execution_count": 23,
   "metadata": {},
   "outputs": [
    {
     "name": "stdout",
     "output_type": "stream",
     "text": [
      "China 1812\n",
      "Haiti 14\n",
      "India 1733\n",
      "Philippines 160\n",
      "Nigeria 255\n",
      "Mali 25\n",
      "Thailand 111\n",
      "Pakistan 315\n",
      "Central African Republic 5\n",
      "Tanzania 63\n",
      "Ghana 42\n",
      "Brazil 264\n",
      "Turkey 103\n",
      "Afghanistan 49\n",
      "Indonesia 336\n",
      "Uganda 56\n",
      "Mexico 183\n",
      "Ethiopia 120\n",
      "Germany 114\n",
      "Malaysia 54\n",
      "United States 461\n",
      "Chad 20\n",
      "Switzerland 12\n",
      "Iraq 46\n",
      "Kenya 59\n",
      "Netherlands 34\n",
      "\"Congo 123\n",
      "Argentina 52\n",
      "Russia 185\n",
      "Egypt 110\n",
      "Bangladesh 227\n",
      "Rwanda 20\n",
      "Algeria 54\n",
      "Papua New Guinea 13\n",
      "South Sudan 26\n",
      "Sudan 60\n",
      "\"Korea 121\n",
      "Benin 10\n",
      "Mozambique 39\n",
      "South Africa 69\n",
      "Cote d'Ivoire 30\n",
      "Canada 46\n",
      "Syria 35\n",
      "Burundi 24\n",
      "Kazakhstan 29\n",
      "Paraguay 9\n",
      "Burma 71\n",
      "Senegal 17\n",
      "Uzbekistan 47\n",
      "France 94\n",
      "Vietnam 134\n",
      "Turkmenistan 9\n",
      "Angola 28\n",
      "Japan 171\n",
      "Ireland 5\n",
      "Bosnia and Herzegovina 9\n",
      "Austria 16\n",
      "Malawi 30\n",
      "Cameroon 30\n",
      "Burkina Faso 19\n",
      "Honduras 18\n",
      "Chile 15\n",
      "Eritrea 8\n",
      "Peru 41\n",
      "Denmark 8\n",
      "Nepal 32\n",
      "Spain 61\n",
      "Colombia 70\n",
      "Poland 50\n",
      "Israel 6\n",
      "Slovenia 2\n",
      "Libya 9\n",
      "Zimbabwe 26\n",
      "Niger 28\n",
      "Laos 6\n",
      "Comoros 2\n",
      "Sri Lanka 43\n",
      "Azerbaijan 18\n",
      "Madagascar 25\n",
      "Finland 11\n",
      "Costa Rica 5\n",
      "Iran 119\n",
      "Italy 59\n",
      "Ukraine 48\n",
      "Yemen 43\n",
      "Zambia 24\n",
      "Australia 33\n",
      "Morocco 35\n",
      "Equatorial Guinea 1\n",
      "United Kingdom 104\n",
      "Saudi Arabia 54\n",
      "Venezuela 44\n",
      "Cuba 11\n",
      "Belarus 11\n",
      "Taiwan 33\n",
      "Bahrain 2\n",
      "Serbia 9\n",
      "Jordan 16\n",
      "Guinea 15\n",
      "Liberia 5\n",
      "Bulgaria 9\n",
      "Somalia 13\n",
      "Armenia 4\n",
      "Croatia 8\n",
      "Dominican Republic 15\n",
      "United Arab Emirates 9\n",
      "Sweden 18\n",
      "Lebanon 3\n",
      "Nicaragua 12\n",
      "Bolivia 9\n",
      "Togo 6\n",
      "Czech Republic 24\n",
      "Guatemala 20\n",
      "Bhutan 3\n",
      "Romania 29\n",
      "Portugal 12\n",
      "Panama 7\n",
      "Tajikistan 13\n",
      "El Salvador 9\n",
      "Lithuania 3\n",
      "Mauritania 6\n",
      "Djibouti 3\n",
      "Cambodia 17\n",
      "Ecuador 25\n",
      "Norway 3\n",
      "New Zealand 5\n",
      "Singapore 8\n",
      "Moldova 5\n",
      "Hong Kong 6\n",
      "Greece 12\n",
      "Kyrgyzstan 10\n",
      "Sierra Leone 6\n",
      "Hungary 9\n",
      "Belgium 11\n",
      "Jamaica 3\n",
      "Uruguay 5\n",
      "Tunisia 8\n",
      "Puerto Rico 4\n",
      "Gaza Strip 2\n",
      "Latvia 3\n",
      "Oman 6\n",
      "Macedonia 3\n",
      "Albania 7\n",
      "Mongolia 6\n",
      "Georgia 7\n",
      "Guinea-Bissau 2\n",
      "Timor-Leste 1\n",
      "Namibia 4\n",
      "Cabo Verde 1\n",
      "Montenegro 1\n",
      "\"Gambia 1\n",
      "Lesotho 1\n",
      "Slovakia 7\n",
      "Suriname 2\n",
      "Macau 1\n",
      "Cyprus 1\n",
      "Swaziland 1\n",
      "Kosovo 1\n",
      "Qatar 3\n",
      "Kuwait 2\n",
      "Guyana 2\n",
      "Trinidad and Tobago 1\n",
      "Mauritius 1\n",
      "Botswana 1\n",
      "French Polynesia 1\n",
      "Estonia 1\n"
     ]
    }
   ],
   "source": [
    "for word, count in number_employe.items():\n",
    "    wordclean = word.encode('ascii','ignore')\n",
    "    if (wordclean):\n",
    "        print (wordclean.decode() + \" \" + str(count))"
   ]
  },
  {
   "cell_type": "code",
   "execution_count": null,
   "metadata": {},
   "outputs": [],
   "source": []
  }
 ],
 "metadata": {
  "kernelspec": {
   "display_name": "Python 3",
   "language": "python",
   "name": "python3"
  },
  "language_info": {
   "codemirror_mode": {
    "name": "ipython",
    "version": 3
   },
   "file_extension": ".py",
   "mimetype": "text/x-python",
   "name": "python",
   "nbconvert_exporter": "python",
   "pygments_lexer": "ipython3",
   "version": "3.7.1"
  }
 },
 "nbformat": 4,
 "nbformat_minor": 2
}
