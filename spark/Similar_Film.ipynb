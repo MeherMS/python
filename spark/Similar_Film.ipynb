{
 "cells": [
  {
   "cell_type": "code",
   "execution_count": 3,
   "metadata": {},
   "outputs": [],
   "source": [
    "import findspark\n",
    "findspark.init('C:\\\\Spark')\n"
   ]
  },
  {
   "cell_type": "code",
   "execution_count": 4,
   "metadata": {},
   "outputs": [],
   "source": [
    "import sys"
   ]
  },
  {
   "cell_type": "code",
   "execution_count": 5,
   "metadata": {},
   "outputs": [],
   "source": [
    "from pyspark import SparkConf , SparkContext\n",
    "from math import sqrt"
   ]
  },
  {
   "cell_type": "code",
   "execution_count": 6,
   "metadata": {},
   "outputs": [],
   "source": [
    "def DuplicateFilter(UserRatings):  #def de fonction ou on va eliminer la redondance \n",
    "    ratings=UserRatings[1]\n",
    "    (movie1,rating1)=ratings[0]\n",
    "    (movie2,rating2)=ratings[1]\n",
    "    return movie1 < movie2\n",
    "    "
   ]
  },
  {
   "cell_type": "code",
   "execution_count": 12,
   "metadata": {},
   "outputs": [],
   "source": [
    "def loadMoviesNames() : #bch naamlou def lil structure du dictionnaire disant n7adhrou lil variable Broadcast\n",
    "    moviesNames ={}   #khtr wala aandna tuple(dictionnaire)\n",
    "    with open(\"C:/Users/meher/Desktop/python/dataset/ml-100k/u.ITEM\") as f:  #with open elle va creer un dictionnaire qui existe deja dans le rep\n",
    "        for line in f:    #parcequ'on va parcourir le fichier u.item et on va prendre les tires des films lihoma item[1] \n",
    "            fields=line.split('|')\n",
    "            moviesNames[int(fields[0])]=fields[1]\n",
    "    return moviesNames       "
   ]
  },
  {
   "cell_type": "code",
   "execution_count": 19,
   "metadata": {},
   "outputs": [],
   "source": [
    "def PairsFilms(UserRatings):\n",
    "    ratings=UserRatings[1]\n",
    "    (movie1,rating1)=ratings[0]\n",
    "    (movie2,rating2)=ratings[1]\n",
    "    return ((movie1,movie2),(rating1,rating2))\n",
    "    \n",
    "    "
   ]
  },
  {
   "cell_type": "code",
   "execution_count": 8,
   "metadata": {},
   "outputs": [],
   "source": [
    "def computeCosSimilarity (ratingsPairs) :\n",
    "    num_pairs=0\n",
    "    XX=XY=YY=0\n",
    "    for ratingX , ratingY in ratingsPairs :\n",
    "        XX=XX+ratingX * ratingX\n",
    "        XY=XY+ratingX * ratingY\n",
    "        YY=YY+ratingY * ratingY\n",
    "        num_pairs+=1\n",
    "    Denominateur=sqrt(XX)+sqrt(YY)\n",
    "    final=0\n",
    "    if(Denominateur):\n",
    "        final=XY / (float(Denominateur))\n",
    "    return (final,num_pairs)"
   ]
  },
  {
   "cell_type": "code",
   "execution_count": 9,
   "metadata": {},
   "outputs": [],
   "source": [
    "conf = SparkConf().setMaster (\"local[*]\").setAppName(\"Similar_film\")\n",
    "sc = SparkContext (conf = conf)"
   ]
  },
  {
   "cell_type": "code",
   "execution_count": 10,
   "metadata": {},
   "outputs": [],
   "source": [
    "lines = sc.textFile(\"C:/Users/meher/Desktop/python/dataset/ml-100k/u.data\")"
   ]
  },
  {
   "cell_type": "code",
   "execution_count": 13,
   "metadata": {},
   "outputs": [],
   "source": [
    "nameDict=loadMoviesNames()"
   ]
  },
  {
   "cell_type": "code",
   "execution_count": 14,
   "metadata": {},
   "outputs": [],
   "source": [
    "ratings =lines.map(lambda x:x.split()).map(lambda y :(int(y[0]),(int(y[1]),float(y[2])))) #l map lawla aamalna beha ta9ssim % l split w thenya aamalna structure mtaa (userID,(FilmID,Rating)) li homa (key,value)"
   ]
  },
  {
   "cell_type": "code",
   "execution_count": 15,
   "metadata": {},
   "outputs": [],
   "source": [
    "joinedRatings=ratings.join(ratings)"
   ]
  },
  {
   "cell_type": "code",
   "execution_count": 16,
   "metadata": {},
   "outputs": [],
   "source": [
    "UniqueRatings=joinedRatings.filter(DuplicateFilter) \n",
    "    "
   ]
  },
  {
   "cell_type": "code",
   "execution_count": 20,
   "metadata": {},
   "outputs": [],
   "source": [
    "moviePairs=UniqueRatings.map(PairsFilms)"
   ]
  },
  {
   "cell_type": "code",
   "execution_count": 21,
   "metadata": {
    "scrolled": true
   },
   "outputs": [],
   "source": [
    "movisPairsRatings=moviePairs.groupByKey()"
   ]
  },
  {
   "cell_type": "code",
   "execution_count": 22,
   "metadata": {},
   "outputs": [],
   "source": [
    "moviesPairsSim=movisPairsRatings.mapValues(computeCosSimilarity).cache() #pour garder cette valeur dans la RAM"
   ]
  },
  {
   "cell_type": "code",
   "execution_count": 26,
   "metadata": {},
   "outputs": [],
   "source": [
    "IDFilm=17"
   ]
  },
  {
   "cell_type": "code",
   "execution_count": 27,
   "metadata": {},
   "outputs": [],
   "source": [
    "resultsFiltred = moviesPairsSim.filter(lambda Sim: (Sim[0][0]==IDFilm or Sim[0][1]==IDFilm))"
   ]
  },
  {
   "cell_type": "code",
   "execution_count": 28,
   "metadata": {
    "scrolled": true
   },
   "outputs": [],
   "source": [
    "resultsF=resultsFiltred.map(lambda res:(res[1],res[0])).sortByKey(ascending=False).take(5)  #hni glebna l key wl value kenet ((idFilm1,idfilm2),(score,nbre)) (key,value) wallet aandi l aaks ((score,nbre),(idFilm1,idfilm2)) aala khtr bch naaml tri mtaa l score w hni aandna kn sortedbykey"
   ]
  },
  {
   "cell_type": "code",
   "execution_count": 29,
   "metadata": {},
   "outputs": [
    {
     "name": "stdout",
     "output_type": "stream",
     "text": [
      "Top 5 films similaires à From Dusk Till Dawn (1996)\n",
      "Pulp Fiction (1994):\t le score est :16.662164035141572\t Nombre d'occurence :86\n",
      "Star Wars (1977):\t le score est :16.32816140967038\t Nombre d'occurence :84\n",
      "Raiders of the Lost Ark (1981):\t le score est :15.887627125172587\t Nombre d'occurence :81\n",
      "Silence of the Lambs, The (1991):\t le score est :15.452030210112612\t Nombre d'occurence :76\n",
      "Empire Strikes Back, The (1980):\t le score est :15.435101693247365\t Nombre d'occurence :76\n"
     ]
    }
   ],
   "source": [
    "print (\"Top 5 films similaires à \" + nameDict[IDFilm])\n",
    "for result in resultsF :\n",
    "    (Similarity , Films) = result\n",
    "    FilmSimilaire= Films[0]\n",
    "    if (FilmSimilaire==IDFilm):\n",
    "        FilmSimilaire= Films[1]\n",
    "        print(nameDict[FilmSimilaire]+\":\\t le score est :\"+str(Similarity[0])+\"\\t Nombre d'occurence :\" +str(Similarity[1]))"
   ]
  },
  {
   "cell_type": "code",
   "execution_count": null,
   "metadata": {},
   "outputs": [],
   "source": []
  },
  {
   "cell_type": "code",
   "execution_count": null,
   "metadata": {},
   "outputs": [],
   "source": []
  },
  {
   "cell_type": "code",
   "execution_count": null,
   "metadata": {},
   "outputs": [],
   "source": []
  }
 ],
 "metadata": {
  "kernelspec": {
   "display_name": "Python 3",
   "language": "python",
   "name": "python3"
  },
  "language_info": {
   "codemirror_mode": {
    "name": "ipython",
    "version": 3
   },
   "file_extension": ".py",
   "mimetype": "text/x-python",
   "name": "python",
   "nbconvert_exporter": "python",
   "pygments_lexer": "ipython3",
   "version": "3.7.1"
  }
 },
 "nbformat": 4,
 "nbformat_minor": 2
}
