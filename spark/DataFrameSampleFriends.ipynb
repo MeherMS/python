{
 "cells": [
  {
   "cell_type": "code",
   "execution_count": 1,
   "metadata": {},
   "outputs": [
    {
     "data": {
      "text/plain": [
       "'C:\\\\Spark'"
      ]
     },
     "execution_count": 1,
     "metadata": {},
     "output_type": "execute_result"
    }
   ],
   "source": [
    "import findspark\n",
    "findspark.init()\n",
    "findspark.find()"
   ]
  },
  {
   "cell_type": "code",
   "execution_count": 2,
   "metadata": {},
   "outputs": [],
   "source": [
    "from pyspark.sql import SparkSession , Row"
   ]
  },
  {
   "cell_type": "code",
   "execution_count": 3,
   "metadata": {},
   "outputs": [],
   "source": [
    "import collections"
   ]
  },
  {
   "cell_type": "code",
   "execution_count": 4,
   "metadata": {},
   "outputs": [],
   "source": [
    "def ConvertRow(ligne):\n",
    "    fields=ligne.split(',')\n",
    "    return Row(ID=int(fields[0]),nom=str(fields[1].encode(\"utf-8\")),age=int(fields[2]),NbAmis=int(fields[3]))"
   ]
  },
  {
   "cell_type": "code",
   "execution_count": 5,
   "metadata": {},
   "outputs": [],
   "source": [
    "spark= SparkSession.builder.config(\"spark.sql.warehouse.dir\",\"file:///C:/tmp\").appName(\"FirstSample\").getOrCreate() #spark.sql.warehouse.dir ?"
   ]
  },
  {
   "cell_type": "code",
   "execution_count": 6,
   "metadata": {},
   "outputs": [],
   "source": [
    "lignes=spark.sparkContext.textFile(\"fakefriends.csv\")"
   ]
  },
  {
   "cell_type": "code",
   "execution_count": 7,
   "metadata": {},
   "outputs": [],
   "source": [
    "First=lignes.map(ConvertRow) #7awelnehom l ROW"
   ]
  },
  {
   "cell_type": "code",
   "execution_count": 8,
   "metadata": {},
   "outputs": [],
   "source": [
    "SchemaPeople = spark.createDataFrame(First).cache() #pour definir le schema de mn dataFrame w nkhalou copie f ram(mémoire vive)"
   ]
  },
  {
   "cell_type": "code",
   "execution_count": 9,
   "metadata": {},
   "outputs": [],
   "source": [
    "SchemaPeople.createOrReplaceTempView(\"people\") #7awelnehom l table"
   ]
  },
  {
   "cell_type": "code",
   "execution_count": 10,
   "metadata": {},
   "outputs": [],
   "source": [
    "#create une requete SQL"
   ]
  },
  {
   "cell_type": "code",
   "execution_count": 11,
   "metadata": {},
   "outputs": [],
   "source": [
    "query=spark.sql(\"SELECT * FROM people where age >=15 AND age <=20 \")"
   ]
  },
  {
   "cell_type": "code",
   "execution_count": 12,
   "metadata": {
    "collapsed": true
   },
   "outputs": [
    {
     "name": "stdout",
     "output_type": "stream",
     "text": [
      "Row(ID=21, NbAmis=268, age=19, nom=\"b'Miles'\")\n",
      "Row(ID=48, NbAmis=1, age=20, nom=\"b'Nog'\")\n",
      "Row(ID=52, NbAmis=269, age=19, nom=\"b'Beverly'\")\n",
      "Row(ID=54, NbAmis=5, age=19, nom=\"b'Brunt'\")\n",
      "Row(ID=60, NbAmis=100, age=20, nom=\"b'Geordi'\")\n",
      "Row(ID=73, NbAmis=384, age=20, nom=\"b'Brunt'\")\n",
      "Row(ID=106, NbAmis=499, age=18, nom=\"b'Beverly'\")\n",
      "Row(ID=115, NbAmis=397, age=18, nom=\"b'Dukat'\")\n",
      "Row(ID=133, NbAmis=265, age=19, nom=\"b'Quark'\")\n",
      "Row(ID=136, NbAmis=335, age=19, nom=\"b'Will'\")\n",
      "Row(ID=225, NbAmis=106, age=19, nom=\"b'Elim'\")\n",
      "Row(ID=304, NbAmis=404, age=19, nom=\"b'Will'\")\n",
      "Row(ID=327, NbAmis=63, age=20, nom=\"b'Julian'\")\n",
      "Row(ID=341, NbAmis=326, age=18, nom=\"b'Data'\")\n",
      "Row(ID=349, NbAmis=277, age=20, nom=\"b'Kasidy'\")\n",
      "Row(ID=366, NbAmis=119, age=19, nom=\"b'Keiko'\")\n",
      "Row(ID=373, NbAmis=272, age=19, nom=\"b'Quark'\")\n",
      "Row(ID=377, NbAmis=418, age=18, nom=\"b'Beverly'\")\n",
      "Row(ID=404, NbAmis=24, age=18, nom=\"b'Kasidy'\")\n",
      "Row(ID=409, NbAmis=267, age=19, nom=\"b'Nog'\")\n",
      "Row(ID=439, NbAmis=417, age=18, nom=\"b'Data'\")\n",
      "Row(ID=444, NbAmis=472, age=18, nom=\"b'Keiko'\")\n",
      "Row(ID=492, NbAmis=36, age=19, nom=\"b'Dukat'\")\n",
      "Row(ID=494, NbAmis=194, age=18, nom=\"b'Kasidy'\")\n"
     ]
    }
   ],
   "source": [
    "for people in query.collect():\n",
    "    print(people)"
   ]
  },
  {
   "cell_type": "code",
   "execution_count": 13,
   "metadata": {
    "scrolled": true
   },
   "outputs": [
    {
     "data": {
      "text/plain": [
       "pyspark.sql.types.Row"
      ]
     },
     "execution_count": 13,
     "metadata": {},
     "output_type": "execute_result"
    }
   ],
   "source": [
    "type(people)"
   ]
  },
  {
   "cell_type": "code",
   "execution_count": 16,
   "metadata": {},
   "outputs": [
    {
     "name": "stdout",
     "output_type": "stream",
     "text": [
      "+---+-----+\n",
      "|age|count|\n",
      "+---+-----+\n",
      "| 18|    8|\n",
      "| 19|   11|\n",
      "| 20|    5|\n",
      "| 21|    8|\n",
      "| 22|    7|\n",
      "| 23|   10|\n",
      "| 24|    5|\n",
      "| 25|   11|\n",
      "| 26|   17|\n",
      "| 27|    8|\n",
      "| 28|   10|\n",
      "| 29|   12|\n",
      "| 30|   11|\n",
      "| 31|    8|\n",
      "| 32|   11|\n",
      "| 33|   12|\n",
      "| 34|    6|\n",
      "| 35|    8|\n",
      "| 36|   10|\n",
      "| 37|    9|\n",
      "+---+-----+\n",
      "only showing top 20 rows\n",
      "\n"
     ]
    }
   ],
   "source": [
    "SchemaPeople.groupBy(\"age\").count().orderBy(\"age\").show() "
   ]
  },
  {
   "cell_type": "code",
   "execution_count": null,
   "metadata": {},
   "outputs": [],
   "source": []
  },
  {
   "cell_type": "code",
   "execution_count": null,
   "metadata": {},
   "outputs": [],
   "source": []
  },
  {
   "cell_type": "code",
   "execution_count": null,
   "metadata": {},
   "outputs": [],
   "source": []
  }
 ],
 "metadata": {
  "kernelspec": {
   "display_name": "Python 3",
   "language": "python",
   "name": "python3"
  },
  "language_info": {
   "codemirror_mode": {
    "name": "ipython",
    "version": 3
   },
   "file_extension": ".py",
   "mimetype": "text/x-python",
   "name": "python",
   "nbconvert_exporter": "python",
   "pygments_lexer": "ipython3",
   "version": "3.7.1"
  }
 },
 "nbformat": 4,
 "nbformat_minor": 2
}
